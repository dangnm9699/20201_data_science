{
 "cells": [
  {
   "cell_type": "code",
   "execution_count": 1,
   "metadata": {
    "executionInfo": {
     "elapsed": 3131,
     "status": "ok",
     "timestamp": 1609771045717,
     "user": {
      "displayName": "Đăng Nguyễn Minh",
      "photoUrl": "https://lh3.googleusercontent.com/a-/AOh14GiHxFhiRiZfO2-tnxt2jb6zdUBS7JCK-jWOoyFD5g=s64",
      "userId": "17785050953591290309"
     },
     "user_tz": -420
    },
    "id": "eEIN2QB8VGJx"
   },
   "outputs": [],
   "source": [
    "import pandas as pd\n",
    "import numpy as np\n",
    "import matplotlib.pyplot as plt\n",
    "import seaborn as sns\n",
    "import math"
   ]
  },
  {
   "cell_type": "markdown",
   "metadata": {
    "id": "9hjtvlLSVGJ4"
   },
   "source": [
    "# Preprocessing"
   ]
  },
  {
   "cell_type": "markdown",
   "metadata": {
    "id": "qSNoUaUPVGJ5"
   },
   "source": [
    "## Load raw data"
   ]
  },
  {
   "cell_type": "code",
   "execution_count": 2,
   "metadata": {
    "colab": {
     "base_uri": "https://localhost:8080/",
     "height": 499
    },
    "executionInfo": {
     "elapsed": 7603,
     "status": "ok",
     "timestamp": 1609771050197,
     "user": {
      "displayName": "Đăng Nguyễn Minh",
      "photoUrl": "https://lh3.googleusercontent.com/a-/AOh14GiHxFhiRiZfO2-tnxt2jb6zdUBS7JCK-jWOoyFD5g=s64",
      "userId": "17785050953591290309"
     },
     "user_tz": -420
    },
    "id": "H9xtQ0oSVGJ6",
    "outputId": "06e44ccf-a0a1-48d0-ac23-1c8b1c509c16"
   },
   "outputs": [
    {
     "data": {
      "text/html": [
       "<div>\n",
       "<style scoped>\n",
       "    .dataframe tbody tr th:only-of-type {\n",
       "        vertical-align: middle;\n",
       "    }\n",
       "\n",
       "    .dataframe tbody tr th {\n",
       "        vertical-align: top;\n",
       "    }\n",
       "\n",
       "    .dataframe thead th {\n",
       "        text-align: right;\n",
       "    }\n",
       "</style>\n",
       "<table border=\"1\" class=\"dataframe\">\n",
       "  <thead>\n",
       "    <tr style=\"text-align: right;\">\n",
       "      <th></th>\n",
       "      <th>tconst</th>\n",
       "      <th>name</th>\n",
       "      <th>year</th>\n",
       "      <th>rating</th>\n",
       "      <th>rating_count</th>\n",
       "      <th>story_line</th>\n",
       "      <th>genres</th>\n",
       "      <th>country</th>\n",
       "      <th>language</th>\n",
       "      <th>budget</th>\n",
       "      <th>gross</th>\n",
       "      <th>runtime</th>\n",
       "      <th>director</th>\n",
       "      <th>stars</th>\n",
       "    </tr>\n",
       "  </thead>\n",
       "  <tbody>\n",
       "    <tr>\n",
       "      <th>0</th>\n",
       "      <td>tt2077677</td>\n",
       "      <td>3Simoa</td>\n",
       "      <td>2012.0</td>\n",
       "      <td>6.4</td>\n",
       "      <td>370</td>\n",
       "      <td>A caper comedy about two friends, Simo and Las...</td>\n",
       "      <td>Comedy</td>\n",
       "      <td>Finland</td>\n",
       "      <td>Finnish</td>\n",
       "      <td>334784.0</td>\n",
       "      <td>93296</td>\n",
       "      <td>86</td>\n",
       "      <td>Teemu Nikki</td>\n",
       "      <td>Olli Rahkonen,Paula Vesala,Rami Rusinen</td>\n",
       "    </tr>\n",
       "    <tr>\n",
       "      <th>1</th>\n",
       "      <td>tt0106332</td>\n",
       "      <td>Ba wang bie ji</td>\n",
       "      <td>1993.0</td>\n",
       "      <td>8.1</td>\n",
       "      <td>24830</td>\n",
       "      <td>\"Farewell, My Concubine\" is a movie with two p...</td>\n",
       "      <td>Drama,Music,Romance</td>\n",
       "      <td>China,Hong Kong</td>\n",
       "      <td>Mandarin</td>\n",
       "      <td>4000000.0</td>\n",
       "      <td>5985074</td>\n",
       "      <td>171</td>\n",
       "      <td>Kaige Chen</td>\n",
       "      <td>Fengyi Zhang,Leslie Cheung,Li Gong</td>\n",
       "    </tr>\n",
       "    <tr>\n",
       "      <th>2</th>\n",
       "      <td>tt0116421</td>\n",
       "      <td>The Glimmer Man</td>\n",
       "      <td>1996.0</td>\n",
       "      <td>5.4</td>\n",
       "      <td>18687</td>\n",
       "      <td>Jack Cole is a soft spoken, mystical, new age ...</td>\n",
       "      <td>Action,Comedy,Crime</td>\n",
       "      <td>USA</td>\n",
       "      <td>Chinese,English,Russian</td>\n",
       "      <td>45000000.0</td>\n",
       "      <td>20351264</td>\n",
       "      <td>91</td>\n",
       "      <td>John Gray</td>\n",
       "      <td>Bob Gunton,Keenen Ivory Wayans,Steven Seagal</td>\n",
       "    </tr>\n",
       "    <tr>\n",
       "      <th>3</th>\n",
       "      <td>tt3170832</td>\n",
       "      <td>Room</td>\n",
       "      <td>2015.0</td>\n",
       "      <td>8.1</td>\n",
       "      <td>365849</td>\n",
       "      <td>ROOM tells the extraordinary story of Jack, a ...</td>\n",
       "      <td>Drama,Thriller</td>\n",
       "      <td>Canada,Ireland,UK,USA</td>\n",
       "      <td>English</td>\n",
       "      <td>13000000.0</td>\n",
       "      <td>35401758</td>\n",
       "      <td>118</td>\n",
       "      <td>Lenny Abrahamson</td>\n",
       "      <td>Brie Larson,Jacob Tremblay,Sean Bridgers</td>\n",
       "    </tr>\n",
       "    <tr>\n",
       "      <th>4</th>\n",
       "      <td>tt0204175</td>\n",
       "      <td>Boys and Girls</td>\n",
       "      <td>2000.0</td>\n",
       "      <td>5.4</td>\n",
       "      <td>15942</td>\n",
       "      <td>Jennifer and Ryan are students at UC Berkeley,...</td>\n",
       "      <td>Comedy,Drama,Romance</td>\n",
       "      <td>USA</td>\n",
       "      <td>English</td>\n",
       "      <td>35000000.0</td>\n",
       "      <td>25850615</td>\n",
       "      <td>94</td>\n",
       "      <td>Robert Iscove</td>\n",
       "      <td>Brendon Ryan Barrett,Claire Forlani,Freddie Pr...</td>\n",
       "    </tr>\n",
       "  </tbody>\n",
       "</table>\n",
       "</div>"
      ],
      "text/plain": [
       "      tconst             name    year  rating  rating_count  \\\n",
       "0  tt2077677           3Simoa  2012.0     6.4           370   \n",
       "1  tt0106332   Ba wang bie ji  1993.0     8.1         24830   \n",
       "2  tt0116421  The Glimmer Man  1996.0     5.4         18687   \n",
       "3  tt3170832             Room  2015.0     8.1        365849   \n",
       "4  tt0204175   Boys and Girls  2000.0     5.4         15942   \n",
       "\n",
       "                                          story_line                genres  \\\n",
       "0  A caper comedy about two friends, Simo and Las...                Comedy   \n",
       "1  \"Farewell, My Concubine\" is a movie with two p...   Drama,Music,Romance   \n",
       "2  Jack Cole is a soft spoken, mystical, new age ...   Action,Comedy,Crime   \n",
       "3  ROOM tells the extraordinary story of Jack, a ...        Drama,Thriller   \n",
       "4  Jennifer and Ryan are students at UC Berkeley,...  Comedy,Drama,Romance   \n",
       "\n",
       "                 country                 language      budget     gross  \\\n",
       "0                Finland                  Finnish    334784.0     93296   \n",
       "1        China,Hong Kong                 Mandarin   4000000.0   5985074   \n",
       "2                    USA  Chinese,English,Russian  45000000.0  20351264   \n",
       "3  Canada,Ireland,UK,USA                  English  13000000.0  35401758   \n",
       "4                    USA                  English  35000000.0  25850615   \n",
       "\n",
       "   runtime          director  \\\n",
       "0       86       Teemu Nikki   \n",
       "1      171        Kaige Chen   \n",
       "2       91         John Gray   \n",
       "3      118  Lenny Abrahamson   \n",
       "4       94     Robert Iscove   \n",
       "\n",
       "                                               stars  \n",
       "0            Olli Rahkonen,Paula Vesala,Rami Rusinen  \n",
       "1                 Fengyi Zhang,Leslie Cheung,Li Gong  \n",
       "2       Bob Gunton,Keenen Ivory Wayans,Steven Seagal  \n",
       "3           Brie Larson,Jacob Tremblay,Sean Bridgers  \n",
       "4  Brendon Ryan Barrett,Claire Forlani,Freddie Pr...  "
      ]
     },
     "execution_count": 2,
     "metadata": {},
     "output_type": "execute_result"
    }
   ],
   "source": [
    "df = pd.read_csv('data/cleaned.csv')\n",
    "df.head(5)"
   ]
  },
  {
   "cell_type": "code",
   "execution_count": 3,
   "metadata": {
    "colab": {
     "base_uri": "https://localhost:8080/"
    },
    "executionInfo": {
     "elapsed": 7597,
     "status": "ok",
     "timestamp": 1609771050198,
     "user": {
      "displayName": "Đăng Nguyễn Minh",
      "photoUrl": "https://lh3.googleusercontent.com/a-/AOh14GiHxFhiRiZfO2-tnxt2jb6zdUBS7JCK-jWOoyFD5g=s64",
      "userId": "17785050953591290309"
     },
     "user_tz": -420
    },
    "id": "nToxALglVGJ7",
    "outputId": "bd462067-03ac-4cb8-eada-76ed2040013a"
   },
   "outputs": [
    {
     "name": "stderr",
     "output_type": "stream",
     "text": [
      "/home/nguyenminhdang/anaconda3/envs/py36/lib/python3.6/site-packages/ipykernel_launcher.py:1: UserWarning: Boolean Series key will be reindexed to match DataFrame index.\n",
      "  \"\"\"Entry point for launching an IPython kernel.\n"
     ]
    },
    {
     "data": {
      "text/plain": [
       "(993, 14)"
      ]
     },
     "execution_count": 3,
     "metadata": {},
     "output_type": "execute_result"
    }
   ],
   "source": [
    "dftmp = df[df.story_line.notnull()][df.genres.notnull()][df.country.notnull()][df.language.notnull()][df.budget.notnull()][df.gross.notnull()][df.director.notnull()][df.stars.notnull()][df.runtime.notnull()]\n",
    "dftmp.shape"
   ]
  },
  {
   "cell_type": "code",
   "execution_count": 4,
   "metadata": {
    "colab": {
     "base_uri": "https://localhost:8080/"
    },
    "executionInfo": {
     "elapsed": 7592,
     "status": "ok",
     "timestamp": 1609771050199,
     "user": {
      "displayName": "Đăng Nguyễn Minh",
      "photoUrl": "https://lh3.googleusercontent.com/a-/AOh14GiHxFhiRiZfO2-tnxt2jb6zdUBS7JCK-jWOoyFD5g=s64",
      "userId": "17785050953591290309"
     },
     "user_tz": -420
    },
    "id": "CzAPIZDcVGJ7",
    "outputId": "803e9c25-4c0c-4775-a23d-aa21c8d46187"
   },
   "outputs": [
    {
     "data": {
      "text/plain": [
       "(993, 14)"
      ]
     },
     "execution_count": 4,
     "metadata": {},
     "output_type": "execute_result"
    }
   ],
   "source": [
    "dftmp[dftmp.rating.notnull()].shape"
   ]
  },
  {
   "cell_type": "code",
   "execution_count": 5,
   "metadata": {
    "colab": {
     "base_uri": "https://localhost:8080/"
    },
    "executionInfo": {
     "elapsed": 8818,
     "status": "ok",
     "timestamp": 1609771051433,
     "user": {
      "displayName": "Đăng Nguyễn Minh",
      "photoUrl": "https://lh3.googleusercontent.com/a-/AOh14GiHxFhiRiZfO2-tnxt2jb6zdUBS7JCK-jWOoyFD5g=s64",
      "userId": "17785050953591290309"
     },
     "user_tz": -420
    },
    "id": "C5enPmYjVGJ8",
    "outputId": "76319f26-cac9-4b21-f4e9-602ec9519599"
   },
   "outputs": [
    {
     "data": {
      "text/plain": [
       "(1000, 14)"
      ]
     },
     "execution_count": 5,
     "metadata": {},
     "output_type": "execute_result"
    }
   ],
   "source": [
    "dftmp = df[df.story_line.notnull()][df.genres.notnull()][df.language.notnull()][df.stars.notnull()][df.runtime.notnull()]\n",
    "dftmp.shape"
   ]
  },
  {
   "cell_type": "code",
   "execution_count": 6,
   "metadata": {
    "colab": {
     "base_uri": "https://localhost:8080/"
    },
    "executionInfo": {
     "elapsed": 8811,
     "status": "ok",
     "timestamp": 1609771051434,
     "user": {
      "displayName": "Đăng Nguyễn Minh",
      "photoUrl": "https://lh3.googleusercontent.com/a-/AOh14GiHxFhiRiZfO2-tnxt2jb6zdUBS7JCK-jWOoyFD5g=s64",
      "userId": "17785050953591290309"
     },
     "user_tz": -420
    },
    "id": "D729SeutVGJ8",
    "outputId": "0df4398f-6576-4c6d-be8a-e583163b7efd"
   },
   "outputs": [
    {
     "data": {
      "text/plain": [
       "(1000, 14)"
      ]
     },
     "execution_count": 6,
     "metadata": {},
     "output_type": "execute_result"
    }
   ],
   "source": [
    "dftmp[dftmp.rating.notnull()].shape"
   ]
  },
  {
   "cell_type": "markdown",
   "metadata": {
    "id": "4VljEIRFVGJ9"
   },
   "source": [
    "## Describe data"
   ]
  },
  {
   "cell_type": "code",
   "execution_count": 7,
   "metadata": {
    "colab": {
     "base_uri": "https://localhost:8080/"
    },
    "executionInfo": {
     "elapsed": 8806,
     "status": "ok",
     "timestamp": 1609771051435,
     "user": {
      "displayName": "Đăng Nguyễn Minh",
      "photoUrl": "https://lh3.googleusercontent.com/a-/AOh14GiHxFhiRiZfO2-tnxt2jb6zdUBS7JCK-jWOoyFD5g=s64",
      "userId": "17785050953591290309"
     },
     "user_tz": -420
    },
    "id": "6ijuGXrsVGJ9",
    "outputId": "ae2ff962-c618-4f91-b094-e91b4b78e90d"
   },
   "outputs": [
    {
     "name": "stdout",
     "output_type": "stream",
     "text": [
      "<class 'pandas.core.frame.DataFrame'>\n",
      "RangeIndex: 1000 entries, 0 to 999\n",
      "Data columns (total 14 columns):\n",
      " #   Column        Non-Null Count  Dtype  \n",
      "---  ------        --------------  -----  \n",
      " 0   tconst        1000 non-null   object \n",
      " 1   name          1000 non-null   object \n",
      " 2   year          1000 non-null   float64\n",
      " 3   rating        1000 non-null   float64\n",
      " 4   rating_count  1000 non-null   int64  \n",
      " 5   story_line    1000 non-null   object \n",
      " 6   genres        1000 non-null   object \n",
      " 7   country       1000 non-null   object \n",
      " 8   language      1000 non-null   object \n",
      " 9   budget        993 non-null    float64\n",
      " 10  gross         1000 non-null   int64  \n",
      " 11  runtime       1000 non-null   int64  \n",
      " 12  director      1000 non-null   object \n",
      " 13  stars         1000 non-null   object \n",
      "dtypes: float64(3), int64(3), object(8)\n",
      "memory usage: 109.5+ KB\n"
     ]
    }
   ],
   "source": [
    "df.info()"
   ]
  },
  {
   "cell_type": "code",
   "execution_count": 8,
   "metadata": {
    "colab": {
     "base_uri": "https://localhost:8080/",
     "height": 294
    },
    "executionInfo": {
     "elapsed": 8801,
     "status": "ok",
     "timestamp": 1609771051436,
     "user": {
      "displayName": "Đăng Nguyễn Minh",
      "photoUrl": "https://lh3.googleusercontent.com/a-/AOh14GiHxFhiRiZfO2-tnxt2jb6zdUBS7JCK-jWOoyFD5g=s64",
      "userId": "17785050953591290309"
     },
     "user_tz": -420
    },
    "id": "jHegYXCqVGJ9",
    "outputId": "1c4c6e5c-4a3f-4e0f-9fe9-144b5581eb12"
   },
   "outputs": [
    {
     "data": {
      "text/html": [
       "<div>\n",
       "<style scoped>\n",
       "    .dataframe tbody tr th:only-of-type {\n",
       "        vertical-align: middle;\n",
       "    }\n",
       "\n",
       "    .dataframe tbody tr th {\n",
       "        vertical-align: top;\n",
       "    }\n",
       "\n",
       "    .dataframe thead th {\n",
       "        text-align: right;\n",
       "    }\n",
       "</style>\n",
       "<table border=\"1\" class=\"dataframe\">\n",
       "  <thead>\n",
       "    <tr style=\"text-align: right;\">\n",
       "      <th></th>\n",
       "      <th>year</th>\n",
       "      <th>rating</th>\n",
       "      <th>rating_count</th>\n",
       "      <th>budget</th>\n",
       "      <th>gross</th>\n",
       "      <th>runtime</th>\n",
       "    </tr>\n",
       "  </thead>\n",
       "  <tbody>\n",
       "    <tr>\n",
       "      <th>count</th>\n",
       "      <td>1000.000000</td>\n",
       "      <td>1000.000000</td>\n",
       "      <td>1.000000e+03</td>\n",
       "      <td>9.930000e+02</td>\n",
       "      <td>1.000000e+03</td>\n",
       "      <td>1000.000000</td>\n",
       "    </tr>\n",
       "    <tr>\n",
       "      <th>mean</th>\n",
       "      <td>2005.055000</td>\n",
       "      <td>6.162300</td>\n",
       "      <td>4.794315e+04</td>\n",
       "      <td>1.705132e+07</td>\n",
       "      <td>4.264659e+07</td>\n",
       "      <td>106.180000</td>\n",
       "    </tr>\n",
       "    <tr>\n",
       "      <th>std</th>\n",
       "      <td>11.644121</td>\n",
       "      <td>1.107536</td>\n",
       "      <td>1.369032e+05</td>\n",
       "      <td>3.169042e+07</td>\n",
       "      <td>1.330235e+08</td>\n",
       "      <td>20.250029</td>\n",
       "    </tr>\n",
       "    <tr>\n",
       "      <th>min</th>\n",
       "      <td>1920.000000</td>\n",
       "      <td>1.100000</td>\n",
       "      <td>6.000000e+00</td>\n",
       "      <td>0.000000e+00</td>\n",
       "      <td>3.500000e+01</td>\n",
       "      <td>48.000000</td>\n",
       "    </tr>\n",
       "    <tr>\n",
       "      <th>25%</th>\n",
       "      <td>2000.000000</td>\n",
       "      <td>5.600000</td>\n",
       "      <td>7.932500e+02</td>\n",
       "      <td>1.532704e+06</td>\n",
       "      <td>2.147578e+05</td>\n",
       "      <td>92.750000</td>\n",
       "    </tr>\n",
       "    <tr>\n",
       "      <th>50%</th>\n",
       "      <td>2008.000000</td>\n",
       "      <td>6.300000</td>\n",
       "      <td>6.202500e+03</td>\n",
       "      <td>6.000000e+06</td>\n",
       "      <td>3.213400e+06</td>\n",
       "      <td>102.000000</td>\n",
       "    </tr>\n",
       "    <tr>\n",
       "      <th>75%</th>\n",
       "      <td>2014.000000</td>\n",
       "      <td>6.900000</td>\n",
       "      <td>3.524400e+04</td>\n",
       "      <td>1.800000e+07</td>\n",
       "      <td>2.347388e+07</td>\n",
       "      <td>116.000000</td>\n",
       "    </tr>\n",
       "    <tr>\n",
       "      <th>max</th>\n",
       "      <td>2020.000000</td>\n",
       "      <td>8.800000</td>\n",
       "      <td>1.836256e+06</td>\n",
       "      <td>2.700000e+08</td>\n",
       "      <td>1.518816e+09</td>\n",
       "      <td>288.000000</td>\n",
       "    </tr>\n",
       "  </tbody>\n",
       "</table>\n",
       "</div>"
      ],
      "text/plain": [
       "              year       rating  rating_count        budget         gross  \\\n",
       "count  1000.000000  1000.000000  1.000000e+03  9.930000e+02  1.000000e+03   \n",
       "mean   2005.055000     6.162300  4.794315e+04  1.705132e+07  4.264659e+07   \n",
       "std      11.644121     1.107536  1.369032e+05  3.169042e+07  1.330235e+08   \n",
       "min    1920.000000     1.100000  6.000000e+00  0.000000e+00  3.500000e+01   \n",
       "25%    2000.000000     5.600000  7.932500e+02  1.532704e+06  2.147578e+05   \n",
       "50%    2008.000000     6.300000  6.202500e+03  6.000000e+06  3.213400e+06   \n",
       "75%    2014.000000     6.900000  3.524400e+04  1.800000e+07  2.347388e+07   \n",
       "max    2020.000000     8.800000  1.836256e+06  2.700000e+08  1.518816e+09   \n",
       "\n",
       "           runtime  \n",
       "count  1000.000000  \n",
       "mean    106.180000  \n",
       "std      20.250029  \n",
       "min      48.000000  \n",
       "25%      92.750000  \n",
       "50%     102.000000  \n",
       "75%     116.000000  \n",
       "max     288.000000  "
      ]
     },
     "execution_count": 8,
     "metadata": {},
     "output_type": "execute_result"
    }
   ],
   "source": [
    "df.describe()"
   ]
  },
  {
   "cell_type": "code",
   "execution_count": 9,
   "metadata": {
    "colab": {
     "base_uri": "https://localhost:8080/"
    },
    "executionInfo": {
     "elapsed": 9928,
     "status": "ok",
     "timestamp": 1609771052569,
     "user": {
      "displayName": "Đăng Nguyễn Minh",
      "photoUrl": "https://lh3.googleusercontent.com/a-/AOh14GiHxFhiRiZfO2-tnxt2jb6zdUBS7JCK-jWOoyFD5g=s64",
      "userId": "17785050953591290309"
     },
     "user_tz": -420
    },
    "id": "w91JFaxoVGJ-",
    "outputId": "b30c8f30-296b-4dab-e893-73bb9f253361"
   },
   "outputs": [
    {
     "data": {
      "text/plain": [
       "tconst          False\n",
       "name            False\n",
       "year            False\n",
       "rating          False\n",
       "rating_count    False\n",
       "story_line      False\n",
       "genres          False\n",
       "country         False\n",
       "language        False\n",
       "budget           True\n",
       "gross           False\n",
       "runtime         False\n",
       "director        False\n",
       "stars           False\n",
       "dtype: bool"
      ]
     },
     "execution_count": 9,
     "metadata": {},
     "output_type": "execute_result"
    }
   ],
   "source": [
    "df.isnull().any()"
   ]
  },
  {
   "cell_type": "code",
   "execution_count": 10,
   "metadata": {
    "colab": {
     "base_uri": "https://localhost:8080/",
     "height": 294
    },
    "executionInfo": {
     "elapsed": 9922,
     "status": "ok",
     "timestamp": 1609771052570,
     "user": {
      "displayName": "Đăng Nguyễn Minh",
      "photoUrl": "https://lh3.googleusercontent.com/a-/AOh14GiHxFhiRiZfO2-tnxt2jb6zdUBS7JCK-jWOoyFD5g=s64",
      "userId": "17785050953591290309"
     },
     "user_tz": -420
    },
    "id": "cvePgSbjb2Sz",
    "outputId": "4590ecbb-47e2-488b-e9c2-de421fc6a3f2"
   },
   "outputs": [
    {
     "data": {
      "text/html": [
       "<div>\n",
       "<style scoped>\n",
       "    .dataframe tbody tr th:only-of-type {\n",
       "        vertical-align: middle;\n",
       "    }\n",
       "\n",
       "    .dataframe tbody tr th {\n",
       "        vertical-align: top;\n",
       "    }\n",
       "\n",
       "    .dataframe thead th {\n",
       "        text-align: right;\n",
       "    }\n",
       "</style>\n",
       "<table border=\"1\" class=\"dataframe\">\n",
       "  <thead>\n",
       "    <tr style=\"text-align: right;\">\n",
       "      <th></th>\n",
       "      <th>rating</th>\n",
       "    </tr>\n",
       "  </thead>\n",
       "  <tbody>\n",
       "    <tr>\n",
       "      <th>count</th>\n",
       "      <td>1000.000000</td>\n",
       "    </tr>\n",
       "    <tr>\n",
       "      <th>mean</th>\n",
       "      <td>6.162300</td>\n",
       "    </tr>\n",
       "    <tr>\n",
       "      <th>std</th>\n",
       "      <td>1.107536</td>\n",
       "    </tr>\n",
       "    <tr>\n",
       "      <th>min</th>\n",
       "      <td>1.100000</td>\n",
       "    </tr>\n",
       "    <tr>\n",
       "      <th>25%</th>\n",
       "      <td>5.600000</td>\n",
       "    </tr>\n",
       "    <tr>\n",
       "      <th>50%</th>\n",
       "      <td>6.300000</td>\n",
       "    </tr>\n",
       "    <tr>\n",
       "      <th>75%</th>\n",
       "      <td>6.900000</td>\n",
       "    </tr>\n",
       "    <tr>\n",
       "      <th>max</th>\n",
       "      <td>8.800000</td>\n",
       "    </tr>\n",
       "  </tbody>\n",
       "</table>\n",
       "</div>"
      ],
      "text/plain": [
       "            rating\n",
       "count  1000.000000\n",
       "mean      6.162300\n",
       "std       1.107536\n",
       "min       1.100000\n",
       "25%       5.600000\n",
       "50%       6.300000\n",
       "75%       6.900000\n",
       "max       8.800000"
      ]
     },
     "execution_count": 10,
     "metadata": {},
     "output_type": "execute_result"
    }
   ],
   "source": [
    "df[['rating']].describe()"
   ]
  },
  {
   "cell_type": "code",
   "execution_count": 11,
   "metadata": {
    "executionInfo": {
     "elapsed": 9920,
     "status": "ok",
     "timestamp": 1609771052571,
     "user": {
      "displayName": "Đăng Nguyễn Minh",
      "photoUrl": "https://lh3.googleusercontent.com/a-/AOh14GiHxFhiRiZfO2-tnxt2jb6zdUBS7JCK-jWOoyFD5g=s64",
      "userId": "17785050953591290309"
     },
     "user_tz": -420
    },
    "id": "jfvIrnDJVGJ-"
   },
   "outputs": [],
   "source": [
    "field = [\"year\", \"rating\", \n",
    "         \"rating_count\", \n",
    "         \"story_line\", \n",
    "         \"genres\", \"country\", \n",
    "         \"language\", \"budget\", \n",
    "         \"gross\", \"runtime\", \n",
    "         \"director\", \"stars\"]\n",
    "def count_null(raw, field):\n",
    "    data = []\n",
    "    total = raw.shape[0]\n",
    "    for f in field:\n",
    "        nn = raw[raw[f].isnull()].shape[0]\n",
    "        pc = round((1.0*nn)/total*100, 2)\n",
    "        data.append([f, nn, pc])\n",
    "    null_df = pd.DataFrame(data, columns=[\"field\", \"num_null\", \"percent_null\"])\n",
    "    return null_df"
   ]
  },
  {
   "cell_type": "code",
   "execution_count": 12,
   "metadata": {
    "executionInfo": {
     "elapsed": 9919,
     "status": "ok",
     "timestamp": 1609771052572,
     "user": {
      "displayName": "Đăng Nguyễn Minh",
      "photoUrl": "https://lh3.googleusercontent.com/a-/AOh14GiHxFhiRiZfO2-tnxt2jb6zdUBS7JCK-jWOoyFD5g=s64",
      "userId": "17785050953591290309"
     },
     "user_tz": -420
    },
    "id": "0_ffwSTyVGJ-"
   },
   "outputs": [],
   "source": [
    "null_df = count_null(df, field)"
   ]
  },
  {
   "cell_type": "code",
   "execution_count": 13,
   "metadata": {
    "colab": {
     "base_uri": "https://localhost:8080/",
     "height": 417
    },
    "executionInfo": {
     "elapsed": 9912,
     "status": "ok",
     "timestamp": 1609771052573,
     "user": {
      "displayName": "Đăng Nguyễn Minh",
      "photoUrl": "https://lh3.googleusercontent.com/a-/AOh14GiHxFhiRiZfO2-tnxt2jb6zdUBS7JCK-jWOoyFD5g=s64",
      "userId": "17785050953591290309"
     },
     "user_tz": -420
    },
    "id": "jHV49u5fVGJ_",
    "outputId": "8fe3d608-7868-4899-eaf0-07f593e55ab4"
   },
   "outputs": [
    {
     "data": {
      "text/html": [
       "<div>\n",
       "<style scoped>\n",
       "    .dataframe tbody tr th:only-of-type {\n",
       "        vertical-align: middle;\n",
       "    }\n",
       "\n",
       "    .dataframe tbody tr th {\n",
       "        vertical-align: top;\n",
       "    }\n",
       "\n",
       "    .dataframe thead th {\n",
       "        text-align: right;\n",
       "    }\n",
       "</style>\n",
       "<table border=\"1\" class=\"dataframe\">\n",
       "  <thead>\n",
       "    <tr style=\"text-align: right;\">\n",
       "      <th></th>\n",
       "      <th>field</th>\n",
       "      <th>num_null</th>\n",
       "      <th>percent_null</th>\n",
       "    </tr>\n",
       "  </thead>\n",
       "  <tbody>\n",
       "    <tr>\n",
       "      <th>0</th>\n",
       "      <td>year</td>\n",
       "      <td>0</td>\n",
       "      <td>0.0</td>\n",
       "    </tr>\n",
       "    <tr>\n",
       "      <th>1</th>\n",
       "      <td>rating</td>\n",
       "      <td>0</td>\n",
       "      <td>0.0</td>\n",
       "    </tr>\n",
       "    <tr>\n",
       "      <th>2</th>\n",
       "      <td>rating_count</td>\n",
       "      <td>0</td>\n",
       "      <td>0.0</td>\n",
       "    </tr>\n",
       "    <tr>\n",
       "      <th>3</th>\n",
       "      <td>story_line</td>\n",
       "      <td>0</td>\n",
       "      <td>0.0</td>\n",
       "    </tr>\n",
       "    <tr>\n",
       "      <th>4</th>\n",
       "      <td>genres</td>\n",
       "      <td>0</td>\n",
       "      <td>0.0</td>\n",
       "    </tr>\n",
       "    <tr>\n",
       "      <th>5</th>\n",
       "      <td>country</td>\n",
       "      <td>0</td>\n",
       "      <td>0.0</td>\n",
       "    </tr>\n",
       "    <tr>\n",
       "      <th>6</th>\n",
       "      <td>language</td>\n",
       "      <td>0</td>\n",
       "      <td>0.0</td>\n",
       "    </tr>\n",
       "    <tr>\n",
       "      <th>7</th>\n",
       "      <td>budget</td>\n",
       "      <td>7</td>\n",
       "      <td>0.7</td>\n",
       "    </tr>\n",
       "    <tr>\n",
       "      <th>8</th>\n",
       "      <td>gross</td>\n",
       "      <td>0</td>\n",
       "      <td>0.0</td>\n",
       "    </tr>\n",
       "    <tr>\n",
       "      <th>9</th>\n",
       "      <td>runtime</td>\n",
       "      <td>0</td>\n",
       "      <td>0.0</td>\n",
       "    </tr>\n",
       "    <tr>\n",
       "      <th>10</th>\n",
       "      <td>director</td>\n",
       "      <td>0</td>\n",
       "      <td>0.0</td>\n",
       "    </tr>\n",
       "    <tr>\n",
       "      <th>11</th>\n",
       "      <td>stars</td>\n",
       "      <td>0</td>\n",
       "      <td>0.0</td>\n",
       "    </tr>\n",
       "  </tbody>\n",
       "</table>\n",
       "</div>"
      ],
      "text/plain": [
       "           field  num_null  percent_null\n",
       "0           year         0           0.0\n",
       "1         rating         0           0.0\n",
       "2   rating_count         0           0.0\n",
       "3     story_line         0           0.0\n",
       "4         genres         0           0.0\n",
       "5        country         0           0.0\n",
       "6       language         0           0.0\n",
       "7         budget         7           0.7\n",
       "8          gross         0           0.0\n",
       "9        runtime         0           0.0\n",
       "10      director         0           0.0\n",
       "11         stars         0           0.0"
      ]
     },
     "execution_count": 13,
     "metadata": {},
     "output_type": "execute_result"
    }
   ],
   "source": [
    "null_df"
   ]
  },
  {
   "cell_type": "code",
   "execution_count": 14,
   "metadata": {
    "colab": {
     "base_uri": "https://localhost:8080/"
    },
    "executionInfo": {
     "elapsed": 10355,
     "status": "ok",
     "timestamp": 1609771053025,
     "user": {
      "displayName": "Đăng Nguyễn Minh",
      "photoUrl": "https://lh3.googleusercontent.com/a-/AOh14GiHxFhiRiZfO2-tnxt2jb6zdUBS7JCK-jWOoyFD5g=s64",
      "userId": "17785050953591290309"
     },
     "user_tz": -420
    },
    "id": "RvRspvENVGJ_",
    "outputId": "039e5221-72cb-418d-99d7-f9045b3688fb"
   },
   "outputs": [
    {
     "name": "stdout",
     "output_type": "stream",
     "text": [
      "After drop all null cells, \n",
      "There is 993/1000 ~ 0.993% rows with full data\n"
     ]
    }
   ],
   "source": [
    "notnull=df.dropna().shape[0]\n",
    "total=df.shape[0]\n",
    "print(\"After drop all null cells, \")\n",
    "print(\"There is {}/{} ~ {}% rows with full data\".format(notnull, total, round(1.0*notnull/total, 5)))"
   ]
  },
  {
   "cell_type": "markdown",
   "metadata": {
    "id": "Si6RGCvNVGKH"
   },
   "source": [
    "# Analysis & Visualize"
   ]
  },
  {
   "cell_type": "code",
   "execution_count": 15,
   "metadata": {
    "executionInfo": {
     "elapsed": 13759,
     "status": "ok",
     "timestamp": 1609771056504,
     "user": {
      "displayName": "Đăng Nguyễn Minh",
      "photoUrl": "https://lh3.googleusercontent.com/a-/AOh14GiHxFhiRiZfO2-tnxt2jb6zdUBS7JCK-jWOoyFD5g=s64",
      "userId": "17785050953591290309"
     },
     "user_tz": -420
    },
    "id": "x6XjhnQ6VGKH"
   },
   "outputs": [],
   "source": [
    "from matplotlib.pyplot import figure"
   ]
  },
  {
   "cell_type": "markdown",
   "metadata": {
    "id": "B3V06At4VGKH"
   },
   "source": [
    "### <u>PLOT 1:</u> Phân loại rating\n",
    "- Nhỏ hơn 3: Quá tệ\n",
    "- Nhỏ hơn 5: Tệ\n",
    "- Nhỏ hơn 7: Không quá tệ\n",
    "- Nhỏ hơn 9: Hay\n",
    "- Còn lại: Xuất sắc"
   ]
  },
  {
   "cell_type": "code",
   "execution_count": 16,
   "metadata": {
    "colab": {
     "base_uri": "https://localhost:8080/",
     "height": 0
    },
    "executionInfo": {
     "elapsed": 18339,
     "status": "ok",
     "timestamp": 1609771061092,
     "user": {
      "displayName": "Đăng Nguyễn Minh",
      "photoUrl": "https://lh3.googleusercontent.com/a-/AOh14GiHxFhiRiZfO2-tnxt2jb6zdUBS7JCK-jWOoyFD5g=s64",
      "userId": "17785050953591290309"
     },
     "user_tz": -420
    },
    "id": "rEByFS9HVGKI",
    "outputId": "741bce67-9214-4e92-d652-6b8a40e2d03d"
   },
   "outputs": [
    {
     "data": {
      "text/html": [
       "<div>\n",
       "<style scoped>\n",
       "    .dataframe tbody tr th:only-of-type {\n",
       "        vertical-align: middle;\n",
       "    }\n",
       "\n",
       "    .dataframe tbody tr th {\n",
       "        vertical-align: top;\n",
       "    }\n",
       "\n",
       "    .dataframe thead th {\n",
       "        text-align: right;\n",
       "    }\n",
       "</style>\n",
       "<table border=\"1\" class=\"dataframe\">\n",
       "  <thead>\n",
       "    <tr style=\"text-align: right;\">\n",
       "      <th></th>\n",
       "      <th>rating</th>\n",
       "      <th>category</th>\n",
       "    </tr>\n",
       "  </thead>\n",
       "  <tbody>\n",
       "    <tr>\n",
       "      <th>0</th>\n",
       "      <td>6.4</td>\n",
       "      <td>Không quá tệ</td>\n",
       "    </tr>\n",
       "    <tr>\n",
       "      <th>1</th>\n",
       "      <td>8.1</td>\n",
       "      <td>Hay</td>\n",
       "    </tr>\n",
       "    <tr>\n",
       "      <th>2</th>\n",
       "      <td>5.4</td>\n",
       "      <td>Không quá tệ</td>\n",
       "    </tr>\n",
       "    <tr>\n",
       "      <th>3</th>\n",
       "      <td>8.1</td>\n",
       "      <td>Hay</td>\n",
       "    </tr>\n",
       "    <tr>\n",
       "      <th>4</th>\n",
       "      <td>5.4</td>\n",
       "      <td>Không quá tệ</td>\n",
       "    </tr>\n",
       "    <tr>\n",
       "      <th>...</th>\n",
       "      <td>...</td>\n",
       "      <td>...</td>\n",
       "    </tr>\n",
       "    <tr>\n",
       "      <th>995</th>\n",
       "      <td>5.1</td>\n",
       "      <td>Không quá tệ</td>\n",
       "    </tr>\n",
       "    <tr>\n",
       "      <th>996</th>\n",
       "      <td>6.6</td>\n",
       "      <td>Không quá tệ</td>\n",
       "    </tr>\n",
       "    <tr>\n",
       "      <th>997</th>\n",
       "      <td>6.4</td>\n",
       "      <td>Không quá tệ</td>\n",
       "    </tr>\n",
       "    <tr>\n",
       "      <th>998</th>\n",
       "      <td>6.5</td>\n",
       "      <td>Không quá tệ</td>\n",
       "    </tr>\n",
       "    <tr>\n",
       "      <th>999</th>\n",
       "      <td>6.3</td>\n",
       "      <td>Không quá tệ</td>\n",
       "    </tr>\n",
       "  </tbody>\n",
       "</table>\n",
       "<p>1000 rows × 2 columns</p>\n",
       "</div>"
      ],
      "text/plain": [
       "     rating      category\n",
       "0       6.4  Không quá tệ\n",
       "1       8.1           Hay\n",
       "2       5.4  Không quá tệ\n",
       "3       8.1           Hay\n",
       "4       5.4  Không quá tệ\n",
       "..      ...           ...\n",
       "995     5.1  Không quá tệ\n",
       "996     6.6  Không quá tệ\n",
       "997     6.4  Không quá tệ\n",
       "998     6.5  Không quá tệ\n",
       "999     6.3  Không quá tệ\n",
       "\n",
       "[1000 rows x 2 columns]"
      ]
     },
     "execution_count": 16,
     "metadata": {},
     "output_type": "execute_result"
    }
   ],
   "source": [
    "def category_rating(x):\n",
    "    if x < 3:\n",
    "        return \"Quá tệ\"\n",
    "    if x < 5:\n",
    "        return \"Tệ\"\n",
    "    if x < 7:\n",
    "        return \"Không quá tệ\"\n",
    "    if x < 9:\n",
    "        return \"Hay\"\n",
    "    return \"Xuất sắc\"\n",
    "dftmp=df[df['rating'].notnull()][['rating']]\n",
    "dftmp.rating=dftmp.rating.apply(lambda x: float(x))\n",
    "dftmp['category'] = dftmp.apply(lambda x: category_rating(x.rating), axis=1)\n",
    "dftmp"
   ]
  },
  {
   "cell_type": "code",
   "execution_count": 17,
   "metadata": {
    "colab": {
     "base_uri": "https://localhost:8080/",
     "height": 0
    },
    "executionInfo": {
     "elapsed": 18347,
     "status": "ok",
     "timestamp": 1609771061108,
     "user": {
      "displayName": "Đăng Nguyễn Minh",
      "photoUrl": "https://lh3.googleusercontent.com/a-/AOh14GiHxFhiRiZfO2-tnxt2jb6zdUBS7JCK-jWOoyFD5g=s64",
      "userId": "17785050953591290309"
     },
     "user_tz": -420
    },
    "id": "DCoQON67VGKI",
    "outputId": "31bd37fe-7e57-48bf-c8a9-cf5bf4d90829"
   },
   "outputs": [
    {
     "data": {
      "image/png": "[encoded data removed]",
      "text/plain": [
       "<Figure size 720x720 with 1 Axes>"
      ]
     },
     "metadata": {},
     "output_type": "display_data"
    }
   ],
   "source": [
    "fig1, ax1 = plt.subplots()\n",
    "fig1.set_size_inches(10,10)\n",
    "ax1.pie(dftmp.groupby(['category']).count()['rating'].tolist(), labels=dftmp.groupby(['category']).count().index.to_list(), autopct='%1.1f%%', startangle=90)\n",
    "ax1.axis('equal')  # Equal aspect ratio ensures that pie is drawn as a circle.\n",
    "\n",
    "plt.show()"
   ]
  },
  {
   "cell_type": "markdown",
   "metadata": {
    "id": "_nIsRJUjVGKJ"
   },
   "source": [
    "### <u>PLOT 2:</u> Phân bố rating"
   ]
  },
  {
   "cell_type": "code",
   "execution_count": 18,
   "metadata": {
    "colab": {
     "base_uri": "https://localhost:8080/",
     "height": 0
    },
    "executionInfo": {
     "elapsed": 18350,
     "status": "ok",
     "timestamp": 1609771061117,
     "user": {
      "displayName": "Đăng Nguyễn Minh",
      "photoUrl": "https://lh3.googleusercontent.com/a-/AOh14GiHxFhiRiZfO2-tnxt2jb6zdUBS7JCK-jWOoyFD5g=s64",
      "userId": "17785050953591290309"
     },
     "user_tz": -420
    },
    "id": "AiX41akwVGKJ",
    "outputId": "e0a33ab8-bfbb-4951-f028-c35d3cedafb5"
   },
   "outputs": [
    {
     "data": {
      "text/html": [
       "<div>\n",
       "<style scoped>\n",
       "    .dataframe tbody tr th:only-of-type {\n",
       "        vertical-align: middle;\n",
       "    }\n",
       "\n",
       "    .dataframe tbody tr th {\n",
       "        vertical-align: top;\n",
       "    }\n",
       "\n",
       "    .dataframe thead th {\n",
       "        text-align: right;\n",
       "    }\n",
       "</style>\n",
       "<table border=\"1\" class=\"dataframe\">\n",
       "  <thead>\n",
       "    <tr style=\"text-align: right;\">\n",
       "      <th></th>\n",
       "      <th>category</th>\n",
       "    </tr>\n",
       "    <tr>\n",
       "      <th>rating</th>\n",
       "      <th></th>\n",
       "    </tr>\n",
       "  </thead>\n",
       "  <tbody>\n",
       "    <tr>\n",
       "      <th>1.1</th>\n",
       "      <td>1</td>\n",
       "    </tr>\n",
       "    <tr>\n",
       "      <th>1.4</th>\n",
       "      <td>2</td>\n",
       "    </tr>\n",
       "    <tr>\n",
       "      <th>2.2</th>\n",
       "      <td>1</td>\n",
       "    </tr>\n",
       "    <tr>\n",
       "      <th>2.5</th>\n",
       "      <td>3</td>\n",
       "    </tr>\n",
       "    <tr>\n",
       "      <th>2.8</th>\n",
       "      <td>2</td>\n",
       "    </tr>\n",
       "    <tr>\n",
       "      <th>...</th>\n",
       "      <td>...</td>\n",
       "    </tr>\n",
       "    <tr>\n",
       "      <th>8.3</th>\n",
       "      <td>1</td>\n",
       "    </tr>\n",
       "    <tr>\n",
       "      <th>8.4</th>\n",
       "      <td>2</td>\n",
       "    </tr>\n",
       "    <tr>\n",
       "      <th>8.5</th>\n",
       "      <td>2</td>\n",
       "    </tr>\n",
       "    <tr>\n",
       "      <th>8.6</th>\n",
       "      <td>3</td>\n",
       "    </tr>\n",
       "    <tr>\n",
       "      <th>8.8</th>\n",
       "      <td>1</td>\n",
       "    </tr>\n",
       "  </tbody>\n",
       "</table>\n",
       "<p>63 rows × 1 columns</p>\n",
       "</div>"
      ],
      "text/plain": [
       "        category\n",
       "rating          \n",
       "1.1            1\n",
       "1.4            2\n",
       "2.2            1\n",
       "2.5            3\n",
       "2.8            2\n",
       "...          ...\n",
       "8.3            1\n",
       "8.4            2\n",
       "8.5            2\n",
       "8.6            3\n",
       "8.8            1\n",
       "\n",
       "[63 rows x 1 columns]"
      ]
     },
     "execution_count": 18,
     "metadata": {},
     "output_type": "execute_result"
    }
   ],
   "source": [
    "dftmp.groupby(['rating']).count()"
   ]
  },
  {
   "cell_type": "code",
   "execution_count": 19,
   "metadata": {
    "executionInfo": {
     "elapsed": 18349,
     "status": "ok",
     "timestamp": 1609771061119,
     "user": {
      "displayName": "Đăng Nguyễn Minh",
      "photoUrl": "https://lh3.googleusercontent.com/a-/AOh14GiHxFhiRiZfO2-tnxt2jb6zdUBS7JCK-jWOoyFD5g=s64",
      "userId": "17785050953591290309"
     },
     "user_tz": -420
    },
    "id": "6qCEBnWhVGKJ"
   },
   "outputs": [],
   "source": [
    "y = dftmp.groupby(['rating'])['category'].count().tolist()\n",
    "x = dftmp.groupby(['rating']).count().index.to_list()"
   ]
  },
  {
   "cell_type": "code",
   "execution_count": 20,
   "metadata": {
    "colab": {
     "base_uri": "https://localhost:8080/",
     "height": 0
    },
    "executionInfo": {
     "elapsed": 18343,
     "status": "ok",
     "timestamp": 1609771061121,
     "user": {
      "displayName": "Đăng Nguyễn Minh",
      "photoUrl": "https://lh3.googleusercontent.com/a-/AOh14GiHxFhiRiZfO2-tnxt2jb6zdUBS7JCK-jWOoyFD5g=s64",
      "userId": "17785050953591290309"
     },
     "user_tz": -420
    },
    "id": "HtvpTIIeVGKJ",
    "outputId": "1f90c153-e9fd-41df-cea6-3c85ef63da25"
   },
   "outputs": [
    {
     "data": {
      "image/png": "[encoded data removed]",
      "text/plain": [
       "<Figure size 1080x720 with 1 Axes>"
      ]
     },
     "metadata": {
      "needs_background": "light"
     },
     "output_type": "display_data"
    }
   ],
   "source": [
    "fig1, ax1 = plt.subplots()\n",
    "fig1.set_size_inches(15,10)\n",
    "ax1.plot(x, y)\n",
    "plt.show()"
   ]
  },
  {
   "cell_type": "markdown",
   "metadata": {
    "id": "maqYkJ6VVGKJ"
   },
   "source": [
    "### <u>PLOT 3:</u> Số lượng phim theo năm"
   ]
  },
  {
   "cell_type": "code",
   "execution_count": 21,
   "metadata": {
    "colab": {
     "base_uri": "https://localhost:8080/",
     "height": 415
    },
    "executionInfo": {
     "elapsed": 18337,
     "status": "ok",
     "timestamp": 1609771061122,
     "user": {
      "displayName": "Đăng Nguyễn Minh",
      "photoUrl": "https://lh3.googleusercontent.com/a-/AOh14GiHxFhiRiZfO2-tnxt2jb6zdUBS7JCK-jWOoyFD5g=s64",
      "userId": "17785050953591290309"
     },
     "user_tz": -420
    },
    "id": "4t8f7aqxVGKK",
    "outputId": "ff61540e-60dc-45d0-8d9f-50bdaee1ab34"
   },
   "outputs": [
    {
     "data": {
      "text/html": [
       "<div>\n",
       "<style scoped>\n",
       "    .dataframe tbody tr th:only-of-type {\n",
       "        vertical-align: middle;\n",
       "    }\n",
       "\n",
       "    .dataframe tbody tr th {\n",
       "        vertical-align: top;\n",
       "    }\n",
       "\n",
       "    .dataframe thead th {\n",
       "        text-align: right;\n",
       "    }\n",
       "</style>\n",
       "<table border=\"1\" class=\"dataframe\">\n",
       "  <thead>\n",
       "    <tr style=\"text-align: right;\">\n",
       "      <th></th>\n",
       "      <th>tconst</th>\n",
       "      <th>year</th>\n",
       "    </tr>\n",
       "  </thead>\n",
       "  <tbody>\n",
       "    <tr>\n",
       "      <th>0</th>\n",
       "      <td>tt2077677</td>\n",
       "      <td>2012.0</td>\n",
       "    </tr>\n",
       "    <tr>\n",
       "      <th>1</th>\n",
       "      <td>tt0106332</td>\n",
       "      <td>1993.0</td>\n",
       "    </tr>\n",
       "    <tr>\n",
       "      <th>2</th>\n",
       "      <td>tt0116421</td>\n",
       "      <td>1996.0</td>\n",
       "    </tr>\n",
       "    <tr>\n",
       "      <th>3</th>\n",
       "      <td>tt3170832</td>\n",
       "      <td>2015.0</td>\n",
       "    </tr>\n",
       "    <tr>\n",
       "      <th>4</th>\n",
       "      <td>tt0204175</td>\n",
       "      <td>2000.0</td>\n",
       "    </tr>\n",
       "    <tr>\n",
       "      <th>...</th>\n",
       "      <td>...</td>\n",
       "      <td>...</td>\n",
       "    </tr>\n",
       "    <tr>\n",
       "      <th>995</th>\n",
       "      <td>tt2083231</td>\n",
       "      <td>2013.0</td>\n",
       "    </tr>\n",
       "    <tr>\n",
       "      <th>996</th>\n",
       "      <td>tt2158531</td>\n",
       "      <td>2013.0</td>\n",
       "    </tr>\n",
       "    <tr>\n",
       "      <th>997</th>\n",
       "      <td>tt0079945</td>\n",
       "      <td>1979.0</td>\n",
       "    </tr>\n",
       "    <tr>\n",
       "      <th>998</th>\n",
       "      <td>tt1653649</td>\n",
       "      <td>2010.0</td>\n",
       "    </tr>\n",
       "    <tr>\n",
       "      <th>999</th>\n",
       "      <td>tt0116931</td>\n",
       "      <td>1996.0</td>\n",
       "    </tr>\n",
       "  </tbody>\n",
       "</table>\n",
       "<p>1000 rows × 2 columns</p>\n",
       "</div>"
      ],
      "text/plain": [
       "        tconst    year\n",
       "0    tt2077677  2012.0\n",
       "1    tt0106332  1993.0\n",
       "2    tt0116421  1996.0\n",
       "3    tt3170832  2015.0\n",
       "4    tt0204175  2000.0\n",
       "..         ...     ...\n",
       "995  tt2083231  2013.0\n",
       "996  tt2158531  2013.0\n",
       "997  tt0079945  1979.0\n",
       "998  tt1653649  2010.0\n",
       "999  tt0116931  1996.0\n",
       "\n",
       "[1000 rows x 2 columns]"
      ]
     },
     "execution_count": 21,
     "metadata": {},
     "output_type": "execute_result"
    }
   ],
   "source": [
    "dftmp = df[df.year.notnull()][['tconst', 'year']]\n",
    "dftmp"
   ]
  },
  {
   "cell_type": "code",
   "execution_count": 22,
   "metadata": {
    "executionInfo": {
     "elapsed": 18336,
     "status": "ok",
     "timestamp": 1609771061123,
     "user": {
      "displayName": "Đăng Nguyễn Minh",
      "photoUrl": "https://lh3.googleusercontent.com/a-/AOh14GiHxFhiRiZfO2-tnxt2jb6zdUBS7JCK-jWOoyFD5g=s64",
      "userId": "17785050953591290309"
     },
     "user_tz": -420
    },
    "id": "0jb6zNkCVGKK"
   },
   "outputs": [],
   "source": [
    "y = dftmp.groupby(['year'])['tconst'].count().tolist()\n",
    "x = dftmp.groupby(['year']).count().index.to_list()"
   ]
  },
  {
   "cell_type": "code",
   "execution_count": 23,
   "metadata": {
    "colab": {
     "base_uri": "https://localhost:8080/",
     "height": 557
    },
    "executionInfo": {
     "elapsed": 18833,
     "status": "ok",
     "timestamp": 1609771061627,
     "user": {
      "displayName": "Đăng Nguyễn Minh",
      "photoUrl": "https://lh3.googleusercontent.com/a-/AOh14GiHxFhiRiZfO2-tnxt2jb6zdUBS7JCK-jWOoyFD5g=s64",
      "userId": "17785050953591290309"
     },
     "user_tz": -420
    },
    "id": "RlS8vDWkVGKK",
    "outputId": "3556833b-92c1-4a9b-f7d5-e05cfbc8c98c"
   },
   "outputs": [
    {
     "data": {
      "image/png": "[encoded data removed]",
      "text/plain": [
       "<Figure size 1080x720 with 1 Axes>"
      ]
     },
     "metadata": {
      "needs_background": "light"
     },
     "output_type": "display_data"
    }
   ],
   "source": [
    "fig1, ax1 = plt.subplots()\n",
    "fig1.set_size_inches(15,10)\n",
    "ax1.plot(x, y)\n",
    "plt.show()"
   ]
  },
  {
   "cell_type": "markdown",
   "metadata": {
    "id": "wFhG2kT0VGKK"
   },
   "source": [
    "### <u>PLOT 4:</u> Số lượng phim mỗi thể loại"
   ]
  },
  {
   "cell_type": "code",
   "execution_count": 24,
   "metadata": {
    "colab": {
     "base_uri": "https://localhost:8080/",
     "height": 907
    },
    "executionInfo": {
     "elapsed": 18830,
     "status": "ok",
     "timestamp": 1609771061632,
     "user": {
      "displayName": "Đăng Nguyễn Minh",
      "photoUrl": "https://lh3.googleusercontent.com/a-/AOh14GiHxFhiRiZfO2-tnxt2jb6zdUBS7JCK-jWOoyFD5g=s64",
      "userId": "17785050953591290309"
     },
     "user_tz": -420
    },
    "id": "PiRtyuyVVGKK",
    "outputId": "ee590e6b-b74c-43c3-e834-e79d361e40d6"
   },
   "outputs": [
    {
     "data": {
      "text/html": [
       "<div>\n",
       "<style scoped>\n",
       "    .dataframe tbody tr th:only-of-type {\n",
       "        vertical-align: middle;\n",
       "    }\n",
       "\n",
       "    .dataframe tbody tr th {\n",
       "        vertical-align: top;\n",
       "    }\n",
       "\n",
       "    .dataframe thead th {\n",
       "        text-align: right;\n",
       "    }\n",
       "</style>\n",
       "<table border=\"1\" class=\"dataframe\">\n",
       "  <thead>\n",
       "    <tr style=\"text-align: right;\">\n",
       "      <th></th>\n",
       "      <th>genre</th>\n",
       "      <th>count</th>\n",
       "    </tr>\n",
       "  </thead>\n",
       "  <tbody>\n",
       "    <tr>\n",
       "      <th>20</th>\n",
       "      <td>Western</td>\n",
       "      <td>4</td>\n",
       "    </tr>\n",
       "    <tr>\n",
       "      <th>16</th>\n",
       "      <td>Musical</td>\n",
       "      <td>12</td>\n",
       "    </tr>\n",
       "    <tr>\n",
       "      <th>15</th>\n",
       "      <td>Sport</td>\n",
       "      <td>16</td>\n",
       "    </tr>\n",
       "    <tr>\n",
       "      <th>18</th>\n",
       "      <td>Animation</td>\n",
       "      <td>20</td>\n",
       "    </tr>\n",
       "    <tr>\n",
       "      <th>7</th>\n",
       "      <td>War</td>\n",
       "      <td>22</td>\n",
       "    </tr>\n",
       "    <tr>\n",
       "      <th>14</th>\n",
       "      <td>Documentary</td>\n",
       "      <td>24</td>\n",
       "    </tr>\n",
       "    <tr>\n",
       "      <th>19</th>\n",
       "      <td>History</td>\n",
       "      <td>35</td>\n",
       "    </tr>\n",
       "    <tr>\n",
       "      <th>2</th>\n",
       "      <td>Music</td>\n",
       "      <td>38</td>\n",
       "    </tr>\n",
       "    <tr>\n",
       "      <th>10</th>\n",
       "      <td>Sci-Fi</td>\n",
       "      <td>48</td>\n",
       "    </tr>\n",
       "    <tr>\n",
       "      <th>17</th>\n",
       "      <td>Biography</td>\n",
       "      <td>59</td>\n",
       "    </tr>\n",
       "    <tr>\n",
       "      <th>8</th>\n",
       "      <td>Fantasy</td>\n",
       "      <td>63</td>\n",
       "    </tr>\n",
       "    <tr>\n",
       "      <th>12</th>\n",
       "      <td>Family</td>\n",
       "      <td>64</td>\n",
       "    </tr>\n",
       "    <tr>\n",
       "      <th>13</th>\n",
       "      <td>Mystery</td>\n",
       "      <td>66</td>\n",
       "    </tr>\n",
       "    <tr>\n",
       "      <th>9</th>\n",
       "      <td>Horror</td>\n",
       "      <td>101</td>\n",
       "    </tr>\n",
       "    <tr>\n",
       "      <th>11</th>\n",
       "      <td>Adventure</td>\n",
       "      <td>126</td>\n",
       "    </tr>\n",
       "    <tr>\n",
       "      <th>6</th>\n",
       "      <td>Thriller</td>\n",
       "      <td>143</td>\n",
       "    </tr>\n",
       "    <tr>\n",
       "      <th>5</th>\n",
       "      <td>Crime</td>\n",
       "      <td>175</td>\n",
       "    </tr>\n",
       "    <tr>\n",
       "      <th>3</th>\n",
       "      <td>Romance</td>\n",
       "      <td>176</td>\n",
       "    </tr>\n",
       "    <tr>\n",
       "      <th>4</th>\n",
       "      <td>Action</td>\n",
       "      <td>204</td>\n",
       "    </tr>\n",
       "    <tr>\n",
       "      <th>0</th>\n",
       "      <td>Comedy</td>\n",
       "      <td>349</td>\n",
       "    </tr>\n",
       "    <tr>\n",
       "      <th>1</th>\n",
       "      <td>Drama</td>\n",
       "      <td>566</td>\n",
       "    </tr>\n",
       "  </tbody>\n",
       "</table>\n",
       "</div>"
      ],
      "text/plain": [
       "          genre count\n",
       "20      Western     4\n",
       "16      Musical    12\n",
       "15        Sport    16\n",
       "18    Animation    20\n",
       "7           War    22\n",
       "14  Documentary    24\n",
       "19      History    35\n",
       "2         Music    38\n",
       "10       Sci-Fi    48\n",
       "17    Biography    59\n",
       "8       Fantasy    63\n",
       "12       Family    64\n",
       "13      Mystery    66\n",
       "9        Horror   101\n",
       "11    Adventure   126\n",
       "6      Thriller   143\n",
       "5         Crime   175\n",
       "3       Romance   176\n",
       "4        Action   204\n",
       "0        Comedy   349\n",
       "1         Drama   566"
      ]
     },
     "execution_count": 24,
     "metadata": {},
     "output_type": "execute_result"
    }
   ],
   "source": [
    "dftmp=df[df.genres.notnull()]['genres'].tolist()\n",
    "lg = dict()\n",
    "for genres in dftmp:\n",
    "    genre_split = genres.split(',')\n",
    "    for genre in genre_split:\n",
    "        if genre in lg.keys():\n",
    "            lg[genre]+=1\n",
    "        else:\n",
    "            lg[genre]=1\n",
    "genres=list(lg.keys())\n",
    "dftmp=pd.DataFrame(columns=[\"genre\", \"count\"])\n",
    "for idx, genre in enumerate(genres):\n",
    "    dftmp.loc[idx] = [genre, lg[genre]]\n",
    "dftmp=dftmp.sort_values(by=['count'])\n",
    "dftmp"
   ]
  },
  {
   "cell_type": "code",
   "execution_count": 25,
   "metadata": {
    "executionInfo": {
     "elapsed": 18834,
     "status": "ok",
     "timestamp": 1609771061640,
     "user": {
      "displayName": "Đăng Nguyễn Minh",
      "photoUrl": "https://lh3.googleusercontent.com/a-/AOh14GiHxFhiRiZfO2-tnxt2jb6zdUBS7JCK-jWOoyFD5g=s64",
      "userId": "17785050953591290309"
     },
     "user_tz": -420
    },
    "id": "pzMDvXKaVGKL"
   },
   "outputs": [],
   "source": [
    "y = dftmp['genre'].to_list()\n",
    "x = dftmp['count'].to_list()"
   ]
  },
  {
   "cell_type": "code",
   "execution_count": 26,
   "metadata": {
    "colab": {
     "base_uri": "https://localhost:8080/",
     "height": 536
    },
    "executionInfo": {
     "elapsed": 19386,
     "status": "ok",
     "timestamp": 1609771062202,
     "user": {
      "displayName": "Đăng Nguyễn Minh",
      "photoUrl": "https://lh3.googleusercontent.com/a-/AOh14GiHxFhiRiZfO2-tnxt2jb6zdUBS7JCK-jWOoyFD5g=s64",
      "userId": "17785050953591290309"
     },
     "user_tz": -420
    },
    "id": "RlRFdsrfVGKL",
    "outputId": "d3dc8c4c-c440-4bc2-d996-cdcf6186b018"
   },
   "outputs": [
    {
     "data": {
      "image/png": "[encoded data removed]",
      "text/plain": [
       "<Figure size 1080x720 with 1 Axes>"
      ]
     },
     "metadata": {
      "needs_background": "light"
     },
     "output_type": "display_data"
    }
   ],
   "source": [
    "fig1, ax1 = plt.subplots()\n",
    "fig1.set_size_inches(15,10)\n",
    "ax1.barh(y, x)\n",
    "plt.show()"
   ]
  },
  {
   "cell_type": "markdown",
   "metadata": {
    "id": "z_IG16chVGKL"
   },
   "source": [
    "### <u>PLOT 5:</u> Rating trung bình mỗi thể loại"
   ]
  },
  {
   "cell_type": "code",
   "execution_count": 27,
   "metadata": {
    "colab": {
     "base_uri": "https://localhost:8080/",
     "height": 0
    },
    "executionInfo": {
     "elapsed": 19379,
     "status": "ok",
     "timestamp": 1609771062204,
     "user": {
      "displayName": "Đăng Nguyễn Minh",
      "photoUrl": "https://lh3.googleusercontent.com/a-/AOh14GiHxFhiRiZfO2-tnxt2jb6zdUBS7JCK-jWOoyFD5g=s64",
      "userId": "17785050953591290309"
     },
     "user_tz": -420
    },
    "id": "KhPR3xaeVGKL",
    "outputId": "67e9cab9-60df-4054-c101-e54fe178b331"
   },
   "outputs": [
    {
     "data": {
      "text/html": [
       "<div>\n",
       "<style scoped>\n",
       "    .dataframe tbody tr th:only-of-type {\n",
       "        vertical-align: middle;\n",
       "    }\n",
       "\n",
       "    .dataframe tbody tr th {\n",
       "        vertical-align: top;\n",
       "    }\n",
       "\n",
       "    .dataframe thead th {\n",
       "        text-align: right;\n",
       "    }\n",
       "</style>\n",
       "<table border=\"1\" class=\"dataframe\">\n",
       "  <thead>\n",
       "    <tr style=\"text-align: right;\">\n",
       "      <th></th>\n",
       "      <th>tconst</th>\n",
       "      <th>name</th>\n",
       "      <th>year</th>\n",
       "      <th>rating</th>\n",
       "      <th>rating_count</th>\n",
       "      <th>story_line</th>\n",
       "      <th>genres</th>\n",
       "      <th>country</th>\n",
       "      <th>language</th>\n",
       "      <th>budget</th>\n",
       "      <th>gross</th>\n",
       "      <th>runtime</th>\n",
       "      <th>director</th>\n",
       "      <th>stars</th>\n",
       "    </tr>\n",
       "  </thead>\n",
       "  <tbody>\n",
       "    <tr>\n",
       "      <th>0</th>\n",
       "      <td>tt2077677</td>\n",
       "      <td>3Simoa</td>\n",
       "      <td>2012.0</td>\n",
       "      <td>6.4</td>\n",
       "      <td>370</td>\n",
       "      <td>A caper comedy about two friends, Simo and Las...</td>\n",
       "      <td>Comedy</td>\n",
       "      <td>Finland</td>\n",
       "      <td>Finnish</td>\n",
       "      <td>334784.0</td>\n",
       "      <td>93296</td>\n",
       "      <td>86</td>\n",
       "      <td>Teemu Nikki</td>\n",
       "      <td>Olli Rahkonen,Paula Vesala,Rami Rusinen</td>\n",
       "    </tr>\n",
       "    <tr>\n",
       "      <th>1</th>\n",
       "      <td>tt0106332</td>\n",
       "      <td>Ba wang bie ji</td>\n",
       "      <td>1993.0</td>\n",
       "      <td>8.1</td>\n",
       "      <td>24830</td>\n",
       "      <td>\"Farewell, My Concubine\" is a movie with two p...</td>\n",
       "      <td>Drama,Music,Romance</td>\n",
       "      <td>China,Hong Kong</td>\n",
       "      <td>Mandarin</td>\n",
       "      <td>4000000.0</td>\n",
       "      <td>5985074</td>\n",
       "      <td>171</td>\n",
       "      <td>Kaige Chen</td>\n",
       "      <td>Fengyi Zhang,Leslie Cheung,Li Gong</td>\n",
       "    </tr>\n",
       "    <tr>\n",
       "      <th>2</th>\n",
       "      <td>tt0116421</td>\n",
       "      <td>The Glimmer Man</td>\n",
       "      <td>1996.0</td>\n",
       "      <td>5.4</td>\n",
       "      <td>18687</td>\n",
       "      <td>Jack Cole is a soft spoken, mystical, new age ...</td>\n",
       "      <td>Action,Comedy,Crime</td>\n",
       "      <td>USA</td>\n",
       "      <td>Chinese,English,Russian</td>\n",
       "      <td>45000000.0</td>\n",
       "      <td>20351264</td>\n",
       "      <td>91</td>\n",
       "      <td>John Gray</td>\n",
       "      <td>Bob Gunton,Keenen Ivory Wayans,Steven Seagal</td>\n",
       "    </tr>\n",
       "    <tr>\n",
       "      <th>3</th>\n",
       "      <td>tt3170832</td>\n",
       "      <td>Room</td>\n",
       "      <td>2015.0</td>\n",
       "      <td>8.1</td>\n",
       "      <td>365849</td>\n",
       "      <td>ROOM tells the extraordinary story of Jack, a ...</td>\n",
       "      <td>Drama,Thriller</td>\n",
       "      <td>Canada,Ireland,UK,USA</td>\n",
       "      <td>English</td>\n",
       "      <td>13000000.0</td>\n",
       "      <td>35401758</td>\n",
       "      <td>118</td>\n",
       "      <td>Lenny Abrahamson</td>\n",
       "      <td>Brie Larson,Jacob Tremblay,Sean Bridgers</td>\n",
       "    </tr>\n",
       "    <tr>\n",
       "      <th>4</th>\n",
       "      <td>tt0204175</td>\n",
       "      <td>Boys and Girls</td>\n",
       "      <td>2000.0</td>\n",
       "      <td>5.4</td>\n",
       "      <td>15942</td>\n",
       "      <td>Jennifer and Ryan are students at UC Berkeley,...</td>\n",
       "      <td>Comedy,Drama,Romance</td>\n",
       "      <td>USA</td>\n",
       "      <td>English</td>\n",
       "      <td>35000000.0</td>\n",
       "      <td>25850615</td>\n",
       "      <td>94</td>\n",
       "      <td>Robert Iscove</td>\n",
       "      <td>Brendon Ryan Barrett,Claire Forlani,Freddie Pr...</td>\n",
       "    </tr>\n",
       "  </tbody>\n",
       "</table>\n",
       "</div>"
      ],
      "text/plain": [
       "      tconst             name    year  rating  rating_count  \\\n",
       "0  tt2077677           3Simoa  2012.0     6.4           370   \n",
       "1  tt0106332   Ba wang bie ji  1993.0     8.1         24830   \n",
       "2  tt0116421  The Glimmer Man  1996.0     5.4         18687   \n",
       "3  tt3170832             Room  2015.0     8.1        365849   \n",
       "4  tt0204175   Boys and Girls  2000.0     5.4         15942   \n",
       "\n",
       "                                          story_line                genres  \\\n",
       "0  A caper comedy about two friends, Simo and Las...                Comedy   \n",
       "1  \"Farewell, My Concubine\" is a movie with two p...   Drama,Music,Romance   \n",
       "2  Jack Cole is a soft spoken, mystical, new age ...   Action,Comedy,Crime   \n",
       "3  ROOM tells the extraordinary story of Jack, a ...        Drama,Thriller   \n",
       "4  Jennifer and Ryan are students at UC Berkeley,...  Comedy,Drama,Romance   \n",
       "\n",
       "                 country                 language      budget     gross  \\\n",
       "0                Finland                  Finnish    334784.0     93296   \n",
       "1        China,Hong Kong                 Mandarin   4000000.0   5985074   \n",
       "2                    USA  Chinese,English,Russian  45000000.0  20351264   \n",
       "3  Canada,Ireland,UK,USA                  English  13000000.0  35401758   \n",
       "4                    USA                  English  35000000.0  25850615   \n",
       "\n",
       "   runtime          director  \\\n",
       "0       86       Teemu Nikki   \n",
       "1      171        Kaige Chen   \n",
       "2       91         John Gray   \n",
       "3      118  Lenny Abrahamson   \n",
       "4       94     Robert Iscove   \n",
       "\n",
       "                                               stars  \n",
       "0            Olli Rahkonen,Paula Vesala,Rami Rusinen  \n",
       "1                 Fengyi Zhang,Leslie Cheung,Li Gong  \n",
       "2       Bob Gunton,Keenen Ivory Wayans,Steven Seagal  \n",
       "3           Brie Larson,Jacob Tremblay,Sean Bridgers  \n",
       "4  Brendon Ryan Barrett,Claire Forlani,Freddie Pr...  "
      ]
     },
     "execution_count": 27,
     "metadata": {},
     "output_type": "execute_result"
    }
   ],
   "source": [
    "df.head()"
   ]
  },
  {
   "cell_type": "code",
   "execution_count": 28,
   "metadata": {
    "colab": {
     "base_uri": "https://localhost:8080/",
     "height": 0
    },
    "executionInfo": {
     "elapsed": 19372,
     "status": "ok",
     "timestamp": 1609771062205,
     "user": {
      "displayName": "Đăng Nguyễn Minh",
      "photoUrl": "https://lh3.googleusercontent.com/a-/AOh14GiHxFhiRiZfO2-tnxt2jb6zdUBS7JCK-jWOoyFD5g=s64",
      "userId": "17785050953591290309"
     },
     "user_tz": -420
    },
    "id": "4Tk_2ZQBVGKL",
    "outputId": "1aff3d01-1a53-4eec-8aad-8bc85382c5f9"
   },
   "outputs": [
    {
     "data": {
      "text/html": [
       "<div>\n",
       "<style scoped>\n",
       "    .dataframe tbody tr th:only-of-type {\n",
       "        vertical-align: middle;\n",
       "    }\n",
       "\n",
       "    .dataframe tbody tr th {\n",
       "        vertical-align: top;\n",
       "    }\n",
       "\n",
       "    .dataframe thead th {\n",
       "        text-align: right;\n",
       "    }\n",
       "</style>\n",
       "<table border=\"1\" class=\"dataframe\">\n",
       "  <thead>\n",
       "    <tr style=\"text-align: right;\">\n",
       "      <th></th>\n",
       "      <th>rating</th>\n",
       "      <th>genres</th>\n",
       "    </tr>\n",
       "  </thead>\n",
       "  <tbody>\n",
       "    <tr>\n",
       "      <th>0</th>\n",
       "      <td>6.4</td>\n",
       "      <td>Comedy</td>\n",
       "    </tr>\n",
       "    <tr>\n",
       "      <th>1</th>\n",
       "      <td>8.1</td>\n",
       "      <td>Drama,Music,Romance</td>\n",
       "    </tr>\n",
       "    <tr>\n",
       "      <th>2</th>\n",
       "      <td>5.4</td>\n",
       "      <td>Action,Comedy,Crime</td>\n",
       "    </tr>\n",
       "    <tr>\n",
       "      <th>3</th>\n",
       "      <td>8.1</td>\n",
       "      <td>Drama,Thriller</td>\n",
       "    </tr>\n",
       "    <tr>\n",
       "      <th>4</th>\n",
       "      <td>5.4</td>\n",
       "      <td>Comedy,Drama,Romance</td>\n",
       "    </tr>\n",
       "    <tr>\n",
       "      <th>...</th>\n",
       "      <td>...</td>\n",
       "      <td>...</td>\n",
       "    </tr>\n",
       "    <tr>\n",
       "      <th>995</th>\n",
       "      <td>5.1</td>\n",
       "      <td>Action,Crime,Thriller</td>\n",
       "    </tr>\n",
       "    <tr>\n",
       "      <th>996</th>\n",
       "      <td>6.6</td>\n",
       "      <td>Comedy,Horror</td>\n",
       "    </tr>\n",
       "    <tr>\n",
       "      <th>997</th>\n",
       "      <td>6.4</td>\n",
       "      <td>Adventure,Mystery,Sci-Fi</td>\n",
       "    </tr>\n",
       "    <tr>\n",
       "      <th>998</th>\n",
       "      <td>6.5</td>\n",
       "      <td>Action,Drama</td>\n",
       "    </tr>\n",
       "    <tr>\n",
       "      <th>999</th>\n",
       "      <td>6.3</td>\n",
       "      <td>Comedy,Romance</td>\n",
       "    </tr>\n",
       "  </tbody>\n",
       "</table>\n",
       "<p>1000 rows × 2 columns</p>\n",
       "</div>"
      ],
      "text/plain": [
       "     rating                    genres\n",
       "0       6.4                    Comedy\n",
       "1       8.1       Drama,Music,Romance\n",
       "2       5.4       Action,Comedy,Crime\n",
       "3       8.1            Drama,Thriller\n",
       "4       5.4      Comedy,Drama,Romance\n",
       "..      ...                       ...\n",
       "995     5.1     Action,Crime,Thriller\n",
       "996     6.6             Comedy,Horror\n",
       "997     6.4  Adventure,Mystery,Sci-Fi\n",
       "998     6.5              Action,Drama\n",
       "999     6.3            Comedy,Romance\n",
       "\n",
       "[1000 rows x 2 columns]"
      ]
     },
     "execution_count": 28,
     "metadata": {},
     "output_type": "execute_result"
    }
   ],
   "source": [
    "dftmp=df[df.rating.notnull()][df.genres.notnull()][['rating','genres']]\n",
    "dftmp"
   ]
  },
  {
   "cell_type": "code",
   "execution_count": 29,
   "metadata": {
    "colab": {
     "base_uri": "https://localhost:8080/",
     "height": 0
    },
    "executionInfo": {
     "elapsed": 24717,
     "status": "ok",
     "timestamp": 1609771067557,
     "user": {
      "displayName": "Đăng Nguyễn Minh",
      "photoUrl": "https://lh3.googleusercontent.com/a-/AOh14GiHxFhiRiZfO2-tnxt2jb6zdUBS7JCK-jWOoyFD5g=s64",
      "userId": "17785050953591290309"
     },
     "user_tz": -420
    },
    "id": "vIZpVbHAVGKM",
    "outputId": "d262a07d-a3d2-433a-f29f-221a528c82e4"
   },
   "outputs": [
    {
     "data": {
      "text/html": [
       "<div>\n",
       "<style scoped>\n",
       "    .dataframe tbody tr th:only-of-type {\n",
       "        vertical-align: middle;\n",
       "    }\n",
       "\n",
       "    .dataframe tbody tr th {\n",
       "        vertical-align: top;\n",
       "    }\n",
       "\n",
       "    .dataframe thead th {\n",
       "        text-align: right;\n",
       "    }\n",
       "</style>\n",
       "<table border=\"1\" class=\"dataframe\">\n",
       "  <thead>\n",
       "    <tr style=\"text-align: right;\">\n",
       "      <th></th>\n",
       "      <th>genre</th>\n",
       "      <th>avg. rating</th>\n",
       "      <th>count</th>\n",
       "    </tr>\n",
       "  </thead>\n",
       "  <tbody>\n",
       "    <tr>\n",
       "      <th>20</th>\n",
       "      <td>Western</td>\n",
       "      <td>5.3500</td>\n",
       "      <td>4</td>\n",
       "    </tr>\n",
       "    <tr>\n",
       "      <th>9</th>\n",
       "      <td>Horror</td>\n",
       "      <td>5.6881</td>\n",
       "      <td>101</td>\n",
       "    </tr>\n",
       "    <tr>\n",
       "      <th>0</th>\n",
       "      <td>Comedy</td>\n",
       "      <td>5.9020</td>\n",
       "      <td>349</td>\n",
       "    </tr>\n",
       "    <tr>\n",
       "      <th>12</th>\n",
       "      <td>Family</td>\n",
       "      <td>5.9156</td>\n",
       "      <td>64</td>\n",
       "    </tr>\n",
       "    <tr>\n",
       "      <th>10</th>\n",
       "      <td>Sci-Fi</td>\n",
       "      <td>5.9167</td>\n",
       "      <td>48</td>\n",
       "    </tr>\n",
       "    <tr>\n",
       "      <th>4</th>\n",
       "      <td>Action</td>\n",
       "      <td>6.0588</td>\n",
       "      <td>204</td>\n",
       "    </tr>\n",
       "    <tr>\n",
       "      <th>8</th>\n",
       "      <td>Fantasy</td>\n",
       "      <td>6.0778</td>\n",
       "      <td>63</td>\n",
       "    </tr>\n",
       "    <tr>\n",
       "      <th>6</th>\n",
       "      <td>Thriller</td>\n",
       "      <td>6.1154</td>\n",
       "      <td>143</td>\n",
       "    </tr>\n",
       "    <tr>\n",
       "      <th>3</th>\n",
       "      <td>Romance</td>\n",
       "      <td>6.1318</td>\n",
       "      <td>176</td>\n",
       "    </tr>\n",
       "    <tr>\n",
       "      <th>13</th>\n",
       "      <td>Mystery</td>\n",
       "      <td>6.1364</td>\n",
       "      <td>66</td>\n",
       "    </tr>\n",
       "    <tr>\n",
       "      <th>15</th>\n",
       "      <td>Sport</td>\n",
       "      <td>6.2375</td>\n",
       "      <td>16</td>\n",
       "    </tr>\n",
       "    <tr>\n",
       "      <th>11</th>\n",
       "      <td>Adventure</td>\n",
       "      <td>6.2397</td>\n",
       "      <td>126</td>\n",
       "    </tr>\n",
       "    <tr>\n",
       "      <th>5</th>\n",
       "      <td>Crime</td>\n",
       "      <td>6.2663</td>\n",
       "      <td>175</td>\n",
       "    </tr>\n",
       "    <tr>\n",
       "      <th>16</th>\n",
       "      <td>Musical</td>\n",
       "      <td>6.3167</td>\n",
       "      <td>12</td>\n",
       "    </tr>\n",
       "    <tr>\n",
       "      <th>1</th>\n",
       "      <td>Drama</td>\n",
       "      <td>6.4420</td>\n",
       "      <td>566</td>\n",
       "    </tr>\n",
       "    <tr>\n",
       "      <th>2</th>\n",
       "      <td>Music</td>\n",
       "      <td>6.4796</td>\n",
       "      <td>49</td>\n",
       "    </tr>\n",
       "    <tr>\n",
       "      <th>19</th>\n",
       "      <td>History</td>\n",
       "      <td>6.5257</td>\n",
       "      <td>35</td>\n",
       "    </tr>\n",
       "    <tr>\n",
       "      <th>17</th>\n",
       "      <td>Biography</td>\n",
       "      <td>6.7373</td>\n",
       "      <td>59</td>\n",
       "    </tr>\n",
       "    <tr>\n",
       "      <th>7</th>\n",
       "      <td>War</td>\n",
       "      <td>6.7818</td>\n",
       "      <td>22</td>\n",
       "    </tr>\n",
       "    <tr>\n",
       "      <th>18</th>\n",
       "      <td>Animation</td>\n",
       "      <td>7.0500</td>\n",
       "      <td>20</td>\n",
       "    </tr>\n",
       "    <tr>\n",
       "      <th>14</th>\n",
       "      <td>Documentary</td>\n",
       "      <td>7.2417</td>\n",
       "      <td>24</td>\n",
       "    </tr>\n",
       "  </tbody>\n",
       "</table>\n",
       "</div>"
      ],
      "text/plain": [
       "          genre  avg. rating count\n",
       "20      Western       5.3500     4\n",
       "9        Horror       5.6881   101\n",
       "0        Comedy       5.9020   349\n",
       "12       Family       5.9156    64\n",
       "10       Sci-Fi       5.9167    48\n",
       "4        Action       6.0588   204\n",
       "8       Fantasy       6.0778    63\n",
       "6      Thriller       6.1154   143\n",
       "3       Romance       6.1318   176\n",
       "13      Mystery       6.1364    66\n",
       "15        Sport       6.2375    16\n",
       "11    Adventure       6.2397   126\n",
       "5         Crime       6.2663   175\n",
       "16      Musical       6.3167    12\n",
       "1         Drama       6.4420   566\n",
       "2         Music       6.4796    49\n",
       "19      History       6.5257    35\n",
       "17    Biography       6.7373    59\n",
       "7           War       6.7818    22\n",
       "18    Animation       7.0500    20\n",
       "14  Documentary       7.2417    24"
      ]
     },
     "execution_count": 29,
     "metadata": {},
     "output_type": "execute_result"
    }
   ],
   "source": [
    "genres_score_dict=dict()\n",
    "genres_count_dict=dict()\n",
    "for genre in genres:\n",
    "    genres_score_dict[genre] = round(dftmp[dftmp.genres.str.contains(genre)]['rating'].mean(), 4)\n",
    "for genre in genres:\n",
    "    genres_count_dict[genre] = dftmp[dftmp.genres.str.contains(genre)]['rating'].count()\n",
    "dftmp=pd.DataFrame(columns=[\"genre\", \"avg. rating\", \"count\"])\n",
    "for idx, genre in enumerate(genres):\n",
    "    dftmp.loc[idx] = [genre, genres_score_dict[genre], genres_count_dict[genre]]\n",
    "dftmp=dftmp.sort_values(by=['avg. rating'])\n",
    "dftmp"
   ]
  },
  {
   "cell_type": "code",
   "execution_count": 30,
   "metadata": {
    "colab": {
     "base_uri": "https://localhost:8080/",
     "height": 0
    },
    "executionInfo": {
     "elapsed": 24714,
     "status": "ok",
     "timestamp": 1609771067561,
     "user": {
      "displayName": "Đăng Nguyễn Minh",
      "photoUrl": "https://lh3.googleusercontent.com/a-/AOh14GiHxFhiRiZfO2-tnxt2jb6zdUBS7JCK-jWOoyFD5g=s64",
      "userId": "17785050953591290309"
     },
     "user_tz": -420
    },
    "id": "jQjmX60kVGKM",
    "outputId": "f65e0613-4897-417e-e190-d456f5799ecb"
   },
   "outputs": [
    {
     "data": {
      "image/png": "[encoded data removed]",
      "text/plain": [
       "<Figure size 1080x720 with 1 Axes>"
      ]
     },
     "metadata": {
      "needs_background": "light"
     },
     "output_type": "display_data"
    }
   ],
   "source": [
    "y = dftmp['genre'].to_list()\n",
    "x = dftmp['avg. rating'].to_list()\n",
    "fig1, ax1 = plt.subplots()\n",
    "fig1.set_size_inches(15,10)\n",
    "ax1.barh(y, x)\n",
    "plt.xlim([4.5,7.5])\n",
    "plt.show()"
   ]
  },
  {
   "cell_type": "markdown",
   "metadata": {
    "id": "27ye14Xeh2yw"
   },
   "source": [
    "### <u>PLOT 6</u>: Doanh thu trung bình theo năm"
   ]
  },
  {
   "cell_type": "code",
   "execution_count": 31,
   "metadata": {
    "colab": {
     "base_uri": "https://localhost:8080/",
     "height": 0
    },
    "executionInfo": {
     "elapsed": 25070,
     "status": "ok",
     "timestamp": 1609771067923,
     "user": {
      "displayName": "Đăng Nguyễn Minh",
      "photoUrl": "https://lh3.googleusercontent.com/a-/AOh14GiHxFhiRiZfO2-tnxt2jb6zdUBS7JCK-jWOoyFD5g=s64",
      "userId": "17785050953591290309"
     },
     "user_tz": -420
    },
    "id": "pciNl6U_h700",
    "outputId": "250a2c31-7c4f-4a3b-bab9-79636390d3eb"
   },
   "outputs": [
    {
     "data": {
      "text/html": [
       "<div>\n",
       "<style scoped>\n",
       "    .dataframe tbody tr th:only-of-type {\n",
       "        vertical-align: middle;\n",
       "    }\n",
       "\n",
       "    .dataframe tbody tr th {\n",
       "        vertical-align: top;\n",
       "    }\n",
       "\n",
       "    .dataframe thead th {\n",
       "        text-align: right;\n",
       "    }\n",
       "</style>\n",
       "<table border=\"1\" class=\"dataframe\">\n",
       "  <thead>\n",
       "    <tr style=\"text-align: right;\">\n",
       "      <th></th>\n",
       "      <th>gross</th>\n",
       "      <th>year</th>\n",
       "    </tr>\n",
       "  </thead>\n",
       "  <tbody>\n",
       "    <tr>\n",
       "      <th>0</th>\n",
       "      <td>93296</td>\n",
       "      <td>2012.0</td>\n",
       "    </tr>\n",
       "    <tr>\n",
       "      <th>1</th>\n",
       "      <td>5985074</td>\n",
       "      <td>1993.0</td>\n",
       "    </tr>\n",
       "    <tr>\n",
       "      <th>2</th>\n",
       "      <td>20351264</td>\n",
       "      <td>1996.0</td>\n",
       "    </tr>\n",
       "    <tr>\n",
       "      <th>3</th>\n",
       "      <td>35401758</td>\n",
       "      <td>2015.0</td>\n",
       "    </tr>\n",
       "    <tr>\n",
       "      <th>4</th>\n",
       "      <td>25850615</td>\n",
       "      <td>2000.0</td>\n",
       "    </tr>\n",
       "    <tr>\n",
       "      <th>...</th>\n",
       "      <td>...</td>\n",
       "      <td>...</td>\n",
       "    </tr>\n",
       "    <tr>\n",
       "      <th>995</th>\n",
       "      <td>189739</td>\n",
       "      <td>2013.0</td>\n",
       "    </tr>\n",
       "    <tr>\n",
       "      <th>996</th>\n",
       "      <td>41537</td>\n",
       "      <td>2013.0</td>\n",
       "    </tr>\n",
       "    <tr>\n",
       "      <th>997</th>\n",
       "      <td>82604699</td>\n",
       "      <td>1979.0</td>\n",
       "    </tr>\n",
       "    <tr>\n",
       "      <th>998</th>\n",
       "      <td>1838858</td>\n",
       "      <td>2010.0</td>\n",
       "    </tr>\n",
       "    <tr>\n",
       "      <th>999</th>\n",
       "      <td>294212</td>\n",
       "      <td>1996.0</td>\n",
       "    </tr>\n",
       "  </tbody>\n",
       "</table>\n",
       "<p>1000 rows × 2 columns</p>\n",
       "</div>"
      ],
      "text/plain": [
       "        gross    year\n",
       "0       93296  2012.0\n",
       "1     5985074  1993.0\n",
       "2    20351264  1996.0\n",
       "3    35401758  2015.0\n",
       "4    25850615  2000.0\n",
       "..        ...     ...\n",
       "995    189739  2013.0\n",
       "996     41537  2013.0\n",
       "997  82604699  1979.0\n",
       "998   1838858  2010.0\n",
       "999    294212  1996.0\n",
       "\n",
       "[1000 rows x 2 columns]"
      ]
     },
     "execution_count": 31,
     "metadata": {},
     "output_type": "execute_result"
    }
   ],
   "source": [
    "dftmp=df[df.gross.notnull()][['gross', 'year']]\r\n",
    "dftmp"
   ]
  },
  {
   "cell_type": "code",
   "execution_count": 32,
   "metadata": {
    "colab": {
     "base_uri": "https://localhost:8080/",
     "height": 0
    },
    "executionInfo": {
     "elapsed": 25065,
     "status": "ok",
     "timestamp": 1609771067924,
     "user": {
      "displayName": "Đăng Nguyễn Minh",
      "photoUrl": "https://lh3.googleusercontent.com/a-/AOh14GiHxFhiRiZfO2-tnxt2jb6zdUBS7JCK-jWOoyFD5g=s64",
      "userId": "17785050953591290309"
     },
     "user_tz": -420
    },
    "id": "wJTLIBwIh9ii",
    "outputId": "11ab629f-5e70-4c8f-f60c-9146394ec54f"
   },
   "outputs": [
    {
     "data": {
      "text/plain": [
       "<AxesSubplot:ylabel='Frequency'>"
      ]
     },
     "execution_count": 32,
     "metadata": {},
     "output_type": "execute_result"
    },
    {
     "data": {
      "image/png": "[encoded data removed]",
      "text/plain": [
       "<Figure size 432x288 with 1 Axes>"
      ]
     },
     "metadata": {
      "needs_background": "light"
     },
     "output_type": "display_data"
    }
   ],
   "source": [
    "dftmp.groupby('year').min().plot(kind='hist')"
   ]
  },
  {
   "cell_type": "code",
   "execution_count": 33,
   "metadata": {
    "colab": {
     "base_uri": "https://localhost:8080/",
     "height": 0
    },
    "executionInfo": {
     "elapsed": 25424,
     "status": "ok",
     "timestamp": 1609771068288,
     "user": {
      "displayName": "Đăng Nguyễn Minh",
      "photoUrl": "https://lh3.googleusercontent.com/a-/AOh14GiHxFhiRiZfO2-tnxt2jb6zdUBS7JCK-jWOoyFD5g=s64",
      "userId": "17785050953591290309"
     },
     "user_tz": -420
    },
    "id": "tPnrLoK2kzs7",
    "outputId": "76de3ade-270d-4faf-a6d2-d30ed832357a"
   },
   "outputs": [
    {
     "data": {
      "text/plain": [
       "<AxesSubplot:ylabel='Frequency'>"
      ]
     },
     "execution_count": 33,
     "metadata": {},
     "output_type": "execute_result"
    },
    {
     "data": {
      "image/png": "[encoded data removed]",
      "text/plain": [
       "<Figure size 432x288 with 1 Axes>"
      ]
     },
     "metadata": {
      "needs_background": "light"
     },
     "output_type": "display_data"
    }
   ],
   "source": [
    "dftmp.groupby('year').max().plot(kind='hist')"
   ]
  },
  {
   "cell_type": "code",
   "execution_count": 34,
   "metadata": {
    "colab": {
     "base_uri": "https://localhost:8080/",
     "height": 0
    },
    "executionInfo": {
     "elapsed": 25851,
     "status": "ok",
     "timestamp": 1609771068721,
     "user": {
      "displayName": "Đăng Nguyễn Minh",
      "photoUrl": "https://lh3.googleusercontent.com/a-/AOh14GiHxFhiRiZfO2-tnxt2jb6zdUBS7JCK-jWOoyFD5g=s64",
      "userId": "17785050953591290309"
     },
     "user_tz": -420
    },
    "id": "XfNkZ3Cyk7Qe",
    "outputId": "b9b9200f-c9e4-4277-8966-4b31e2149122"
   },
   "outputs": [
    {
     "data": {
      "text/plain": [
       "<AxesSubplot:ylabel='Frequency'>"
      ]
     },
     "execution_count": 34,
     "metadata": {},
     "output_type": "execute_result"
    },
    {
     "data": {
      "image/png": "[encoded data removed]",
      "text/plain": [
       "<Figure size 432x288 with 1 Axes>"
      ]
     },
     "metadata": {
      "needs_background": "light"
     },
     "output_type": "display_data"
    }
   ],
   "source": [
    "dftmp.groupby('year').min().plot(kind='hist', bins=30)"
   ]
  },
  {
   "cell_type": "code",
   "execution_count": 35,
   "metadata": {
    "colab": {
     "base_uri": "https://localhost:8080/",
     "height": 0
    },
    "executionInfo": {
     "elapsed": 25850,
     "status": "ok",
     "timestamp": 1609771068725,
     "user": {
      "displayName": "Đăng Nguyễn Minh",
      "photoUrl": "https://lh3.googleusercontent.com/a-/AOh14GiHxFhiRiZfO2-tnxt2jb6zdUBS7JCK-jWOoyFD5g=s64",
      "userId": "17785050953591290309"
     },
     "user_tz": -420
    },
    "id": "8arq1prVlITs",
    "outputId": "dff05a23-9a39-4090-a343-5277675709a8"
   },
   "outputs": [
    {
     "data": {
      "text/plain": [
       "<AxesSubplot:ylabel='Frequency'>"
      ]
     },
     "execution_count": 35,
     "metadata": {},
     "output_type": "execute_result"
    },
    {
     "data": {
      "image/png": "[encoded data removed]",
      "text/plain": [
       "<Figure size 432x288 with 1 Axes>"
      ]
     },
     "metadata": {
      "needs_background": "light"
     },
     "output_type": "display_data"
    }
   ],
   "source": [
    "dftmp.groupby('year').max().plot(kind='hist', bins=30)"
   ]
  },
  {
   "cell_type": "code",
   "execution_count": 36,
   "metadata": {
    "colab": {
     "base_uri": "https://localhost:8080/",
     "height": 0
    },
    "executionInfo": {
     "elapsed": 26292,
     "status": "ok",
     "timestamp": 1609771069173,
     "user": {
      "displayName": "Đăng Nguyễn Minh",
      "photoUrl": "https://lh3.googleusercontent.com/a-/AOh14GiHxFhiRiZfO2-tnxt2jb6zdUBS7JCK-jWOoyFD5g=s64",
      "userId": "17785050953591290309"
     },
     "user_tz": -420
    },
    "id": "NFgW3XUUvSIG",
    "outputId": "f2c3d2a5-e7d1-4967-fe9f-a5130c257c31"
   },
   "outputs": [
    {
     "data": {
      "text/plain": [
       "<AxesSubplot:xlabel='year'>"
      ]
     },
     "execution_count": 36,
     "metadata": {},
     "output_type": "execute_result"
    },
    {
     "data": {
      "image/png": "[encoded data removed]",
      "text/plain": [
       "<Figure size 432x288 with 1 Axes>"
      ]
     },
     "metadata": {
      "needs_background": "light"
     },
     "output_type": "display_data"
    }
   ],
   "source": [
    "dftmp.groupby('year').mean().plot(kind='line')"
   ]
  },
  {
   "cell_type": "markdown",
   "metadata": {
    "id": "6jHf9nx1kOAZ"
   },
   "source": [
    "### <u>PLOT 7</u>: TOP 5 quốc gia theo số lượng phim"
   ]
  },
  {
   "cell_type": "code",
   "execution_count": 37,
   "metadata": {
    "colab": {
     "base_uri": "https://localhost:8080/"
    },
    "executionInfo": {
     "elapsed": 66185,
     "status": "ok",
     "timestamp": 1609771109070,
     "user": {
      "displayName": "Đăng Nguyễn Minh",
      "photoUrl": "https://lh3.googleusercontent.com/a-/AOh14GiHxFhiRiZfO2-tnxt2jb6zdUBS7JCK-jWOoyFD5g=s64",
      "userId": "17785050953591290309"
     },
     "user_tz": -420
    },
    "id": "aCKDqZCridGQ",
    "outputId": "646dd3d5-d038-4ffa-ef76-5f510177333e"
   },
   "outputs": [
    {
     "data": {
      "text/plain": [
       "{'Romania': 11,\n",
       " 'Cambodia': 1,\n",
       " 'Netherlands': 14,\n",
       " 'China': 31,\n",
       " 'Peru': 2,\n",
       " 'Morocco': 2,\n",
       " 'Latvia': 3,\n",
       " 'Hungary': 13,\n",
       " 'Australia': 21,\n",
       " 'Egypt': 6,\n",
       " 'Taiwan': 3,\n",
       " 'Switzerland': 9,\n",
       " 'Brazil': 12,\n",
       " 'France': 108,\n",
       " 'Bosnia and Herzegovina': 1,\n",
       " 'Republic of North Macedonia': 1,\n",
       " 'Philippines': 2,\n",
       " 'Pakistan': 1,\n",
       " 'Ukraine': 5,\n",
       " 'South Korea': 11,\n",
       " 'India': 42,\n",
       " 'Malaysia': 2,\n",
       " 'Qatar': 1,\n",
       " 'Venezuela': 2,\n",
       " 'Estonia': 3,\n",
       " 'Sweden': 17,\n",
       " 'Iceland': 11,\n",
       " 'Canada': 65,\n",
       " 'Singapore': 5,\n",
       " 'Chile': 2,\n",
       " 'UK': 135,\n",
       " 'Uruguay': 2,\n",
       " 'USA': 534,\n",
       " 'Greece': 1,\n",
       " 'Kazakhstan': 1,\n",
       " 'Argentina': 11,\n",
       " 'Turkey': 13,\n",
       " 'Thailand': 2,\n",
       " 'Finland': 28,\n",
       " 'United Arab Emirates': 4,\n",
       " 'Bulgaria': 5,\n",
       " 'Russia': 20,\n",
       " 'Soviet Union': 1,\n",
       " 'Dominican Republic': 2,\n",
       " 'Slovakia': 5,\n",
       " 'Ireland': 9,\n",
       " 'Lithuania': 1,\n",
       " 'Czech Republic': 10,\n",
       " 'Israel': 2,\n",
       " 'New Zealand': 3,\n",
       " 'Italy': 38,\n",
       " 'Norway': 20,\n",
       " 'Isle Of Man': 1,\n",
       " 'Poland': 4,\n",
       " 'Spain': 33,\n",
       " 'South Africa': 9,\n",
       " 'Bolivia': 1,\n",
       " 'Luxembourg': 5,\n",
       " 'Cuba': 2,\n",
       " 'Indonesia': 1,\n",
       " 'Serbia': 1,\n",
       " 'Hong Kong': 19,\n",
       " 'Belgium': 28,\n",
       " 'Jordan': 1,\n",
       " 'Slovenia': 1,\n",
       " 'Colombia': 1,\n",
       " 'Portugal': 5,\n",
       " 'West Germany': 6,\n",
       " 'Japan': 25,\n",
       " 'Mexico': 21,\n",
       " 'Jamaica': 1,\n",
       " 'Ethiopia': 1,\n",
       " 'Palestine': 1,\n",
       " 'Austria': 3,\n",
       " 'Denmark': 17,\n",
       " 'Germany': 91}"
      ]
     },
     "execution_count": 37,
     "metadata": {},
     "output_type": "execute_result"
    }
   ],
   "source": [
    "dftmp=df[df.country.notnull()][['country']]\r\n",
    "country_list=[]\r\n",
    "for ctr in dftmp.country.to_list():\r\n",
    "    for c in ctr.split(','):\r\n",
    "        country_list.append(c)\r\n",
    "country_list=list(set(country_list))\r\n",
    "country_count_dict=dict()\r\n",
    "for c in country_list:\r\n",
    "    country_count_dict[c]=dftmp[dftmp.country.str.contains(c)].shape[0]\r\n",
    "country_count_dict"
   ]
  },
  {
   "cell_type": "code",
   "execution_count": 38,
   "metadata": {
    "colab": {
     "base_uri": "https://localhost:8080/",
     "height": 415
    },
    "executionInfo": {
     "elapsed": 66550,
     "status": "ok",
     "timestamp": 1609771109441,
     "user": {
      "displayName": "Đăng Nguyễn Minh",
      "photoUrl": "https://lh3.googleusercontent.com/a-/AOh14GiHxFhiRiZfO2-tnxt2jb6zdUBS7JCK-jWOoyFD5g=s64",
      "userId": "17785050953591290309"
     },
     "user_tz": -420
    },
    "id": "D-3fv9PwlnN8",
    "outputId": "dbd21aef-56e8-409c-84b3-3604ba1664dc"
   },
   "outputs": [
    {
     "data": {
      "text/html": [
       "<div>\n",
       "<style scoped>\n",
       "    .dataframe tbody tr th:only-of-type {\n",
       "        vertical-align: middle;\n",
       "    }\n",
       "\n",
       "    .dataframe tbody tr th {\n",
       "        vertical-align: top;\n",
       "    }\n",
       "\n",
       "    .dataframe thead th {\n",
       "        text-align: right;\n",
       "    }\n",
       "</style>\n",
       "<table border=\"1\" class=\"dataframe\">\n",
       "  <thead>\n",
       "    <tr style=\"text-align: right;\">\n",
       "      <th></th>\n",
       "      <th>country</th>\n",
       "      <th>count</th>\n",
       "    </tr>\n",
       "  </thead>\n",
       "  <tbody>\n",
       "    <tr>\n",
       "      <th>32</th>\n",
       "      <td>USA</td>\n",
       "      <td>534</td>\n",
       "    </tr>\n",
       "    <tr>\n",
       "      <th>30</th>\n",
       "      <td>UK</td>\n",
       "      <td>135</td>\n",
       "    </tr>\n",
       "    <tr>\n",
       "      <th>13</th>\n",
       "      <td>France</td>\n",
       "      <td>108</td>\n",
       "    </tr>\n",
       "    <tr>\n",
       "      <th>75</th>\n",
       "      <td>Germany</td>\n",
       "      <td>91</td>\n",
       "    </tr>\n",
       "    <tr>\n",
       "      <th>27</th>\n",
       "      <td>Canada</td>\n",
       "      <td>65</td>\n",
       "    </tr>\n",
       "    <tr>\n",
       "      <th>...</th>\n",
       "      <td>...</td>\n",
       "      <td>...</td>\n",
       "    </tr>\n",
       "    <tr>\n",
       "      <th>17</th>\n",
       "      <td>Pakistan</td>\n",
       "      <td>1</td>\n",
       "    </tr>\n",
       "    <tr>\n",
       "      <th>60</th>\n",
       "      <td>Serbia</td>\n",
       "      <td>1</td>\n",
       "    </tr>\n",
       "    <tr>\n",
       "      <th>59</th>\n",
       "      <td>Indonesia</td>\n",
       "      <td>1</td>\n",
       "    </tr>\n",
       "    <tr>\n",
       "      <th>42</th>\n",
       "      <td>Soviet Union</td>\n",
       "      <td>1</td>\n",
       "    </tr>\n",
       "    <tr>\n",
       "      <th>63</th>\n",
       "      <td>Jordan</td>\n",
       "      <td>1</td>\n",
       "    </tr>\n",
       "  </tbody>\n",
       "</table>\n",
       "<p>76 rows × 2 columns</p>\n",
       "</div>"
      ],
      "text/plain": [
       "         country count\n",
       "32           USA   534\n",
       "30            UK   135\n",
       "13        France   108\n",
       "75       Germany    91\n",
       "27        Canada    65\n",
       "..           ...   ...\n",
       "17      Pakistan     1\n",
       "60        Serbia     1\n",
       "59     Indonesia     1\n",
       "42  Soviet Union     1\n",
       "63        Jordan     1\n",
       "\n",
       "[76 rows x 2 columns]"
      ]
     },
     "execution_count": 38,
     "metadata": {},
     "output_type": "execute_result"
    }
   ],
   "source": [
    "dftmp=pd.DataFrame(columns=[\"country\", \"count\"])\r\n",
    "for idx, c in enumerate(country_list):\r\n",
    "    dftmp.loc[idx] = [c, country_count_dict[c]]\r\n",
    "dftmp.sort_values(by=\"count\", ascending=False, inplace=True)\r\n",
    "dftmp"
   ]
  },
  {
   "cell_type": "code",
   "execution_count": 39,
   "metadata": {
    "colab": {
     "base_uri": "https://localhost:8080/",
     "height": 333
    },
    "executionInfo": {
     "elapsed": 66906,
     "status": "ok",
     "timestamp": 1609771109802,
     "user": {
      "displayName": "Đăng Nguyễn Minh",
      "photoUrl": "https://lh3.googleusercontent.com/a-/AOh14GiHxFhiRiZfO2-tnxt2jb6zdUBS7JCK-jWOoyFD5g=s64",
      "userId": "17785050953591290309"
     },
     "user_tz": -420
    },
    "id": "jtnRNsEqnkl_",
    "outputId": "789ae46e-f8cf-4721-81bd-6793f011d709"
   },
   "outputs": [
    {
     "data": {
      "text/plain": [
       "<AxesSubplot:xlabel='country'>"
      ]
     },
     "execution_count": 39,
     "metadata": {},
     "output_type": "execute_result"
    },
    {
     "data": {
      "image/png": "[encoded data removed]",
      "text/plain": [
       "<Figure size 432x288 with 1 Axes>"
      ]
     },
     "metadata": {
      "needs_background": "light"
     },
     "output_type": "display_data"
    }
   ],
   "source": [
    "dftmp[:5].plot(kind='bar', x=\"country\",y=\"count\")"
   ]
  },
  {
   "cell_type": "markdown",
   "metadata": {
    "id": "dWEEugJZpsgs"
   },
   "source": [
    "### <u>PLOT 8</u>: TOP 10 phim được đánh giá cao nhất (toàn thế giới)\r\n"
   ]
  },
  {
   "cell_type": "code",
   "execution_count": 40,
   "metadata": {
    "colab": {
     "base_uri": "https://localhost:8080/",
     "height": 294
    },
    "executionInfo": {
     "elapsed": 790,
     "status": "ok",
     "timestamp": 1609771229363,
     "user": {
      "displayName": "Đăng Nguyễn Minh",
      "photoUrl": "https://lh3.googleusercontent.com/a-/AOh14GiHxFhiRiZfO2-tnxt2jb6zdUBS7JCK-jWOoyFD5g=s64",
      "userId": "17785050953591290309"
     },
     "user_tz": -420
    },
    "id": "Tpr53z6T1vFV",
    "outputId": "b41a76c9-97ff-464e-8157-d21915d7cedf"
   },
   "outputs": [
    {
     "data": {
      "text/html": [
       "<div>\n",
       "<style scoped>\n",
       "    .dataframe tbody tr th:only-of-type {\n",
       "        vertical-align: middle;\n",
       "    }\n",
       "\n",
       "    .dataframe tbody tr th {\n",
       "        vertical-align: top;\n",
       "    }\n",
       "\n",
       "    .dataframe thead th {\n",
       "        text-align: right;\n",
       "    }\n",
       "</style>\n",
       "<table border=\"1\" class=\"dataframe\">\n",
       "  <thead>\n",
       "    <tr style=\"text-align: right;\">\n",
       "      <th></th>\n",
       "      <th>rating_count</th>\n",
       "    </tr>\n",
       "  </thead>\n",
       "  <tbody>\n",
       "    <tr>\n",
       "      <th>count</th>\n",
       "      <td>1.000000e+03</td>\n",
       "    </tr>\n",
       "    <tr>\n",
       "      <th>mean</th>\n",
       "      <td>4.794315e+04</td>\n",
       "    </tr>\n",
       "    <tr>\n",
       "      <th>std</th>\n",
       "      <td>1.369032e+05</td>\n",
       "    </tr>\n",
       "    <tr>\n",
       "      <th>min</th>\n",
       "      <td>6.000000e+00</td>\n",
       "    </tr>\n",
       "    <tr>\n",
       "      <th>25%</th>\n",
       "      <td>7.932500e+02</td>\n",
       "    </tr>\n",
       "    <tr>\n",
       "      <th>50%</th>\n",
       "      <td>6.202500e+03</td>\n",
       "    </tr>\n",
       "    <tr>\n",
       "      <th>75%</th>\n",
       "      <td>3.524400e+04</td>\n",
       "    </tr>\n",
       "    <tr>\n",
       "      <th>max</th>\n",
       "      <td>1.836256e+06</td>\n",
       "    </tr>\n",
       "  </tbody>\n",
       "</table>\n",
       "</div>"
      ],
      "text/plain": [
       "       rating_count\n",
       "count  1.000000e+03\n",
       "mean   4.794315e+04\n",
       "std    1.369032e+05\n",
       "min    6.000000e+00\n",
       "25%    7.932500e+02\n",
       "50%    6.202500e+03\n",
       "75%    3.524400e+04\n",
       "max    1.836256e+06"
      ]
     },
     "execution_count": 40,
     "metadata": {},
     "output_type": "execute_result"
    }
   ],
   "source": [
    "df[df.rating_count.notnull()][['rating_count']].describe()"
   ]
  },
  {
   "cell_type": "code",
   "execution_count": 41,
   "metadata": {
    "colab": {
     "base_uri": "https://localhost:8080/",
     "height": 410
    },
    "executionInfo": {
     "elapsed": 825,
     "status": "ok",
     "timestamp": 1609771696528,
     "user": {
      "displayName": "Đăng Nguyễn Minh",
      "photoUrl": "https://lh3.googleusercontent.com/a-/AOh14GiHxFhiRiZfO2-tnxt2jb6zdUBS7JCK-jWOoyFD5g=s64",
      "userId": "17785050953591290309"
     },
     "user_tz": -420
    },
    "id": "5ojapn4En35d",
    "outputId": "49e4b741-e1fd-4f24-cdab-9148d104eaab"
   },
   "outputs": [
    {
     "data": {
      "text/html": [
       "<div>\n",
       "<style scoped>\n",
       "    .dataframe tbody tr th:only-of-type {\n",
       "        vertical-align: middle;\n",
       "    }\n",
       "\n",
       "    .dataframe tbody tr th {\n",
       "        vertical-align: top;\n",
       "    }\n",
       "\n",
       "    .dataframe thead th {\n",
       "        text-align: right;\n",
       "    }\n",
       "</style>\n",
       "<table border=\"1\" class=\"dataframe\">\n",
       "  <thead>\n",
       "    <tr style=\"text-align: right;\">\n",
       "      <th></th>\n",
       "      <th>tconst</th>\n",
       "      <th>name</th>\n",
       "      <th>year</th>\n",
       "      <th>rating</th>\n",
       "      <th>rating_count</th>\n",
       "    </tr>\n",
       "  </thead>\n",
       "  <tbody>\n",
       "    <tr>\n",
       "      <th>256</th>\n",
       "      <td>tt0137523</td>\n",
       "      <td>Fight Club</td>\n",
       "      <td>1999.0</td>\n",
       "      <td>8.8</td>\n",
       "      <td>1836256</td>\n",
       "    </tr>\n",
       "    <tr>\n",
       "      <th>596</th>\n",
       "      <td>tt0076759</td>\n",
       "      <td>Star Wars</td>\n",
       "      <td>1977.0</td>\n",
       "      <td>8.6</td>\n",
       "      <td>1219843</td>\n",
       "    </tr>\n",
       "    <tr>\n",
       "      <th>235</th>\n",
       "      <td>tt0102926</td>\n",
       "      <td>The Silence of the Lambs</td>\n",
       "      <td>1991.0</td>\n",
       "      <td>8.6</td>\n",
       "      <td>1257236</td>\n",
       "    </tr>\n",
       "    <tr>\n",
       "      <th>198</th>\n",
       "      <td>tt0114814</td>\n",
       "      <td>The Usual Suspects</td>\n",
       "      <td>1995.0</td>\n",
       "      <td>8.5</td>\n",
       "      <td>982719</td>\n",
       "    </tr>\n",
       "    <tr>\n",
       "      <th>801</th>\n",
       "      <td>tt1345836</td>\n",
       "      <td>The Dark Knight Rises</td>\n",
       "      <td>2012.0</td>\n",
       "      <td>8.4</td>\n",
       "      <td>1502247</td>\n",
       "    </tr>\n",
       "    <tr>\n",
       "      <th>560</th>\n",
       "      <td>tt0264464</td>\n",
       "      <td>Catch Me If You Can</td>\n",
       "      <td>2002.0</td>\n",
       "      <td>8.1</td>\n",
       "      <td>818050</td>\n",
       "    </tr>\n",
       "    <tr>\n",
       "      <th>847</th>\n",
       "      <td>tt0378194</td>\n",
       "      <td>Kill Bill: Vol. 2</td>\n",
       "      <td>2004.0</td>\n",
       "      <td>8.0</td>\n",
       "      <td>678084</td>\n",
       "    </tr>\n",
       "    <tr>\n",
       "      <th>239</th>\n",
       "      <td>tt0848228</td>\n",
       "      <td>The Avengers</td>\n",
       "      <td>2012.0</td>\n",
       "      <td>8.0</td>\n",
       "      <td>1252485</td>\n",
       "    </tr>\n",
       "    <tr>\n",
       "      <th>445</th>\n",
       "      <td>tt0796366</td>\n",
       "      <td>Star Trek</td>\n",
       "      <td>2009.0</td>\n",
       "      <td>7.9</td>\n",
       "      <td>575035</td>\n",
       "    </tr>\n",
       "    <tr>\n",
       "      <th>367</th>\n",
       "      <td>tt0181689</td>\n",
       "      <td>Minority Report</td>\n",
       "      <td>2002.0</td>\n",
       "      <td>7.6</td>\n",
       "      <td>504613</td>\n",
       "    </tr>\n",
       "  </tbody>\n",
       "</table>\n",
       "</div>"
      ],
      "text/plain": [
       "        tconst                      name    year  rating  rating_count\n",
       "256  tt0137523                Fight Club  1999.0     8.8       1836256\n",
       "596  tt0076759                 Star Wars  1977.0     8.6       1219843\n",
       "235  tt0102926  The Silence of the Lambs  1991.0     8.6       1257236\n",
       "198  tt0114814        The Usual Suspects  1995.0     8.5        982719\n",
       "801  tt1345836     The Dark Knight Rises  2012.0     8.4       1502247\n",
       "560  tt0264464       Catch Me If You Can  2002.0     8.1        818050\n",
       "847  tt0378194         Kill Bill: Vol. 2  2004.0     8.0        678084\n",
       "239  tt0848228              The Avengers  2012.0     8.0       1252485\n",
       "445  tt0796366                 Star Trek  2009.0     7.9        575035\n",
       "367  tt0181689           Minority Report  2002.0     7.6        504613"
      ]
     },
     "execution_count": 41,
     "metadata": {},
     "output_type": "execute_result"
    }
   ],
   "source": [
    "dftmp=df[df.rating.notnull()][df['rating_count'] >= 500000][['tconst', 'name', 'year', 'rating', 'rating_count']]\r\n",
    "dftmp.sort_values(by=['rating','rating_count'], ascending=[False, True], inplace=True)\r\n",
    "dftmp[:10]"
   ]
  },
  {
   "cell_type": "code",
   "execution_count": 42,
   "metadata": {
    "colab": {
     "base_uri": "https://localhost:8080/",
     "height": 410
    },
    "executionInfo": {
     "elapsed": 1130,
     "status": "ok",
     "timestamp": 1609772442235,
     "user": {
      "displayName": "Đăng Nguyễn Minh",
      "photoUrl": "https://lh3.googleusercontent.com/a-/AOh14GiHxFhiRiZfO2-tnxt2jb6zdUBS7JCK-jWOoyFD5g=s64",
      "userId": "17785050953591290309"
     },
     "user_tz": -420
    },
    "id": "WfIlAki3qJIY",
    "outputId": "9afb70b0-a5a2-42e1-f00e-781116ab7725"
   },
   "outputs": [
    {
     "data": {
      "text/html": [
       "<div>\n",
       "<style scoped>\n",
       "    .dataframe tbody tr th:only-of-type {\n",
       "        vertical-align: middle;\n",
       "    }\n",
       "\n",
       "    .dataframe tbody tr th {\n",
       "        vertical-align: top;\n",
       "    }\n",
       "\n",
       "    .dataframe thead th {\n",
       "        text-align: right;\n",
       "    }\n",
       "</style>\n",
       "<table border=\"1\" class=\"dataframe\">\n",
       "  <thead>\n",
       "    <tr style=\"text-align: right;\">\n",
       "      <th></th>\n",
       "      <th>tconst</th>\n",
       "      <th>name</th>\n",
       "      <th>year</th>\n",
       "      <th>rating</th>\n",
       "      <th>rating_count</th>\n",
       "    </tr>\n",
       "  </thead>\n",
       "  <tbody>\n",
       "    <tr>\n",
       "      <th>256</th>\n",
       "      <td>tt0137523</td>\n",
       "      <td>Fight Club</td>\n",
       "      <td>1999.0</td>\n",
       "      <td>8.8</td>\n",
       "      <td>1836256</td>\n",
       "    </tr>\n",
       "    <tr>\n",
       "      <th>156</th>\n",
       "      <td>tt0088178</td>\n",
       "      <td>Stop Making Sense</td>\n",
       "      <td>1984.0</td>\n",
       "      <td>8.6</td>\n",
       "      <td>13019</td>\n",
       "    </tr>\n",
       "    <tr>\n",
       "      <th>596</th>\n",
       "      <td>tt0076759</td>\n",
       "      <td>Star Wars</td>\n",
       "      <td>1977.0</td>\n",
       "      <td>8.6</td>\n",
       "      <td>1219843</td>\n",
       "    </tr>\n",
       "    <tr>\n",
       "      <th>235</th>\n",
       "      <td>tt0102926</td>\n",
       "      <td>The Silence of the Lambs</td>\n",
       "      <td>1991.0</td>\n",
       "      <td>8.6</td>\n",
       "      <td>1257236</td>\n",
       "    </tr>\n",
       "    <tr>\n",
       "      <th>198</th>\n",
       "      <td>tt0114814</td>\n",
       "      <td>The Usual Suspects</td>\n",
       "      <td>1995.0</td>\n",
       "      <td>8.5</td>\n",
       "      <td>982719</td>\n",
       "    </tr>\n",
       "    <tr>\n",
       "      <th>801</th>\n",
       "      <td>tt1345836</td>\n",
       "      <td>The Dark Knight Rises</td>\n",
       "      <td>2012.0</td>\n",
       "      <td>8.4</td>\n",
       "      <td>1502247</td>\n",
       "    </tr>\n",
       "    <tr>\n",
       "      <th>313</th>\n",
       "      <td>tt0112641</td>\n",
       "      <td>Casino</td>\n",
       "      <td>1995.0</td>\n",
       "      <td>8.2</td>\n",
       "      <td>461377</td>\n",
       "    </tr>\n",
       "    <tr>\n",
       "      <th>254</th>\n",
       "      <td>tt0074958</td>\n",
       "      <td>Network</td>\n",
       "      <td>1976.0</td>\n",
       "      <td>8.1</td>\n",
       "      <td>143898</td>\n",
       "    </tr>\n",
       "    <tr>\n",
       "      <th>569</th>\n",
       "      <td>tt0077416</td>\n",
       "      <td>The Deer Hunter</td>\n",
       "      <td>1978.0</td>\n",
       "      <td>8.1</td>\n",
       "      <td>308804</td>\n",
       "    </tr>\n",
       "    <tr>\n",
       "      <th>3</th>\n",
       "      <td>tt3170832</td>\n",
       "      <td>Room</td>\n",
       "      <td>2015.0</td>\n",
       "      <td>8.1</td>\n",
       "      <td>365849</td>\n",
       "    </tr>\n",
       "  </tbody>\n",
       "</table>\n",
       "</div>"
      ],
      "text/plain": [
       "        tconst                      name    year  rating  rating_count\n",
       "256  tt0137523                Fight Club  1999.0     8.8       1836256\n",
       "156  tt0088178         Stop Making Sense  1984.0     8.6         13019\n",
       "596  tt0076759                 Star Wars  1977.0     8.6       1219843\n",
       "235  tt0102926  The Silence of the Lambs  1991.0     8.6       1257236\n",
       "198  tt0114814        The Usual Suspects  1995.0     8.5        982719\n",
       "801  tt1345836     The Dark Knight Rises  2012.0     8.4       1502247\n",
       "313  tt0112641                    Casino  1995.0     8.2        461377\n",
       "254  tt0074958                   Network  1976.0     8.1        143898\n",
       "569  tt0077416           The Deer Hunter  1978.0     8.1        308804\n",
       "3    tt3170832                      Room  2015.0     8.1        365849"
      ]
     },
     "execution_count": 42,
     "metadata": {},
     "output_type": "execute_result"
    }
   ],
   "source": [
    "dftmp=df[df.rating.notnull()][df.country.notnull()][df.country.str.contains('USA', na=False)][['tconst', 'name', 'year', 'rating', 'rating_count']]\r\n",
    "dftmp.sort_values(by=['rating','rating_count'], ascending=[False, True], inplace=True)\r\n",
    "dftmp[:10]"
   ]
  },
  {
   "cell_type": "markdown",
   "metadata": {
    "id": "HfqpiRmq_ipQ"
   },
   "source": [
    "### <u>PLOT 9</u>: "
   ]
  },
  {
   "cell_type": "code",
   "execution_count": 43,
   "metadata": {
    "colab": {
     "base_uri": "https://localhost:8080/",
     "height": 499
    },
    "executionInfo": {
     "elapsed": 938,
     "status": "ok",
     "timestamp": 1609773777692,
     "user": {
      "displayName": "Đăng Nguyễn Minh",
      "photoUrl": "https://lh3.googleusercontent.com/a-/AOh14GiHxFhiRiZfO2-tnxt2jb6zdUBS7JCK-jWOoyFD5g=s64",
      "userId": "17785050953591290309"
     },
     "user_tz": -420
    },
    "id": "ofMHhPP4rQjC",
    "outputId": "d866ff9d-b718-4b6e-a178-1a31e2f4655b"
   },
   "outputs": [
    {
     "data": {
      "text/html": [
       "<div>\n",
       "<style scoped>\n",
       "    .dataframe tbody tr th:only-of-type {\n",
       "        vertical-align: middle;\n",
       "    }\n",
       "\n",
       "    .dataframe tbody tr th {\n",
       "        vertical-align: top;\n",
       "    }\n",
       "\n",
       "    .dataframe thead th {\n",
       "        text-align: right;\n",
       "    }\n",
       "</style>\n",
       "<table border=\"1\" class=\"dataframe\">\n",
       "  <thead>\n",
       "    <tr style=\"text-align: right;\">\n",
       "      <th></th>\n",
       "      <th>tconst</th>\n",
       "      <th>name</th>\n",
       "      <th>year</th>\n",
       "      <th>rating</th>\n",
       "      <th>rating_count</th>\n",
       "      <th>story_line</th>\n",
       "      <th>genres</th>\n",
       "      <th>country</th>\n",
       "      <th>language</th>\n",
       "      <th>budget</th>\n",
       "      <th>gross</th>\n",
       "      <th>runtime</th>\n",
       "      <th>director</th>\n",
       "      <th>stars</th>\n",
       "    </tr>\n",
       "  </thead>\n",
       "  <tbody>\n",
       "    <tr>\n",
       "      <th>0</th>\n",
       "      <td>tt2077677</td>\n",
       "      <td>3Simoa</td>\n",
       "      <td>2012.0</td>\n",
       "      <td>6.4</td>\n",
       "      <td>370</td>\n",
       "      <td>A caper comedy about two friends, Simo and Las...</td>\n",
       "      <td>Comedy</td>\n",
       "      <td>Finland</td>\n",
       "      <td>Finnish</td>\n",
       "      <td>334784.0</td>\n",
       "      <td>93296</td>\n",
       "      <td>86</td>\n",
       "      <td>Teemu Nikki</td>\n",
       "      <td>Olli Rahkonen,Paula Vesala,Rami Rusinen</td>\n",
       "    </tr>\n",
       "    <tr>\n",
       "      <th>1</th>\n",
       "      <td>tt0106332</td>\n",
       "      <td>Ba wang bie ji</td>\n",
       "      <td>1993.0</td>\n",
       "      <td>8.1</td>\n",
       "      <td>24830</td>\n",
       "      <td>\"Farewell, My Concubine\" is a movie with two p...</td>\n",
       "      <td>Drama,Music,Romance</td>\n",
       "      <td>China,Hong Kong</td>\n",
       "      <td>Mandarin</td>\n",
       "      <td>4000000.0</td>\n",
       "      <td>5985074</td>\n",
       "      <td>171</td>\n",
       "      <td>Kaige Chen</td>\n",
       "      <td>Fengyi Zhang,Leslie Cheung,Li Gong</td>\n",
       "    </tr>\n",
       "    <tr>\n",
       "      <th>2</th>\n",
       "      <td>tt0116421</td>\n",
       "      <td>The Glimmer Man</td>\n",
       "      <td>1996.0</td>\n",
       "      <td>5.4</td>\n",
       "      <td>18687</td>\n",
       "      <td>Jack Cole is a soft spoken, mystical, new age ...</td>\n",
       "      <td>Action,Comedy,Crime</td>\n",
       "      <td>USA</td>\n",
       "      <td>Chinese,English,Russian</td>\n",
       "      <td>45000000.0</td>\n",
       "      <td>20351264</td>\n",
       "      <td>91</td>\n",
       "      <td>John Gray</td>\n",
       "      <td>Bob Gunton,Keenen Ivory Wayans,Steven Seagal</td>\n",
       "    </tr>\n",
       "    <tr>\n",
       "      <th>3</th>\n",
       "      <td>tt3170832</td>\n",
       "      <td>Room</td>\n",
       "      <td>2015.0</td>\n",
       "      <td>8.1</td>\n",
       "      <td>365849</td>\n",
       "      <td>ROOM tells the extraordinary story of Jack, a ...</td>\n",
       "      <td>Drama,Thriller</td>\n",
       "      <td>Canada,Ireland,UK,USA</td>\n",
       "      <td>English</td>\n",
       "      <td>13000000.0</td>\n",
       "      <td>35401758</td>\n",
       "      <td>118</td>\n",
       "      <td>Lenny Abrahamson</td>\n",
       "      <td>Brie Larson,Jacob Tremblay,Sean Bridgers</td>\n",
       "    </tr>\n",
       "    <tr>\n",
       "      <th>4</th>\n",
       "      <td>tt0204175</td>\n",
       "      <td>Boys and Girls</td>\n",
       "      <td>2000.0</td>\n",
       "      <td>5.4</td>\n",
       "      <td>15942</td>\n",
       "      <td>Jennifer and Ryan are students at UC Berkeley,...</td>\n",
       "      <td>Comedy,Drama,Romance</td>\n",
       "      <td>USA</td>\n",
       "      <td>English</td>\n",
       "      <td>35000000.0</td>\n",
       "      <td>25850615</td>\n",
       "      <td>94</td>\n",
       "      <td>Robert Iscove</td>\n",
       "      <td>Brendon Ryan Barrett,Claire Forlani,Freddie Pr...</td>\n",
       "    </tr>\n",
       "  </tbody>\n",
       "</table>\n",
       "</div>"
      ],
      "text/plain": [
       "      tconst             name    year  rating  rating_count  \\\n",
       "0  tt2077677           3Simoa  2012.0     6.4           370   \n",
       "1  tt0106332   Ba wang bie ji  1993.0     8.1         24830   \n",
       "2  tt0116421  The Glimmer Man  1996.0     5.4         18687   \n",
       "3  tt3170832             Room  2015.0     8.1        365849   \n",
       "4  tt0204175   Boys and Girls  2000.0     5.4         15942   \n",
       "\n",
       "                                          story_line                genres  \\\n",
       "0  A caper comedy about two friends, Simo and Las...                Comedy   \n",
       "1  \"Farewell, My Concubine\" is a movie with two p...   Drama,Music,Romance   \n",
       "2  Jack Cole is a soft spoken, mystical, new age ...   Action,Comedy,Crime   \n",
       "3  ROOM tells the extraordinary story of Jack, a ...        Drama,Thriller   \n",
       "4  Jennifer and Ryan are students at UC Berkeley,...  Comedy,Drama,Romance   \n",
       "\n",
       "                 country                 language      budget     gross  \\\n",
       "0                Finland                  Finnish    334784.0     93296   \n",
       "1        China,Hong Kong                 Mandarin   4000000.0   5985074   \n",
       "2                    USA  Chinese,English,Russian  45000000.0  20351264   \n",
       "3  Canada,Ireland,UK,USA                  English  13000000.0  35401758   \n",
       "4                    USA                  English  35000000.0  25850615   \n",
       "\n",
       "   runtime          director  \\\n",
       "0       86       Teemu Nikki   \n",
       "1      171        Kaige Chen   \n",
       "2       91         John Gray   \n",
       "3      118  Lenny Abrahamson   \n",
       "4       94     Robert Iscove   \n",
       "\n",
       "                                               stars  \n",
       "0            Olli Rahkonen,Paula Vesala,Rami Rusinen  \n",
       "1                 Fengyi Zhang,Leslie Cheung,Li Gong  \n",
       "2       Bob Gunton,Keenen Ivory Wayans,Steven Seagal  \n",
       "3           Brie Larson,Jacob Tremblay,Sean Bridgers  \n",
       "4  Brendon Ryan Barrett,Claire Forlani,Freddie Pr...  "
      ]
     },
     "execution_count": 43,
     "metadata": {},
     "output_type": "execute_result"
    }
   ],
   "source": [
    "df.head()"
   ]
  },
  {
   "cell_type": "code",
   "execution_count": 44,
   "metadata": {
    "colab": {
     "base_uri": "https://localhost:8080/",
     "height": 257
    },
    "executionInfo": {
     "elapsed": 928,
     "status": "ok",
     "timestamp": 1609773894294,
     "user": {
      "displayName": "Đăng Nguyễn Minh",
      "photoUrl": "https://lh3.googleusercontent.com/a-/AOh14GiHxFhiRiZfO2-tnxt2jb6zdUBS7JCK-jWOoyFD5g=s64",
      "userId": "17785050953591290309"
     },
     "user_tz": -420
    },
    "id": "zVNyIc9X_n8u",
    "outputId": "992c8383-ad51-4f43-a5a8-f09283ec1035"
   },
   "outputs": [
    {
     "data": {
      "text/html": [
       "<div>\n",
       "<style scoped>\n",
       "    .dataframe tbody tr th:only-of-type {\n",
       "        vertical-align: middle;\n",
       "    }\n",
       "\n",
       "    .dataframe tbody tr th {\n",
       "        vertical-align: top;\n",
       "    }\n",
       "\n",
       "    .dataframe thead th {\n",
       "        text-align: right;\n",
       "    }\n",
       "</style>\n",
       "<table border=\"1\" class=\"dataframe\">\n",
       "  <thead>\n",
       "    <tr style=\"text-align: right;\">\n",
       "      <th></th>\n",
       "      <th>year</th>\n",
       "      <th>runtime</th>\n",
       "    </tr>\n",
       "  </thead>\n",
       "  <tbody>\n",
       "    <tr>\n",
       "      <th>0</th>\n",
       "      <td>2012.0</td>\n",
       "      <td>86</td>\n",
       "    </tr>\n",
       "    <tr>\n",
       "      <th>1</th>\n",
       "      <td>1993.0</td>\n",
       "      <td>171</td>\n",
       "    </tr>\n",
       "    <tr>\n",
       "      <th>2</th>\n",
       "      <td>1996.0</td>\n",
       "      <td>91</td>\n",
       "    </tr>\n",
       "    <tr>\n",
       "      <th>3</th>\n",
       "      <td>2015.0</td>\n",
       "      <td>118</td>\n",
       "    </tr>\n",
       "    <tr>\n",
       "      <th>4</th>\n",
       "      <td>2000.0</td>\n",
       "      <td>94</td>\n",
       "    </tr>\n",
       "  </tbody>\n",
       "</table>\n",
       "</div>"
      ],
      "text/plain": [
       "     year  runtime\n",
       "0  2012.0       86\n",
       "1  1993.0      171\n",
       "2  1996.0       91\n",
       "3  2015.0      118\n",
       "4  2000.0       94"
      ]
     },
     "execution_count": 44,
     "metadata": {},
     "output_type": "execute_result"
    }
   ],
   "source": [
    "dftmp=df[df.runtime.notnull()][df.year.notnull()][['year', 'runtime']]\r\n",
    "dftmp.head()"
   ]
  },
  {
   "cell_type": "code",
   "execution_count": 45,
   "metadata": {
    "executionInfo": {
     "elapsed": 827,
     "status": "ok",
     "timestamp": 1609774152939,
     "user": {
      "displayName": "Đăng Nguyễn Minh",
      "photoUrl": "https://lh3.googleusercontent.com/a-/AOh14GiHxFhiRiZfO2-tnxt2jb6zdUBS7JCK-jWOoyFD5g=s64",
      "userId": "17785050953591290309"
     },
     "user_tz": -420
    },
    "id": "PGhcCDSAAOkw"
   },
   "outputs": [
    {
     "name": "stderr",
     "output_type": "stream",
     "text": [
      "/home/nguyenminhdang/anaconda3/envs/py36/lib/python3.6/site-packages/ipykernel_launcher.py:1: UserWarning: Boolean Series key will be reindexed to match DataFrame index.\n",
      "  \"\"\"Entry point for launching an IPython kernel.\n"
     ]
    }
   ],
   "source": [
    "dftmp=dftmp[dftmp.year >= 2000][dftmp.year<=2020]\r\n",
    "dftmp.year=dftmp.year.apply(lambda x: int(x))"
   ]
  },
  {
   "cell_type": "code",
   "execution_count": 46,
   "metadata": {
    "colab": {
     "base_uri": "https://localhost:8080/",
     "height": 297
    },
    "executionInfo": {
     "elapsed": 1017,
     "status": "ok",
     "timestamp": 1609774154431,
     "user": {
      "displayName": "Đăng Nguyễn Minh",
      "photoUrl": "https://lh3.googleusercontent.com/a-/AOh14GiHxFhiRiZfO2-tnxt2jb6zdUBS7JCK-jWOoyFD5g=s64",
      "userId": "17785050953591290309"
     },
     "user_tz": -420
    },
    "id": "iixtvADJAEbI",
    "outputId": "d5d82f90-7b5d-4cd5-f218-796f1f27e473"
   },
   "outputs": [
    {
     "data": {
      "text/plain": [
       "<AxesSubplot:xlabel='year'>"
      ]
     },
     "execution_count": 46,
     "metadata": {},
     "output_type": "execute_result"
    },
    {
     "data": {
      "image/png": "[encoded data removed]",
      "text/plain": [
       "<Figure size 432x288 with 1 Axes>"
      ]
     },
     "metadata": {
      "needs_background": "light"
     },
     "output_type": "display_data"
    }
   ],
   "source": [
    "dftmp.groupby('year').mean().plot(kind='line', )"
   ]
  },
  {
   "cell_type": "code",
   "execution_count": null,
   "metadata": {
    "id": "zmnooAsCAJMT"
   },
   "outputs": [],
   "source": []
  }
 ],
 "metadata": {
  "colab": {
   "name": "process.ipynb",
   "provenance": []
  },
  "kernelspec": {
   "display_name": "Python 3",
   "language": "python",
   "name": "python3"
  },
  "language_info": {
   "codemirror_mode": {
    "name": "ipython",
    "version": 3
   },
   "file_extension": ".py",
   "mimetype": "text/x-python",
   "name": "python",
   "nbconvert_exporter": "python",
   "pygments_lexer": "ipython3",
   "version": "3.6.12"
  }
 },
 "nbformat": 4,
 "nbformat_minor": 4
}
