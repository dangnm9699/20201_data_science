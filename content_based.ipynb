{
 "cells": [
  {
   "cell_type": "markdown",
   "metadata": {
    "id": "oAOgtbkrGvvr"
   },
   "source": [
    "# Setup"
   ]
  },
  {
   "cell_type": "code",
   "execution_count": 1,
   "metadata": {
    "id": "2woSnPknCYLs"
   },
   "outputs": [],
   "source": [
    "import numpy as np\n",
    "import pandas as pd\n",
    "import time\n",
    "import pickle\n",
    "import seaborn as sns\n",
    "from sklearn.neighbors import NearestNeighbors\n",
    "from sklearn.manifold import TSNE"
   ]
  },
  {
   "cell_type": "code",
   "execution_count": 2,
   "metadata": {
    "id": "bt1IaTcyGM1U"
   },
   "outputs": [],
   "source": [
    "import os\n",
    "\n",
    "PATH = 'data'\n",
    "DATA_ENCODER = os.path.join(PATH, 'preprocessed.csv')\n",
    "SAVING_MODEL = os.path.join(PATH, 'knnpickle_file')\n",
    "LOADING_MODEL = os.path.join(PATH, 'knnpickle_file')"
   ]
  },
  {
   "cell_type": "markdown",
   "metadata": {
    "id": "_zzTFSD2CYL3"
   },
   "source": [
    "# Data"
   ]
  },
  {
   "cell_type": "code",
   "execution_count": 3,
   "metadata": {
    "colab": {
     "base_uri": "https://localhost:8080/",
     "height": 476
    },
    "executionInfo": {
     "elapsed": 19859,
     "status": "ok",
     "timestamp": 1610214519865,
     "user": {
      "displayName": "Luong Nguyen Van",
      "photoUrl": "https://lh3.googleusercontent.com/a-/AOh14Ghg918fSVz3JA4vqh4kkOEAryW0uPsMzge4R-1Q6Q=s64",
      "userId": "15966365699611063661"
     },
     "user_tz": -420
    },
    "id": "IvouB20DCYL5",
    "outputId": "be346403-3302-435b-c4c9-ef06b1f55b19"
   },
   "outputs": [
    {
     "data": {
      "text/html": [
       "<div>\n",
       "<style scoped>\n",
       "    .dataframe tbody tr th:only-of-type {\n",
       "        vertical-align: middle;\n",
       "    }\n",
       "\n",
       "    .dataframe tbody tr th {\n",
       "        vertical-align: top;\n",
       "    }\n",
       "\n",
       "    .dataframe thead th {\n",
       "        text-align: right;\n",
       "    }\n",
       "</style>\n",
       "<table border=\"1\" class=\"dataframe\">\n",
       "  <thead>\n",
       "    <tr style=\"text-align: right;\">\n",
       "      <th></th>\n",
       "      <th>movie_id</th>\n",
       "      <th>name</th>\n",
       "      <th>year</th>\n",
       "      <th>rating</th>\n",
       "      <th>rating_count</th>\n",
       "      <th>story_line</th>\n",
       "      <th>genres</th>\n",
       "      <th>country</th>\n",
       "      <th>language</th>\n",
       "      <th>budget</th>\n",
       "      <th>gross</th>\n",
       "      <th>runtime</th>\n",
       "      <th>director</th>\n",
       "      <th>stars</th>\n",
       "    </tr>\n",
       "  </thead>\n",
       "  <tbody>\n",
       "    <tr>\n",
       "      <th>0</th>\n",
       "      <td>2077677</td>\n",
       "      <td>3Simoa</td>\n",
       "      <td>2012.0</td>\n",
       "      <td>6.4</td>\n",
       "      <td>370</td>\n",
       "      <td>1581.0</td>\n",
       "      <td>99</td>\n",
       "      <td>99</td>\n",
       "      <td>144</td>\n",
       "      <td>334784.0</td>\n",
       "      <td>93296</td>\n",
       "      <td>86</td>\n",
       "      <td>795</td>\n",
       "      <td>6.165869</td>\n",
       "    </tr>\n",
       "    <tr>\n",
       "      <th>1</th>\n",
       "      <td>106332</td>\n",
       "      <td>Ba wang bie ji</td>\n",
       "      <td>1993.0</td>\n",
       "      <td>8.1</td>\n",
       "      <td>24830</td>\n",
       "      <td>1826.2</td>\n",
       "      <td>182</td>\n",
       "      <td>63</td>\n",
       "      <td>187</td>\n",
       "      <td>4000000.0</td>\n",
       "      <td>5985074</td>\n",
       "      <td>171</td>\n",
       "      <td>445</td>\n",
       "      <td>6.187815</td>\n",
       "    </tr>\n",
       "    <tr>\n",
       "      <th>2</th>\n",
       "      <td>116421</td>\n",
       "      <td>The Glimmer Man</td>\n",
       "      <td>1996.0</td>\n",
       "      <td>5.4</td>\n",
       "      <td>18687</td>\n",
       "      <td>900.0</td>\n",
       "      <td>16</td>\n",
       "      <td>224</td>\n",
       "      <td>46</td>\n",
       "      <td>45000000.0</td>\n",
       "      <td>20351264</td>\n",
       "      <td>91</td>\n",
       "      <td>386</td>\n",
       "      <td>6.149547</td>\n",
       "    </tr>\n",
       "    <tr>\n",
       "      <th>3</th>\n",
       "      <td>3170832</td>\n",
       "      <td>Room</td>\n",
       "      <td>2015.0</td>\n",
       "      <td>8.1</td>\n",
       "      <td>365849</td>\n",
       "      <td>2081.4</td>\n",
       "      <td>195</td>\n",
       "      <td>53</td>\n",
       "      <td>64</td>\n",
       "      <td>13000000.0</td>\n",
       "      <td>35401758</td>\n",
       "      <td>118</td>\n",
       "      <td>485</td>\n",
       "      <td>6.154384</td>\n",
       "    </tr>\n",
       "    <tr>\n",
       "      <th>4</th>\n",
       "      <td>204175</td>\n",
       "      <td>Boys and Girls</td>\n",
       "      <td>2000.0</td>\n",
       "      <td>5.4</td>\n",
       "      <td>15942</td>\n",
       "      <td>607.4</td>\n",
       "      <td>116</td>\n",
       "      <td>224</td>\n",
       "      <td>64</td>\n",
       "      <td>35000000.0</td>\n",
       "      <td>25850615</td>\n",
       "      <td>94</td>\n",
       "      <td>696</td>\n",
       "      <td>6.161788</td>\n",
       "    </tr>\n",
       "    <tr>\n",
       "      <th>...</th>\n",
       "      <td>...</td>\n",
       "      <td>...</td>\n",
       "      <td>...</td>\n",
       "      <td>...</td>\n",
       "      <td>...</td>\n",
       "      <td>...</td>\n",
       "      <td>...</td>\n",
       "      <td>...</td>\n",
       "      <td>...</td>\n",
       "      <td>...</td>\n",
       "      <td>...</td>\n",
       "      <td>...</td>\n",
       "      <td>...</td>\n",
       "      <td>...</td>\n",
       "    </tr>\n",
       "    <tr>\n",
       "      <th>988</th>\n",
       "      <td>2083231</td>\n",
       "      <td>Java Heat</td>\n",
       "      <td>2013.0</td>\n",
       "      <td>5.1</td>\n",
       "      <td>4629</td>\n",
       "      <td>455.0</td>\n",
       "      <td>26</td>\n",
       "      <td>161</td>\n",
       "      <td>108</td>\n",
       "      <td>15000000.0</td>\n",
       "      <td>189739</td>\n",
       "      <td>104</td>\n",
       "      <td>151</td>\n",
       "      <td>6.162267</td>\n",
       "    </tr>\n",
       "    <tr>\n",
       "      <th>989</th>\n",
       "      <td>2158531</td>\n",
       "      <td>Holla II</td>\n",
       "      <td>2013.0</td>\n",
       "      <td>6.6</td>\n",
       "      <td>87</td>\n",
       "      <td>1666.4</td>\n",
       "      <td>128</td>\n",
       "      <td>224</td>\n",
       "      <td>64</td>\n",
       "      <td>1000000.0</td>\n",
       "      <td>41537</td>\n",
       "      <td>90</td>\n",
       "      <td>297</td>\n",
       "      <td>6.159905</td>\n",
       "    </tr>\n",
       "    <tr>\n",
       "      <th>990</th>\n",
       "      <td>79945</td>\n",
       "      <td>Star Trek: The Motion Picture</td>\n",
       "      <td>1979.0</td>\n",
       "      <td>6.4</td>\n",
       "      <td>81000</td>\n",
       "      <td>1173.2</td>\n",
       "      <td>76</td>\n",
       "      <td>224</td>\n",
       "      <td>117</td>\n",
       "      <td>35000000.0</td>\n",
       "      <td>82604699</td>\n",
       "      <td>132</td>\n",
       "      <td>702</td>\n",
       "      <td>6.169162</td>\n",
       "    </tr>\n",
       "    <tr>\n",
       "      <th>991</th>\n",
       "      <td>1653649</td>\n",
       "      <td>Chuzhaya</td>\n",
       "      <td>2010.0</td>\n",
       "      <td>6.5</td>\n",
       "      <td>873</td>\n",
       "      <td>1704.0</td>\n",
       "      <td>28</td>\n",
       "      <td>203</td>\n",
       "      <td>198</td>\n",
       "      <td>4000000.0</td>\n",
       "      <td>1838858</td>\n",
       "      <td>100</td>\n",
       "      <td>60</td>\n",
       "      <td>6.172280</td>\n",
       "    </tr>\n",
       "    <tr>\n",
       "      <th>992</th>\n",
       "      <td>116931</td>\n",
       "      <td>Love and Other Catastrophes</td>\n",
       "      <td>1996.0</td>\n",
       "      <td>6.3</td>\n",
       "      <td>1884</td>\n",
       "      <td>1724.0</td>\n",
       "      <td>138</td>\n",
       "      <td>9</td>\n",
       "      <td>64</td>\n",
       "      <td>250000.0</td>\n",
       "      <td>294212</td>\n",
       "      <td>76</td>\n",
       "      <td>228</td>\n",
       "      <td>6.148068</td>\n",
       "    </tr>\n",
       "  </tbody>\n",
       "</table>\n",
       "<p>993 rows × 14 columns</p>\n",
       "</div>"
      ],
      "text/plain": [
       "     movie_id                           name    year  rating  rating_count  \\\n",
       "0     2077677                         3Simoa  2012.0     6.4           370   \n",
       "1      106332                 Ba wang bie ji  1993.0     8.1         24830   \n",
       "2      116421                The Glimmer Man  1996.0     5.4         18687   \n",
       "3     3170832                           Room  2015.0     8.1        365849   \n",
       "4      204175                 Boys and Girls  2000.0     5.4         15942   \n",
       "..        ...                            ...     ...     ...           ...   \n",
       "988   2083231                      Java Heat  2013.0     5.1          4629   \n",
       "989   2158531                       Holla II  2013.0     6.6            87   \n",
       "990     79945  Star Trek: The Motion Picture  1979.0     6.4         81000   \n",
       "991   1653649                       Chuzhaya  2010.0     6.5           873   \n",
       "992    116931    Love and Other Catastrophes  1996.0     6.3          1884   \n",
       "\n",
       "     story_line  genres  country  language      budget     gross  runtime  \\\n",
       "0        1581.0      99       99       144    334784.0     93296       86   \n",
       "1        1826.2     182       63       187   4000000.0   5985074      171   \n",
       "2         900.0      16      224        46  45000000.0  20351264       91   \n",
       "3        2081.4     195       53        64  13000000.0  35401758      118   \n",
       "4         607.4     116      224        64  35000000.0  25850615       94   \n",
       "..          ...     ...      ...       ...         ...       ...      ...   \n",
       "988       455.0      26      161       108  15000000.0    189739      104   \n",
       "989      1666.4     128      224        64   1000000.0     41537       90   \n",
       "990      1173.2      76      224       117  35000000.0  82604699      132   \n",
       "991      1704.0      28      203       198   4000000.0   1838858      100   \n",
       "992      1724.0     138        9        64    250000.0    294212       76   \n",
       "\n",
       "     director     stars  \n",
       "0         795  6.165869  \n",
       "1         445  6.187815  \n",
       "2         386  6.149547  \n",
       "3         485  6.154384  \n",
       "4         696  6.161788  \n",
       "..        ...       ...  \n",
       "988       151  6.162267  \n",
       "989       297  6.159905  \n",
       "990       702  6.169162  \n",
       "991        60  6.172280  \n",
       "992       228  6.148068  \n",
       "\n",
       "[993 rows x 14 columns]"
      ]
     },
     "execution_count": 3,
     "metadata": {},
     "output_type": "execute_result"
    }
   ],
   "source": [
    "movies = pd.read_csv(DATA_ENCODER)\n",
    "movies"
   ]
  },
  {
   "cell_type": "code",
   "execution_count": 4,
   "metadata": {
    "colab": {
     "base_uri": "https://localhost:8080/",
     "height": 406
    },
    "executionInfo": {
     "elapsed": 19851,
     "status": "ok",
     "timestamp": 1610214519868,
     "user": {
      "displayName": "Luong Nguyen Van",
      "photoUrl": "https://lh3.googleusercontent.com/a-/AOh14Ghg918fSVz3JA4vqh4kkOEAryW0uPsMzge4R-1Q6Q=s64",
      "userId": "15966365699611063661"
     },
     "user_tz": -420
    },
    "id": "qaUKPXmhBQGr",
    "outputId": "db291219-fc9d-4065-b5a4-43da01b3f257"
   },
   "outputs": [
    {
     "data": {
      "text/html": [
       "<div>\n",
       "<style scoped>\n",
       "    .dataframe tbody tr th:only-of-type {\n",
       "        vertical-align: middle;\n",
       "    }\n",
       "\n",
       "    .dataframe tbody tr th {\n",
       "        vertical-align: top;\n",
       "    }\n",
       "\n",
       "    .dataframe thead th {\n",
       "        text-align: right;\n",
       "    }\n",
       "</style>\n",
       "<table border=\"1\" class=\"dataframe\">\n",
       "  <thead>\n",
       "    <tr style=\"text-align: right;\">\n",
       "      <th></th>\n",
       "      <th>movie_id</th>\n",
       "      <th>year</th>\n",
       "      <th>rating</th>\n",
       "      <th>rating_count</th>\n",
       "      <th>story_line</th>\n",
       "      <th>genres</th>\n",
       "      <th>country</th>\n",
       "      <th>language</th>\n",
       "      <th>budget</th>\n",
       "      <th>gross</th>\n",
       "      <th>runtime</th>\n",
       "      <th>director</th>\n",
       "      <th>stars</th>\n",
       "    </tr>\n",
       "  </thead>\n",
       "  <tbody>\n",
       "    <tr>\n",
       "      <th>0</th>\n",
       "      <td>2077677</td>\n",
       "      <td>2012.0</td>\n",
       "      <td>6.4</td>\n",
       "      <td>370</td>\n",
       "      <td>1581.0</td>\n",
       "      <td>99</td>\n",
       "      <td>99</td>\n",
       "      <td>144</td>\n",
       "      <td>334784.0</td>\n",
       "      <td>93296</td>\n",
       "      <td>86</td>\n",
       "      <td>795</td>\n",
       "      <td>6.165869</td>\n",
       "    </tr>\n",
       "    <tr>\n",
       "      <th>1</th>\n",
       "      <td>106332</td>\n",
       "      <td>1993.0</td>\n",
       "      <td>8.1</td>\n",
       "      <td>24830</td>\n",
       "      <td>1826.2</td>\n",
       "      <td>182</td>\n",
       "      <td>63</td>\n",
       "      <td>187</td>\n",
       "      <td>4000000.0</td>\n",
       "      <td>5985074</td>\n",
       "      <td>171</td>\n",
       "      <td>445</td>\n",
       "      <td>6.187815</td>\n",
       "    </tr>\n",
       "    <tr>\n",
       "      <th>2</th>\n",
       "      <td>116421</td>\n",
       "      <td>1996.0</td>\n",
       "      <td>5.4</td>\n",
       "      <td>18687</td>\n",
       "      <td>900.0</td>\n",
       "      <td>16</td>\n",
       "      <td>224</td>\n",
       "      <td>46</td>\n",
       "      <td>45000000.0</td>\n",
       "      <td>20351264</td>\n",
       "      <td>91</td>\n",
       "      <td>386</td>\n",
       "      <td>6.149547</td>\n",
       "    </tr>\n",
       "    <tr>\n",
       "      <th>3</th>\n",
       "      <td>3170832</td>\n",
       "      <td>2015.0</td>\n",
       "      <td>8.1</td>\n",
       "      <td>365849</td>\n",
       "      <td>2081.4</td>\n",
       "      <td>195</td>\n",
       "      <td>53</td>\n",
       "      <td>64</td>\n",
       "      <td>13000000.0</td>\n",
       "      <td>35401758</td>\n",
       "      <td>118</td>\n",
       "      <td>485</td>\n",
       "      <td>6.154384</td>\n",
       "    </tr>\n",
       "    <tr>\n",
       "      <th>4</th>\n",
       "      <td>204175</td>\n",
       "      <td>2000.0</td>\n",
       "      <td>5.4</td>\n",
       "      <td>15942</td>\n",
       "      <td>607.4</td>\n",
       "      <td>116</td>\n",
       "      <td>224</td>\n",
       "      <td>64</td>\n",
       "      <td>35000000.0</td>\n",
       "      <td>25850615</td>\n",
       "      <td>94</td>\n",
       "      <td>696</td>\n",
       "      <td>6.161788</td>\n",
       "    </tr>\n",
       "    <tr>\n",
       "      <th>...</th>\n",
       "      <td>...</td>\n",
       "      <td>...</td>\n",
       "      <td>...</td>\n",
       "      <td>...</td>\n",
       "      <td>...</td>\n",
       "      <td>...</td>\n",
       "      <td>...</td>\n",
       "      <td>...</td>\n",
       "      <td>...</td>\n",
       "      <td>...</td>\n",
       "      <td>...</td>\n",
       "      <td>...</td>\n",
       "      <td>...</td>\n",
       "    </tr>\n",
       "    <tr>\n",
       "      <th>988</th>\n",
       "      <td>2083231</td>\n",
       "      <td>2013.0</td>\n",
       "      <td>5.1</td>\n",
       "      <td>4629</td>\n",
       "      <td>455.0</td>\n",
       "      <td>26</td>\n",
       "      <td>161</td>\n",
       "      <td>108</td>\n",
       "      <td>15000000.0</td>\n",
       "      <td>189739</td>\n",
       "      <td>104</td>\n",
       "      <td>151</td>\n",
       "      <td>6.162267</td>\n",
       "    </tr>\n",
       "    <tr>\n",
       "      <th>989</th>\n",
       "      <td>2158531</td>\n",
       "      <td>2013.0</td>\n",
       "      <td>6.6</td>\n",
       "      <td>87</td>\n",
       "      <td>1666.4</td>\n",
       "      <td>128</td>\n",
       "      <td>224</td>\n",
       "      <td>64</td>\n",
       "      <td>1000000.0</td>\n",
       "      <td>41537</td>\n",
       "      <td>90</td>\n",
       "      <td>297</td>\n",
       "      <td>6.159905</td>\n",
       "    </tr>\n",
       "    <tr>\n",
       "      <th>990</th>\n",
       "      <td>79945</td>\n",
       "      <td>1979.0</td>\n",
       "      <td>6.4</td>\n",
       "      <td>81000</td>\n",
       "      <td>1173.2</td>\n",
       "      <td>76</td>\n",
       "      <td>224</td>\n",
       "      <td>117</td>\n",
       "      <td>35000000.0</td>\n",
       "      <td>82604699</td>\n",
       "      <td>132</td>\n",
       "      <td>702</td>\n",
       "      <td>6.169162</td>\n",
       "    </tr>\n",
       "    <tr>\n",
       "      <th>991</th>\n",
       "      <td>1653649</td>\n",
       "      <td>2010.0</td>\n",
       "      <td>6.5</td>\n",
       "      <td>873</td>\n",
       "      <td>1704.0</td>\n",
       "      <td>28</td>\n",
       "      <td>203</td>\n",
       "      <td>198</td>\n",
       "      <td>4000000.0</td>\n",
       "      <td>1838858</td>\n",
       "      <td>100</td>\n",
       "      <td>60</td>\n",
       "      <td>6.172280</td>\n",
       "    </tr>\n",
       "    <tr>\n",
       "      <th>992</th>\n",
       "      <td>116931</td>\n",
       "      <td>1996.0</td>\n",
       "      <td>6.3</td>\n",
       "      <td>1884</td>\n",
       "      <td>1724.0</td>\n",
       "      <td>138</td>\n",
       "      <td>9</td>\n",
       "      <td>64</td>\n",
       "      <td>250000.0</td>\n",
       "      <td>294212</td>\n",
       "      <td>76</td>\n",
       "      <td>228</td>\n",
       "      <td>6.148068</td>\n",
       "    </tr>\n",
       "  </tbody>\n",
       "</table>\n",
       "<p>993 rows × 13 columns</p>\n",
       "</div>"
      ],
      "text/plain": [
       "     movie_id    year  rating  rating_count  story_line  genres  country  \\\n",
       "0     2077677  2012.0     6.4           370      1581.0      99       99   \n",
       "1      106332  1993.0     8.1         24830      1826.2     182       63   \n",
       "2      116421  1996.0     5.4         18687       900.0      16      224   \n",
       "3     3170832  2015.0     8.1        365849      2081.4     195       53   \n",
       "4      204175  2000.0     5.4         15942       607.4     116      224   \n",
       "..        ...     ...     ...           ...         ...     ...      ...   \n",
       "988   2083231  2013.0     5.1          4629       455.0      26      161   \n",
       "989   2158531  2013.0     6.6            87      1666.4     128      224   \n",
       "990     79945  1979.0     6.4         81000      1173.2      76      224   \n",
       "991   1653649  2010.0     6.5           873      1704.0      28      203   \n",
       "992    116931  1996.0     6.3          1884      1724.0     138        9   \n",
       "\n",
       "     language      budget     gross  runtime  director     stars  \n",
       "0         144    334784.0     93296       86       795  6.165869  \n",
       "1         187   4000000.0   5985074      171       445  6.187815  \n",
       "2          46  45000000.0  20351264       91       386  6.149547  \n",
       "3          64  13000000.0  35401758      118       485  6.154384  \n",
       "4          64  35000000.0  25850615       94       696  6.161788  \n",
       "..        ...         ...       ...      ...       ...       ...  \n",
       "988       108  15000000.0    189739      104       151  6.162267  \n",
       "989        64   1000000.0     41537       90       297  6.159905  \n",
       "990       117  35000000.0  82604699      132       702  6.169162  \n",
       "991       198   4000000.0   1838858      100        60  6.172280  \n",
       "992        64    250000.0    294212       76       228  6.148068  \n",
       "\n",
       "[993 rows x 13 columns]"
      ]
     },
     "execution_count": 4,
     "metadata": {},
     "output_type": "execute_result"
    }
   ],
   "source": [
    "df = movies.drop(['name'], axis=1)\n",
    "df"
   ]
  },
  {
   "cell_type": "markdown",
   "metadata": {
    "id": "StQBiiZnCYL4"
   },
   "source": [
    "# Pre-processing"
   ]
  },
  {
   "cell_type": "markdown",
   "metadata": {
    "id": "shCh5ILZR_sU"
   },
   "source": [
    "## Chosing features"
   ]
  },
  {
   "cell_type": "code",
   "execution_count": 5,
   "metadata": {
    "colab": {
     "base_uri": "https://localhost:8080/",
     "height": 216
    },
    "executionInfo": {
     "elapsed": 19843,
     "status": "ok",
     "timestamp": 1610214519871,
     "user": {
      "displayName": "Luong Nguyen Van",
      "photoUrl": "https://lh3.googleusercontent.com/a-/AOh14Ghg918fSVz3JA4vqh4kkOEAryW0uPsMzge4R-1Q6Q=s64",
      "userId": "15966365699611063661"
     },
     "user_tz": -420
    },
    "id": "iYpVx1_1qzha",
    "outputId": "01a19728-47ac-4e94-8be6-87dbf0b8c77c"
   },
   "outputs": [
    {
     "data": {
      "text/html": [
       "<div>\n",
       "<style scoped>\n",
       "    .dataframe tbody tr th:only-of-type {\n",
       "        vertical-align: middle;\n",
       "    }\n",
       "\n",
       "    .dataframe tbody tr th {\n",
       "        vertical-align: top;\n",
       "    }\n",
       "\n",
       "    .dataframe thead th {\n",
       "        text-align: right;\n",
       "    }\n",
       "</style>\n",
       "<table border=\"1\" class=\"dataframe\">\n",
       "  <thead>\n",
       "    <tr style=\"text-align: right;\">\n",
       "      <th>movie_id</th>\n",
       "      <th>2077677</th>\n",
       "      <th>106332</th>\n",
       "      <th>116421</th>\n",
       "      <th>3170832</th>\n",
       "      <th>204175</th>\n",
       "      <th>381505</th>\n",
       "      <th>436742</th>\n",
       "      <th>9214832</th>\n",
       "      <th>8820590</th>\n",
       "      <th>114906</th>\n",
       "      <th>...</th>\n",
       "      <th>803096</th>\n",
       "      <th>89686</th>\n",
       "      <th>113967</th>\n",
       "      <th>92147</th>\n",
       "      <th>414055</th>\n",
       "      <th>2083231</th>\n",
       "      <th>2158531</th>\n",
       "      <th>79945</th>\n",
       "      <th>1653649</th>\n",
       "      <th>116931</th>\n",
       "    </tr>\n",
       "  </thead>\n",
       "  <tbody>\n",
       "    <tr>\n",
       "      <th>genres</th>\n",
       "      <td>99.000000</td>\n",
       "      <td>182.000000</td>\n",
       "      <td>16.000000</td>\n",
       "      <td>195.000000</td>\n",
       "      <td>116.000000</td>\n",
       "      <td>110.000000</td>\n",
       "      <td>110.000000</td>\n",
       "      <td>116.000000</td>\n",
       "      <td>47.000000</td>\n",
       "      <td>110.000000</td>\n",
       "      <td>...</td>\n",
       "      <td>7.000000</td>\n",
       "      <td>210.000000</td>\n",
       "      <td>143.000000</td>\n",
       "      <td>125.000000</td>\n",
       "      <td>94.000000</td>\n",
       "      <td>26.000000</td>\n",
       "      <td>128.000000</td>\n",
       "      <td>76.000000</td>\n",
       "      <td>28.00000</td>\n",
       "      <td>138.000000</td>\n",
       "    </tr>\n",
       "    <tr>\n",
       "      <th>rating</th>\n",
       "      <td>6.400000</td>\n",
       "      <td>8.100000</td>\n",
       "      <td>5.400000</td>\n",
       "      <td>8.100000</td>\n",
       "      <td>5.400000</td>\n",
       "      <td>6.500000</td>\n",
       "      <td>4.100000</td>\n",
       "      <td>6.700000</td>\n",
       "      <td>6.600000</td>\n",
       "      <td>7.400000</td>\n",
       "      <td>...</td>\n",
       "      <td>6.800000</td>\n",
       "      <td>5.500000</td>\n",
       "      <td>6.700000</td>\n",
       "      <td>6.000000</td>\n",
       "      <td>6.800000</td>\n",
       "      <td>5.100000</td>\n",
       "      <td>6.600000</td>\n",
       "      <td>6.400000</td>\n",
       "      <td>6.50000</td>\n",
       "      <td>6.300000</td>\n",
       "    </tr>\n",
       "    <tr>\n",
       "      <th>stars</th>\n",
       "      <td>6.165869</td>\n",
       "      <td>6.187815</td>\n",
       "      <td>6.149547</td>\n",
       "      <td>6.154384</td>\n",
       "      <td>6.161788</td>\n",
       "      <td>6.165009</td>\n",
       "      <td>6.161564</td>\n",
       "      <td>6.166086</td>\n",
       "      <td>6.150651</td>\n",
       "      <td>6.163331</td>\n",
       "      <td>...</td>\n",
       "      <td>6.169399</td>\n",
       "      <td>6.156981</td>\n",
       "      <td>6.162167</td>\n",
       "      <td>6.162488</td>\n",
       "      <td>6.157754</td>\n",
       "      <td>6.162267</td>\n",
       "      <td>6.159905</td>\n",
       "      <td>6.169162</td>\n",
       "      <td>6.17228</td>\n",
       "      <td>6.148068</td>\n",
       "    </tr>\n",
       "    <tr>\n",
       "      <th>story_line</th>\n",
       "      <td>1581.000000</td>\n",
       "      <td>1826.200000</td>\n",
       "      <td>900.000000</td>\n",
       "      <td>2081.400000</td>\n",
       "      <td>607.400000</td>\n",
       "      <td>1652.800000</td>\n",
       "      <td>406.800000</td>\n",
       "      <td>1863.400000</td>\n",
       "      <td>2021.600000</td>\n",
       "      <td>1426.800000</td>\n",
       "      <td>...</td>\n",
       "      <td>1919.200000</td>\n",
       "      <td>1066.400000</td>\n",
       "      <td>1641.400000</td>\n",
       "      <td>1309.200000</td>\n",
       "      <td>1820.200000</td>\n",
       "      <td>455.000000</td>\n",
       "      <td>1666.400000</td>\n",
       "      <td>1173.200000</td>\n",
       "      <td>1704.00000</td>\n",
       "      <td>1724.000000</td>\n",
       "    </tr>\n",
       "  </tbody>\n",
       "</table>\n",
       "<p>4 rows × 993 columns</p>\n",
       "</div>"
      ],
      "text/plain": [
       "movie_id        2077677      106332      116421       3170832     204175   \\\n",
       "genres        99.000000   182.000000   16.000000   195.000000  116.000000   \n",
       "rating         6.400000     8.100000    5.400000     8.100000    5.400000   \n",
       "stars          6.165869     6.187815    6.149547     6.154384    6.161788   \n",
       "story_line  1581.000000  1826.200000  900.000000  2081.400000  607.400000   \n",
       "\n",
       "movie_id        381505      436742       9214832      8820590      114906   \\\n",
       "genres       110.000000  110.000000   116.000000    47.000000   110.000000   \n",
       "rating         6.500000    4.100000     6.700000     6.600000     7.400000   \n",
       "stars          6.165009    6.161564     6.166086     6.150651     6.163331   \n",
       "story_line  1652.800000  406.800000  1863.400000  2021.600000  1426.800000   \n",
       "\n",
       "movie_id    ...      803096       89686        113967       92147    \\\n",
       "genres      ...     7.000000   210.000000   143.000000   125.000000   \n",
       "rating      ...     6.800000     5.500000     6.700000     6.000000   \n",
       "stars       ...     6.169399     6.156981     6.162167     6.162488   \n",
       "story_line  ...  1919.200000  1066.400000  1641.400000  1309.200000   \n",
       "\n",
       "movie_id        414055      2083231      2158531      79945       1653649  \\\n",
       "genres        94.000000   26.000000   128.000000    76.000000    28.00000   \n",
       "rating         6.800000    5.100000     6.600000     6.400000     6.50000   \n",
       "stars          6.157754    6.162267     6.159905     6.169162     6.17228   \n",
       "story_line  1820.200000  455.000000  1666.400000  1173.200000  1704.00000   \n",
       "\n",
       "movie_id        116931   \n",
       "genres       138.000000  \n",
       "rating         6.300000  \n",
       "stars          6.148068  \n",
       "story_line  1724.000000  \n",
       "\n",
       "[4 rows x 993 columns]"
      ]
     },
     "execution_count": 5,
     "metadata": {},
     "output_type": "execute_result"
    }
   ],
   "source": [
    "df = movies[['movie_id', 'genres', 'rating', 'stars', 'story_line']]\n",
    "df.set_index('movie_id', inplace=True)\n",
    "df.T"
   ]
  },
  {
   "cell_type": "markdown",
   "metadata": {
    "id": "KFfB1r-FSDqp"
   },
   "source": [
    "## Normalization"
   ]
  },
  {
   "cell_type": "code",
   "execution_count": 6,
   "metadata": {
    "id": "U9a3CHOa22OK"
   },
   "outputs": [],
   "source": [
    "# # Mean normalization\n",
    "\n",
    "# normalized_df = (df-df.mean())/df.std()\n",
    "# normalized_df.describe()"
   ]
  },
  {
   "cell_type": "code",
   "execution_count": 7,
   "metadata": {
    "colab": {
     "base_uri": "https://localhost:8080/",
     "height": 287
    },
    "executionInfo": {
     "elapsed": 19828,
     "status": "ok",
     "timestamp": 1610214519875,
     "user": {
      "displayName": "Luong Nguyen Van",
      "photoUrl": "https://lh3.googleusercontent.com/a-/AOh14Ghg918fSVz3JA4vqh4kkOEAryW0uPsMzge4R-1Q6Q=s64",
      "userId": "15966365699611063661"
     },
     "user_tz": -420
    },
    "id": "SntI8BLj2kZ-",
    "outputId": "84de92f4-a1a5-49bf-a4a2-d765c1974bc5"
   },
   "outputs": [
    {
     "data": {
      "text/html": [
       "<div>\n",
       "<style scoped>\n",
       "    .dataframe tbody tr th:only-of-type {\n",
       "        vertical-align: middle;\n",
       "    }\n",
       "\n",
       "    .dataframe tbody tr th {\n",
       "        vertical-align: top;\n",
       "    }\n",
       "\n",
       "    .dataframe thead th {\n",
       "        text-align: right;\n",
       "    }\n",
       "</style>\n",
       "<table border=\"1\" class=\"dataframe\">\n",
       "  <thead>\n",
       "    <tr style=\"text-align: right;\">\n",
       "      <th></th>\n",
       "      <th>genres</th>\n",
       "      <th>rating</th>\n",
       "      <th>stars</th>\n",
       "      <th>story_line</th>\n",
       "    </tr>\n",
       "  </thead>\n",
       "  <tbody>\n",
       "    <tr>\n",
       "      <th>count</th>\n",
       "      <td>993.000000</td>\n",
       "      <td>993.000000</td>\n",
       "      <td>993.000000</td>\n",
       "      <td>993.000000</td>\n",
       "    </tr>\n",
       "    <tr>\n",
       "      <th>mean</th>\n",
       "      <td>0.516076</td>\n",
       "      <td>0.644171</td>\n",
       "      <td>0.615386</td>\n",
       "      <td>0.478676</td>\n",
       "    </tr>\n",
       "    <tr>\n",
       "      <th>std</th>\n",
       "      <td>0.280174</td>\n",
       "      <td>0.147800</td>\n",
       "      <td>0.070604</td>\n",
       "      <td>0.213190</td>\n",
       "    </tr>\n",
       "    <tr>\n",
       "      <th>min</th>\n",
       "      <td>0.000000</td>\n",
       "      <td>0.000000</td>\n",
       "      <td>0.000000</td>\n",
       "      <td>0.000000</td>\n",
       "    </tr>\n",
       "    <tr>\n",
       "      <th>25%</th>\n",
       "      <td>0.292793</td>\n",
       "      <td>0.567568</td>\n",
       "      <td>0.577071</td>\n",
       "      <td>0.311763</td>\n",
       "    </tr>\n",
       "    <tr>\n",
       "      <th>50%</th>\n",
       "      <td>0.522523</td>\n",
       "      <td>0.662162</td>\n",
       "      <td>0.610270</td>\n",
       "      <td>0.481511</td>\n",
       "    </tr>\n",
       "    <tr>\n",
       "      <th>75%</th>\n",
       "      <td>0.711712</td>\n",
       "      <td>0.743243</td>\n",
       "      <td>0.648205</td>\n",
       "      <td>0.632334</td>\n",
       "    </tr>\n",
       "    <tr>\n",
       "      <th>max</th>\n",
       "      <td>1.000000</td>\n",
       "      <td>1.000000</td>\n",
       "      <td>1.000000</td>\n",
       "      <td>1.000000</td>\n",
       "    </tr>\n",
       "  </tbody>\n",
       "</table>\n",
       "</div>"
      ],
      "text/plain": [
       "           genres      rating       stars  story_line\n",
       "count  993.000000  993.000000  993.000000  993.000000\n",
       "mean     0.516076    0.644171    0.615386    0.478676\n",
       "std      0.280174    0.147800    0.070604    0.213190\n",
       "min      0.000000    0.000000    0.000000    0.000000\n",
       "25%      0.292793    0.567568    0.577071    0.311763\n",
       "50%      0.522523    0.662162    0.610270    0.481511\n",
       "75%      0.711712    0.743243    0.648205    0.632334\n",
       "max      1.000000    1.000000    1.000000    1.000000"
      ]
     },
     "execution_count": 7,
     "metadata": {},
     "output_type": "execute_result"
    }
   ],
   "source": [
    "# Min-max normalization\n",
    "\n",
    "normalized_df=(df-df.min())/(df.max()-df.min())\n",
    "normalized_df.describe()"
   ]
  },
  {
   "cell_type": "code",
   "execution_count": 8,
   "metadata": {
    "colab": {
     "base_uri": "https://localhost:8080/",
     "height": 216
    },
    "executionInfo": {
     "elapsed": 20138,
     "status": "ok",
     "timestamp": 1610214520196,
     "user": {
      "displayName": "Luong Nguyen Van",
      "photoUrl": "https://lh3.googleusercontent.com/a-/AOh14Ghg918fSVz3JA4vqh4kkOEAryW0uPsMzge4R-1Q6Q=s64",
      "userId": "15966365699611063661"
     },
     "user_tz": -420
    },
    "id": "18nImMQKpt6S",
    "outputId": "db5fd14e-976d-4f6c-dbe6-e7015d6fe061"
   },
   "outputs": [
    {
     "data": {
      "text/html": [
       "<div>\n",
       "<style scoped>\n",
       "    .dataframe tbody tr th:only-of-type {\n",
       "        vertical-align: middle;\n",
       "    }\n",
       "\n",
       "    .dataframe tbody tr th {\n",
       "        vertical-align: top;\n",
       "    }\n",
       "\n",
       "    .dataframe thead th {\n",
       "        text-align: right;\n",
       "    }\n",
       "</style>\n",
       "<table border=\"1\" class=\"dataframe\">\n",
       "  <thead>\n",
       "    <tr style=\"text-align: right;\">\n",
       "      <th>movie_id</th>\n",
       "      <th>2077677</th>\n",
       "      <th>106332</th>\n",
       "      <th>116421</th>\n",
       "      <th>3170832</th>\n",
       "      <th>204175</th>\n",
       "      <th>381505</th>\n",
       "      <th>436742</th>\n",
       "      <th>9214832</th>\n",
       "      <th>8820590</th>\n",
       "      <th>114906</th>\n",
       "      <th>...</th>\n",
       "      <th>803096</th>\n",
       "      <th>89686</th>\n",
       "      <th>113967</th>\n",
       "      <th>92147</th>\n",
       "      <th>414055</th>\n",
       "      <th>2083231</th>\n",
       "      <th>2158531</th>\n",
       "      <th>79945</th>\n",
       "      <th>1653649</th>\n",
       "      <th>116931</th>\n",
       "    </tr>\n",
       "  </thead>\n",
       "  <tbody>\n",
       "    <tr>\n",
       "      <th>genres</th>\n",
       "      <td>0.445946</td>\n",
       "      <td>0.819820</td>\n",
       "      <td>0.072072</td>\n",
       "      <td>0.878378</td>\n",
       "      <td>0.522523</td>\n",
       "      <td>0.495495</td>\n",
       "      <td>0.495495</td>\n",
       "      <td>0.522523</td>\n",
       "      <td>0.211712</td>\n",
       "      <td>0.495495</td>\n",
       "      <td>...</td>\n",
       "      <td>0.031532</td>\n",
       "      <td>0.945946</td>\n",
       "      <td>0.644144</td>\n",
       "      <td>0.563063</td>\n",
       "      <td>0.423423</td>\n",
       "      <td>0.117117</td>\n",
       "      <td>0.576577</td>\n",
       "      <td>0.342342</td>\n",
       "      <td>0.126126</td>\n",
       "      <td>0.621622</td>\n",
       "    </tr>\n",
       "    <tr>\n",
       "      <th>rating</th>\n",
       "      <td>0.675676</td>\n",
       "      <td>0.905405</td>\n",
       "      <td>0.540541</td>\n",
       "      <td>0.905405</td>\n",
       "      <td>0.540541</td>\n",
       "      <td>0.689189</td>\n",
       "      <td>0.364865</td>\n",
       "      <td>0.716216</td>\n",
       "      <td>0.702703</td>\n",
       "      <td>0.810811</td>\n",
       "      <td>...</td>\n",
       "      <td>0.729730</td>\n",
       "      <td>0.554054</td>\n",
       "      <td>0.716216</td>\n",
       "      <td>0.621622</td>\n",
       "      <td>0.729730</td>\n",
       "      <td>0.500000</td>\n",
       "      <td>0.702703</td>\n",
       "      <td>0.675676</td>\n",
       "      <td>0.689189</td>\n",
       "      <td>0.662162</td>\n",
       "    </tr>\n",
       "    <tr>\n",
       "      <th>stars</th>\n",
       "      <td>0.623385</td>\n",
       "      <td>0.758455</td>\n",
       "      <td>0.522926</td>\n",
       "      <td>0.552702</td>\n",
       "      <td>0.598266</td>\n",
       "      <td>0.618091</td>\n",
       "      <td>0.596891</td>\n",
       "      <td>0.624724</td>\n",
       "      <td>0.529723</td>\n",
       "      <td>0.607764</td>\n",
       "      <td>...</td>\n",
       "      <td>0.645114</td>\n",
       "      <td>0.568681</td>\n",
       "      <td>0.600599</td>\n",
       "      <td>0.602575</td>\n",
       "      <td>0.573442</td>\n",
       "      <td>0.601214</td>\n",
       "      <td>0.586682</td>\n",
       "      <td>0.643651</td>\n",
       "      <td>0.662845</td>\n",
       "      <td>0.513827</td>\n",
       "    </tr>\n",
       "    <tr>\n",
       "      <th>story_line</th>\n",
       "      <td>0.551245</td>\n",
       "      <td>0.640486</td>\n",
       "      <td>0.303392</td>\n",
       "      <td>0.733367</td>\n",
       "      <td>0.196899</td>\n",
       "      <td>0.577377</td>\n",
       "      <td>0.123890</td>\n",
       "      <td>0.654025</td>\n",
       "      <td>0.711603</td>\n",
       "      <td>0.495123</td>\n",
       "      <td>...</td>\n",
       "      <td>0.674334</td>\n",
       "      <td>0.363954</td>\n",
       "      <td>0.573228</td>\n",
       "      <td>0.452322</td>\n",
       "      <td>0.638303</td>\n",
       "      <td>0.141433</td>\n",
       "      <td>0.582326</td>\n",
       "      <td>0.402824</td>\n",
       "      <td>0.596011</td>\n",
       "      <td>0.603290</td>\n",
       "    </tr>\n",
       "  </tbody>\n",
       "</table>\n",
       "<p>4 rows × 993 columns</p>\n",
       "</div>"
      ],
      "text/plain": [
       "movie_id     2077677   106332    116421    3170832   204175    381505   \\\n",
       "genres      0.445946  0.819820  0.072072  0.878378  0.522523  0.495495   \n",
       "rating      0.675676  0.905405  0.540541  0.905405  0.540541  0.689189   \n",
       "stars       0.623385  0.758455  0.522926  0.552702  0.598266  0.618091   \n",
       "story_line  0.551245  0.640486  0.303392  0.733367  0.196899  0.577377   \n",
       "\n",
       "movie_id     436742    9214832   8820590   114906   ...   803096    89686    \\\n",
       "genres      0.495495  0.522523  0.211712  0.495495  ...  0.031532  0.945946   \n",
       "rating      0.364865  0.716216  0.702703  0.810811  ...  0.729730  0.554054   \n",
       "stars       0.596891  0.624724  0.529723  0.607764  ...  0.645114  0.568681   \n",
       "story_line  0.123890  0.654025  0.711603  0.495123  ...  0.674334  0.363954   \n",
       "\n",
       "movie_id     113967    92147     414055    2083231   2158531   79945    \\\n",
       "genres      0.644144  0.563063  0.423423  0.117117  0.576577  0.342342   \n",
       "rating      0.716216  0.621622  0.729730  0.500000  0.702703  0.675676   \n",
       "stars       0.600599  0.602575  0.573442  0.601214  0.586682  0.643651   \n",
       "story_line  0.573228  0.452322  0.638303  0.141433  0.582326  0.402824   \n",
       "\n",
       "movie_id     1653649   116931   \n",
       "genres      0.126126  0.621622  \n",
       "rating      0.689189  0.662162  \n",
       "stars       0.662845  0.513827  \n",
       "story_line  0.596011  0.603290  \n",
       "\n",
       "[4 rows x 993 columns]"
      ]
     },
     "execution_count": 8,
     "metadata": {},
     "output_type": "execute_result"
    }
   ],
   "source": [
    "normalized_df.T"
   ]
  },
  {
   "cell_type": "markdown",
   "metadata": {
    "id": "GNAWA16NRXZ9"
   },
   "source": [
    "## Visualization"
   ]
  },
  {
   "cell_type": "code",
   "execution_count": 9,
   "metadata": {
    "colab": {
     "base_uri": "https://localhost:8080/",
     "height": 296
    },
    "executionInfo": {
     "elapsed": 7533,
     "status": "ok",
     "timestamp": 1610214645194,
     "user": {
      "displayName": "Luong Nguyen Van",
      "photoUrl": "https://lh3.googleusercontent.com/a-/AOh14Ghg918fSVz3JA4vqh4kkOEAryW0uPsMzge4R-1Q6Q=s64",
      "userId": "15966365699611063661"
     },
     "user_tz": -420
    },
    "id": "zMNqBwkMRXip",
    "outputId": "36f1d003-5ff0-4fbf-b003-694ce38e5d9c"
   },
   "outputs": [
    {
     "data": {
      "text/plain": [
       "<AxesSubplot:xlabel='X', ylabel='Y'>"
      ]
     },
     "execution_count": 9,
     "metadata": {},
     "output_type": "execute_result"
    },
    {
     "data": {
      "image/png": "[encoded data removed]",
      "text/plain": [
       "<Figure size 432x288 with 1 Axes>"
      ]
     },
     "metadata": {
      "needs_background": "light"
     },
     "output_type": "display_data"
    }
   ],
   "source": [
    "tsne = TSNE(n_components=2, random_state=0)\n",
    "\n",
    "tsne_obj = tsne.fit_transform(normalized_df)\n",
    "tsne_df = pd.DataFrame({'X':tsne_obj[:,0],\n",
    "                        'Y':tsne_obj[:,1]})\n",
    "sns.scatterplot(x=\"X\", y=\"Y\", data=tsne_df)"
   ]
  },
  {
   "cell_type": "markdown",
   "metadata": {
    "id": "a2CvuBe8O-NW"
   },
   "source": [
    "# Model"
   ]
  },
  {
   "cell_type": "markdown",
   "metadata": {
    "id": "xIy3rHhcCYL7"
   },
   "source": [
    "## Analysis"
   ]
  },
  {
   "cell_type": "markdown",
   "metadata": {
    "id": "eJbWMZudDSMH"
   },
   "source": [
    "Brute"
   ]
  },
  {
   "cell_type": "code",
   "execution_count": 10,
   "metadata": {
    "colab": {
     "base_uri": "https://localhost:8080/"
    },
    "executionInfo": {
     "elapsed": 20128,
     "status": "ok",
     "timestamp": 1610214520197,
     "user": {
      "displayName": "Luong Nguyen Van",
      "photoUrl": "https://lh3.googleusercontent.com/a-/AOh14Ghg918fSVz3JA4vqh4kkOEAryW0uPsMzge4R-1Q6Q=s64",
      "userId": "15966365699611063661"
     },
     "user_tz": -420
    },
    "id": "hFdK-ecOZFhu",
    "outputId": "f3a307a3-b83d-4c7b-b08b-30b25c2f99dd"
   },
   "outputs": [
    {
     "name": "stdout",
     "output_type": "stream",
     "text": [
      "0.001735687255859375\n"
     ]
    }
   ],
   "source": [
    "start = time.time()\n",
    "nbrs = NearestNeighbors(n_neighbors=6, algorithm='brute').fit(normalized_df)\n",
    "\n",
    "end = time.time()\n",
    "print(end - start)"
   ]
  },
  {
   "cell_type": "markdown",
   "metadata": {
    "id": "7L3xl2KoDUgf"
   },
   "source": [
    "KD Tree"
   ]
  },
  {
   "cell_type": "code",
   "execution_count": 11,
   "metadata": {
    "colab": {
     "base_uri": "https://localhost:8080/"
    },
    "executionInfo": {
     "elapsed": 20126,
     "status": "ok",
     "timestamp": 1610214520204,
     "user": {
      "displayName": "Luong Nguyen Van",
      "photoUrl": "https://lh3.googleusercontent.com/a-/AOh14Ghg918fSVz3JA4vqh4kkOEAryW0uPsMzge4R-1Q6Q=s64",
      "userId": "15966365699611063661"
     },
     "user_tz": -420
    },
    "id": "w-kbjOInCYL7",
    "outputId": "4b044046-ba65-4ea3-e878-c33edf907bf1"
   },
   "outputs": [
    {
     "name": "stdout",
     "output_type": "stream",
     "text": [
      "0.0032482147216796875\n"
     ]
    }
   ],
   "source": [
    "start = time.time()\n",
    "nbrs = NearestNeighbors(n_neighbors=6, algorithm='kd_tree').fit(normalized_df)\n",
    "\n",
    "end = time.time()\n",
    "print(end - start)"
   ]
  },
  {
   "cell_type": "markdown",
   "metadata": {
    "id": "SfKk7qqXDXQR"
   },
   "source": [
    "Ball Tree"
   ]
  },
  {
   "cell_type": "code",
   "execution_count": 12,
   "metadata": {
    "colab": {
     "base_uri": "https://localhost:8080/"
    },
    "executionInfo": {
     "elapsed": 20120,
     "status": "ok",
     "timestamp": 1610214520207,
     "user": {
      "displayName": "Luong Nguyen Van",
      "photoUrl": "https://lh3.googleusercontent.com/a-/AOh14Ghg918fSVz3JA4vqh4kkOEAryW0uPsMzge4R-1Q6Q=s64",
      "userId": "15966365699611063661"
     },
     "user_tz": -420
    },
    "id": "E1Gzem7IY0J5",
    "outputId": "11add81f-af03-4b54-c9a0-9a0891ca0c57"
   },
   "outputs": [
    {
     "name": "stdout",
     "output_type": "stream",
     "text": [
      "0.0019948482513427734\n"
     ]
    }
   ],
   "source": [
    "start = time.time()\n",
    "nbrs = NearestNeighbors(n_neighbors=6, algorithm='ball_tree').fit(normalized_df)\n",
    "\n",
    "end = time.time()\n",
    "print(end - start)"
   ]
  },
  {
   "cell_type": "markdown",
   "metadata": {
    "id": "1im0vVVEH-t8"
   },
   "source": [
    "Conclusion:\n",
    "\n",
    "Time [Brute] < Time [KD Tree] < Time [Ball Tree]"
   ]
  },
  {
   "cell_type": "markdown",
   "metadata": {
    "id": "q-u3F_8XPCft"
   },
   "source": [
    "## Train"
   ]
  },
  {
   "cell_type": "code",
   "execution_count": 13,
   "metadata": {
    "id": "dq1YJr-bHvQD"
   },
   "outputs": [],
   "source": [
    "knn = NearestNeighbors(n_neighbors=6, algorithm='brute').fit(normalized_df)"
   ]
  },
  {
   "cell_type": "markdown",
   "metadata": {
    "id": "0KsvGnzTCYL8"
   },
   "source": [
    "## Saving"
   ]
  },
  {
   "cell_type": "code",
   "execution_count": 14,
   "metadata": {
    "colab": {
     "base_uri": "https://localhost:8080/",
     "height": 238
    },
    "executionInfo": {
     "elapsed": 926,
     "status": "error",
     "timestamp": 1610214565008,
     "user": {
      "displayName": "Luong Nguyen Van",
      "photoUrl": "https://lh3.googleusercontent.com/a-/AOh14Ghg918fSVz3JA4vqh4kkOEAryW0uPsMzge4R-1Q6Q=s64",
      "userId": "15966365699611063661"
     },
     "user_tz": -420
    },
    "id": "_7T4Zlz_CYL9",
    "outputId": "c24b47b1-414d-4e52-cd09-9e5b094a7d4a"
   },
   "outputs": [],
   "source": [
    "# Its important to use binary mode \n",
    "knnPickle = open(SAVING_MODEL, 'wb') \n",
    "\n",
    "# source, destination \n",
    "pickle.dump(knn, knnPickle)"
   ]
  },
  {
   "cell_type": "markdown",
   "metadata": {
    "id": "XIo-uAEJCYL9"
   },
   "source": [
    "## Loading"
   ]
  },
  {
   "cell_type": "code",
   "execution_count": 15,
   "metadata": {
    "id": "qrq6MxZPCYL9"
   },
   "outputs": [],
   "source": [
    "# load the model from disk\n",
    "loaded_model = pickle.load(open(LOADING_MODEL, 'rb'))"
   ]
  },
  {
   "cell_type": "markdown",
   "metadata": {
    "id": "GSUSQymDQV90"
   },
   "source": [
    "> If you see this error: \"EOFError: Ran out of input\". You should try to run saving again."
   ]
  },
  {
   "cell_type": "markdown",
   "metadata": {
    "id": "XIJCzA50CYL-"
   },
   "source": [
    "# Result"
   ]
  },
  {
   "cell_type": "code",
   "execution_count": 16,
   "metadata": {
    "id": "VAjLgZDUDrzB"
   },
   "outputs": [],
   "source": [
    "df.reset_index(inplace=True)"
   ]
  },
  {
   "cell_type": "code",
   "execution_count": 17,
   "metadata": {
    "colab": {
     "base_uri": "https://localhost:8080/"
    },
    "executionInfo": {
     "elapsed": 552,
     "status": "ok",
     "timestamp": 1610214572900,
     "user": {
      "displayName": "Luong Nguyen Van",
      "photoUrl": "https://lh3.googleusercontent.com/a-/AOh14Ghg918fSVz3JA4vqh4kkOEAryW0uPsMzge4R-1Q6Q=s64",
      "userId": "15966365699611063661"
     },
     "user_tz": -420
    },
    "id": "-125V3rtCYL-",
    "outputId": "bde74da6-8730-4b7e-b10a-cf410d92f82c"
   },
   "outputs": [
    {
     "data": {
      "text/plain": [
       "(array([[1834.22914438, 1834.23446708, 1834.25338072, 1834.26334522,\n",
       "         1834.26859718, 1834.2704971 ]]),\n",
       " array([[233,  18, 613, 656, 348, 592]]))"
      ]
     },
     "execution_count": 17,
     "metadata": {},
     "output_type": "execute_result"
    }
   ],
   "source": [
    "# input\n",
    "movie_id = df['movie_id'][1]\n",
    "# load data-to-model\n",
    "movie_index = df[df['movie_id'] == movie_id].index[0]\n",
    "# check\n",
    "test = df.set_index('movie_id').values[movie_index].reshape(1,-1)\n",
    "result = loaded_model.kneighbors(test, return_distance=True)\n",
    "result"
   ]
  },
  {
   "cell_type": "code",
   "execution_count": 18,
   "metadata": {
    "colab": {
     "base_uri": "https://localhost:8080/"
    },
    "executionInfo": {
     "elapsed": 626,
     "status": "ok",
     "timestamp": 1610214573313,
     "user": {
      "displayName": "Luong Nguyen Van",
      "photoUrl": "https://lh3.googleusercontent.com/a-/AOh14Ghg918fSVz3JA4vqh4kkOEAryW0uPsMzge4R-1Q6Q=s64",
      "userId": "15966365699611063661"
     },
     "user_tz": -420
    },
    "id": "k4OdAXFeCYL_",
    "outputId": "3d0fe0f6-8fbd-4241-84f8-16c23266cb61"
   },
   "outputs": [
    {
     "name": "stdout",
     "output_type": "stream",
     "text": [
      "INPUT:\t Ba wang bie ji\n",
      "\n",
      "OUTPUT:\t ['My Name Is Khan' 'This Is Spinal Tap' 'Bound by Honor' 'Rossz versek'\n",
      " 'Star Wars']\n"
     ]
    }
   ],
   "source": [
    "x = [_ for _ in result[1][0][1:]]\n",
    "movie_info = movies\n",
    "\n",
    "print('INPUT:\\t', movie_info.loc[movie_index,:]['name'])\n",
    "print('\\nOUTPUT:\\t', movie_info.loc[x,:]['name'].values)"
   ]
  }
 ],
 "metadata": {
  "colab": {
   "collapsed_sections": [],
   "name": "content_based.ipynb",
   "provenance": [],
   "toc_visible": true
  },
  "kernelspec": {
   "display_name": "Python 3",
   "language": "python",
   "name": "python3"
  },
  "language_info": {
   "codemirror_mode": {
    "name": "ipython",
    "version": 3
   },
   "file_extension": ".py",
   "mimetype": "text/x-python",
   "name": "python",
   "nbconvert_exporter": "python",
   "pygments_lexer": "ipython3",
   "version": "3.6.12"
  }
 },
 "nbformat": 4,
 "nbformat_minor": 4
}
