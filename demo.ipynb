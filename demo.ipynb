{
 "cells": [
  {
   "cell_type": "markdown",
   "metadata": {
    "id": "-xCfXV-50xnJ"
   },
   "source": [
    "# Import Libs"
   ]
  },
  {
   "cell_type": "code",
   "execution_count": 1,
   "metadata": {
    "executionInfo": {
     "elapsed": 1861,
     "status": "ok",
     "timestamp": 1609821304822,
     "user": {
      "displayName": "Luong Nguyen Van",
      "photoUrl": "https://lh3.googleusercontent.com/a-/AOh14Ghg918fSVz3JA4vqh4kkOEAryW0uPsMzge4R-1Q6Q=s64",
      "userId": "15966365699611063661"
     },
     "user_tz": -420
    },
    "id": "WujNSvCigfK6"
   },
   "outputs": [],
   "source": [
    "import numpy as np\n",
    "import pandas as pd\n",
    "from sklearn.neighbors import NearestNeighbors"
   ]
  },
  {
   "cell_type": "markdown",
   "metadata": {
    "id": "quaP1hyvg7ym"
   },
   "source": [
    "# Data"
   ]
  },
  {
   "cell_type": "code",
   "execution_count": 2,
   "metadata": {
    "colab": {
     "base_uri": "https://localhost:8080/",
     "height": 0
    },
    "executionInfo": {
     "elapsed": 1853,
     "status": "ok",
     "timestamp": 1609821304823,
     "user": {
      "displayName": "Luong Nguyen Van",
      "photoUrl": "https://lh3.googleusercontent.com/a-/AOh14Ghg918fSVz3JA4vqh4kkOEAryW0uPsMzge4R-1Q6Q=s64",
      "userId": "15966365699611063661"
     },
     "user_tz": -420
    },
    "id": "WzRqiGlfg9g-",
    "outputId": "e4016a37-ffb1-4e2c-b57b-e6bd4cbbd5a2"
   },
   "outputs": [
    {
     "data": {
      "text/html": [
       "<div>\n",
       "<style scoped>\n",
       "    .dataframe tbody tr th:only-of-type {\n",
       "        vertical-align: middle;\n",
       "    }\n",
       "\n",
       "    .dataframe tbody tr th {\n",
       "        vertical-align: top;\n",
       "    }\n",
       "\n",
       "    .dataframe thead th {\n",
       "        text-align: right;\n",
       "    }\n",
       "</style>\n",
       "<table border=\"1\" class=\"dataframe\">\n",
       "  <thead>\n",
       "    <tr style=\"text-align: right;\">\n",
       "      <th></th>\n",
       "      <th>genres</th>\n",
       "      <th>rating</th>\n",
       "      <th>runtime</th>\n",
       "      <th>story_line</th>\n",
       "    </tr>\n",
       "    <tr>\n",
       "      <th>movie_id</th>\n",
       "      <th></th>\n",
       "      <th></th>\n",
       "      <th></th>\n",
       "      <th></th>\n",
       "    </tr>\n",
       "  </thead>\n",
       "  <tbody>\n",
       "    <tr>\n",
       "      <th>2077677</th>\n",
       "      <td>99</td>\n",
       "      <td>6.4</td>\n",
       "      <td>86</td>\n",
       "      <td>1581.0</td>\n",
       "    </tr>\n",
       "    <tr>\n",
       "      <th>106332</th>\n",
       "      <td>182</td>\n",
       "      <td>8.1</td>\n",
       "      <td>171</td>\n",
       "      <td>1826.2</td>\n",
       "    </tr>\n",
       "    <tr>\n",
       "      <th>116421</th>\n",
       "      <td>16</td>\n",
       "      <td>5.4</td>\n",
       "      <td>91</td>\n",
       "      <td>900.0</td>\n",
       "    </tr>\n",
       "    <tr>\n",
       "      <th>3170832</th>\n",
       "      <td>195</td>\n",
       "      <td>8.1</td>\n",
       "      <td>118</td>\n",
       "      <td>2081.4</td>\n",
       "    </tr>\n",
       "    <tr>\n",
       "      <th>204175</th>\n",
       "      <td>116</td>\n",
       "      <td>5.4</td>\n",
       "      <td>94</td>\n",
       "      <td>607.4</td>\n",
       "    </tr>\n",
       "    <tr>\n",
       "      <th>...</th>\n",
       "      <td>...</td>\n",
       "      <td>...</td>\n",
       "      <td>...</td>\n",
       "      <td>...</td>\n",
       "    </tr>\n",
       "    <tr>\n",
       "      <th>2083231</th>\n",
       "      <td>26</td>\n",
       "      <td>5.1</td>\n",
       "      <td>104</td>\n",
       "      <td>455.0</td>\n",
       "    </tr>\n",
       "    <tr>\n",
       "      <th>2158531</th>\n",
       "      <td>128</td>\n",
       "      <td>6.6</td>\n",
       "      <td>90</td>\n",
       "      <td>1666.4</td>\n",
       "    </tr>\n",
       "    <tr>\n",
       "      <th>79945</th>\n",
       "      <td>76</td>\n",
       "      <td>6.4</td>\n",
       "      <td>132</td>\n",
       "      <td>1173.2</td>\n",
       "    </tr>\n",
       "    <tr>\n",
       "      <th>1653649</th>\n",
       "      <td>28</td>\n",
       "      <td>6.5</td>\n",
       "      <td>100</td>\n",
       "      <td>1704.0</td>\n",
       "    </tr>\n",
       "    <tr>\n",
       "      <th>116931</th>\n",
       "      <td>138</td>\n",
       "      <td>6.3</td>\n",
       "      <td>76</td>\n",
       "      <td>1724.0</td>\n",
       "    </tr>\n",
       "  </tbody>\n",
       "</table>\n",
       "<p>993 rows × 4 columns</p>\n",
       "</div>"
      ],
      "text/plain": [
       "          genres  rating  runtime  story_line\n",
       "movie_id                                     \n",
       "2077677       99     6.4       86      1581.0\n",
       "106332       182     8.1      171      1826.2\n",
       "116421        16     5.4       91       900.0\n",
       "3170832      195     8.1      118      2081.4\n",
       "204175       116     5.4       94       607.4\n",
       "...          ...     ...      ...         ...\n",
       "2083231       26     5.1      104       455.0\n",
       "2158531      128     6.6       90      1666.4\n",
       "79945         76     6.4      132      1173.2\n",
       "1653649       28     6.5      100      1704.0\n",
       "116931       138     6.3       76      1724.0\n",
       "\n",
       "[993 rows x 4 columns]"
      ]
     },
     "execution_count": 2,
     "metadata": {},
     "output_type": "execute_result"
    }
   ],
   "source": [
    "movies = pd.read_csv('data/preprocessed.csv')\n",
    "df = movies.drop(['name'], axis=1)\n",
    "df = df[['movie_id', 'genres', 'rating', 'runtime', 'story_line']]\n",
    "df.set_index('movie_id')"
   ]
  },
  {
   "cell_type": "code",
   "execution_count": 3,
   "metadata": {
    "colab": {
     "base_uri": "https://localhost:8080/",
     "height": 0
    },
    "executionInfo": {
     "elapsed": 1845,
     "status": "ok",
     "timestamp": 1609821304824,
     "user": {
      "displayName": "Luong Nguyen Van",
      "photoUrl": "https://lh3.googleusercontent.com/a-/AOh14Ghg918fSVz3JA4vqh4kkOEAryW0uPsMzge4R-1Q6Q=s64",
      "userId": "15966365699611063661"
     },
     "user_tz": -420
    },
    "id": "YNMv1L1VusHG",
    "outputId": "d47dab62-ff1f-404f-8950-0f060be9bfba"
   },
   "outputs": [
    {
     "data": {
      "text/html": [
       "<div>\n",
       "<style scoped>\n",
       "    .dataframe tbody tr th:only-of-type {\n",
       "        vertical-align: middle;\n",
       "    }\n",
       "\n",
       "    .dataframe tbody tr th {\n",
       "        vertical-align: top;\n",
       "    }\n",
       "\n",
       "    .dataframe thead th {\n",
       "        text-align: right;\n",
       "    }\n",
       "</style>\n",
       "<table border=\"1\" class=\"dataframe\">\n",
       "  <thead>\n",
       "    <tr style=\"text-align: right;\">\n",
       "      <th></th>\n",
       "      <th>movie_id</th>\n",
       "      <th>name</th>\n",
       "      <th>genres</th>\n",
       "    </tr>\n",
       "  </thead>\n",
       "  <tbody>\n",
       "    <tr>\n",
       "      <th>0</th>\n",
       "      <td>1</td>\n",
       "      <td>Toy Story (1995)</td>\n",
       "      <td>Adventure|Animation|Children|Comedy|Fantasy</td>\n",
       "    </tr>\n",
       "    <tr>\n",
       "      <th>1</th>\n",
       "      <td>2</td>\n",
       "      <td>Jumanji (1995)</td>\n",
       "      <td>Adventure|Children|Fantasy</td>\n",
       "    </tr>\n",
       "    <tr>\n",
       "      <th>2</th>\n",
       "      <td>3</td>\n",
       "      <td>Grumpier Old Men (1995)</td>\n",
       "      <td>Comedy|Romance</td>\n",
       "    </tr>\n",
       "    <tr>\n",
       "      <th>3</th>\n",
       "      <td>4</td>\n",
       "      <td>Waiting to Exhale (1995)</td>\n",
       "      <td>Comedy|Drama|Romance</td>\n",
       "    </tr>\n",
       "    <tr>\n",
       "      <th>4</th>\n",
       "      <td>5</td>\n",
       "      <td>Father of the Bride Part II (1995)</td>\n",
       "      <td>Comedy</td>\n",
       "    </tr>\n",
       "    <tr>\n",
       "      <th>...</th>\n",
       "      <td>...</td>\n",
       "      <td>...</td>\n",
       "      <td>...</td>\n",
       "    </tr>\n",
       "    <tr>\n",
       "      <th>27273</th>\n",
       "      <td>131254</td>\n",
       "      <td>Kein Bund für's Leben (2007)</td>\n",
       "      <td>Comedy</td>\n",
       "    </tr>\n",
       "    <tr>\n",
       "      <th>27274</th>\n",
       "      <td>131256</td>\n",
       "      <td>Feuer, Eis &amp; Dosenbier (2002)</td>\n",
       "      <td>Comedy</td>\n",
       "    </tr>\n",
       "    <tr>\n",
       "      <th>27275</th>\n",
       "      <td>131258</td>\n",
       "      <td>The Pirates (2014)</td>\n",
       "      <td>Adventure</td>\n",
       "    </tr>\n",
       "    <tr>\n",
       "      <th>27276</th>\n",
       "      <td>131260</td>\n",
       "      <td>Rentun Ruusu (2001)</td>\n",
       "      <td>(no genres listed)</td>\n",
       "    </tr>\n",
       "    <tr>\n",
       "      <th>27277</th>\n",
       "      <td>131262</td>\n",
       "      <td>Innocence (2014)</td>\n",
       "      <td>Adventure|Fantasy|Horror</td>\n",
       "    </tr>\n",
       "  </tbody>\n",
       "</table>\n",
       "<p>27278 rows × 3 columns</p>\n",
       "</div>"
      ],
      "text/plain": [
       "       movie_id                                name  \\\n",
       "0             1                    Toy Story (1995)   \n",
       "1             2                      Jumanji (1995)   \n",
       "2             3             Grumpier Old Men (1995)   \n",
       "3             4            Waiting to Exhale (1995)   \n",
       "4             5  Father of the Bride Part II (1995)   \n",
       "...         ...                                 ...   \n",
       "27273    131254        Kein Bund für's Leben (2007)   \n",
       "27274    131256       Feuer, Eis & Dosenbier (2002)   \n",
       "27275    131258                  The Pirates (2014)   \n",
       "27276    131260                 Rentun Ruusu (2001)   \n",
       "27277    131262                    Innocence (2014)   \n",
       "\n",
       "                                            genres  \n",
       "0      Adventure|Animation|Children|Comedy|Fantasy  \n",
       "1                       Adventure|Children|Fantasy  \n",
       "2                                   Comedy|Romance  \n",
       "3                             Comedy|Drama|Romance  \n",
       "4                                           Comedy  \n",
       "...                                            ...  \n",
       "27273                                       Comedy  \n",
       "27274                                       Comedy  \n",
       "27275                                    Adventure  \n",
       "27276                           (no genres listed)  \n",
       "27277                     Adventure|Fantasy|Horror  \n",
       "\n",
       "[27278 rows x 3 columns]"
      ]
     },
     "execution_count": 3,
     "metadata": {},
     "output_type": "execute_result"
    }
   ],
   "source": [
    "movies_ = pd.read_csv('data/movies.csv')\n",
    "movies_.rename(columns={'movieId': 'movie_id', 'title': 'name'}, inplace=True)\n",
    "movies_"
   ]
  },
  {
   "cell_type": "markdown",
   "metadata": {
    "id": "dzSBQYFngsVX"
   },
   "source": [
    "# Item-to-item"
   ]
  },
  {
   "cell_type": "markdown",
   "metadata": {
    "id": "IeXkVTUSgvwg"
   },
   "source": [
    "## Loading model"
   ]
  },
  {
   "cell_type": "code",
   "execution_count": 4,
   "metadata": {
    "executionInfo": {
     "elapsed": 1838,
     "status": "ok",
     "timestamp": 1609821304825,
     "user": {
      "displayName": "Luong Nguyen Van",
      "photoUrl": "https://lh3.googleusercontent.com/a-/AOh14Ghg918fSVz3JA4vqh4kkOEAryW0uPsMzge4R-1Q6Q=s64",
      "userId": "15966365699611063661"
     },
     "user_tz": -420
    },
    "id": "Zv56xf6TgvBz"
   },
   "outputs": [],
   "source": [
    "import pickle\n",
    "\n",
    "loaded_model = pickle.load(open('data/knnpickle_file', 'rb'))"
   ]
  },
  {
   "cell_type": "markdown",
   "metadata": {
    "id": "Ljq9KdJyhfzx"
   },
   "source": [
    "## Input"
   ]
  },
  {
   "cell_type": "code",
   "execution_count": 5,
   "metadata": {
    "colab": {
     "base_uri": "https://localhost:8080/"
    },
    "executionInfo": {
     "elapsed": 1833,
     "status": "ok",
     "timestamp": 1609821304826,
     "user": {
      "displayName": "Luong Nguyen Van",
      "photoUrl": "https://lh3.googleusercontent.com/a-/AOh14Ghg918fSVz3JA4vqh4kkOEAryW0uPsMzge4R-1Q6Q=s64",
      "userId": "15966365699611063661"
     },
     "user_tz": -420
    },
    "id": "8zKhwvCYjxOi",
    "outputId": "301920ef-a074-4d31-c9dd-6bbdf93bfd76"
   },
   "outputs": [
    {
     "name": "stdout",
     "output_type": "stream",
     "text": [
      "Movie ID: 3164256\n"
     ]
    }
   ],
   "source": [
    "# input\n",
    "movie_id = df['movie_id'].sample(1, random_state=0).values[0]\n",
    "\n",
    "print('Movie ID:', movie_id)"
   ]
  },
  {
   "cell_type": "markdown",
   "metadata": {
    "id": "Toa2nhQShQ1u"
   },
   "source": [
    "## Suggesting"
   ]
  },
  {
   "cell_type": "code",
   "execution_count": 6,
   "metadata": {
    "colab": {
     "base_uri": "https://localhost:8080/"
    },
    "executionInfo": {
     "elapsed": 1827,
     "status": "ok",
     "timestamp": 1609821304827,
     "user": {
      "displayName": "Luong Nguyen Van",
      "photoUrl": "https://lh3.googleusercontent.com/a-/AOh14Ghg918fSVz3JA4vqh4kkOEAryW0uPsMzge4R-1Q6Q=s64",
      "userId": "15966365699611063661"
     },
     "user_tz": -420
    },
    "id": "YlfCZ-zRhYco",
    "outputId": "ca3f816a-f449-4928-87a3-c3cbd452c751"
   },
   "outputs": [
    {
     "name": "stdout",
     "output_type": "stream",
     "text": [
      "[ 18 233 613 656 525 288]\n"
     ]
    }
   ],
   "source": [
    "# load data-to-model\n",
    "movie_index = df[df['movie_id'] == movie_id].index[0]\n",
    "# check\n",
    "test = df.set_index('movie_id').values[movie_index].reshape(1,-1)\n",
    "result = loaded_model.kneighbors(test, return_distance=True)\n",
    "print(result[1][0])"
   ]
  },
  {
   "cell_type": "code",
   "execution_count": 7,
   "metadata": {
    "colab": {
     "base_uri": "https://localhost:8080/"
    },
    "executionInfo": {
     "elapsed": 1815,
     "status": "ok",
     "timestamp": 1609821304828,
     "user": {
      "displayName": "Luong Nguyen Van",
      "photoUrl": "https://lh3.googleusercontent.com/a-/AOh14Ghg918fSVz3JA4vqh4kkOEAryW0uPsMzge4R-1Q6Q=s64",
      "userId": "15966365699611063661"
     },
     "user_tz": -420
    },
    "id": "QnnijT0XhVUb",
    "outputId": "dedeb22a-35ae-49b3-c7c8-56c5184b368d"
   },
   "outputs": [
    {
     "name": "stdout",
     "output_type": "stream",
     "text": [
      "INPUT:\n",
      " 820    Rock the Kasbah\n",
      "Name: name, dtype: object\n",
      "\n",
      "\n",
      "OUTPUT:\n",
      "\n",
      " 233     The Silence of the Lambs\n",
      "613           This Is Spinal Tap\n",
      "656               Bound by Honor\n",
      "525                    Lawn Dogs\n",
      "288    Karski i wladcy ludzkosci\n",
      "Name: name, dtype: object\n"
     ]
    }
   ],
   "source": [
    "movie_info = movies\n",
    "\n",
    "in_ = [movie_index]\n",
    "out_ = [i for i in result[1][0][1:]]\n",
    "\n",
    "print('INPUT:\\n', movie_info.loc[in_,:]['name'])\n",
    "print('\\n\\nOUTPUT:\\n\\n', movie_info.loc[out_,:]['name'])"
   ]
  },
  {
   "cell_type": "markdown",
   "metadata": {
    "id": "5uyRzNP6kh_B"
   },
   "source": [
    "# Session-based"
   ]
  },
  {
   "cell_type": "markdown",
   "metadata": {
    "id": "324CDEyok-ow"
   },
   "source": [
    "## Loading model"
   ]
  },
  {
   "cell_type": "code",
   "execution_count": 8,
   "metadata": {
    "colab": {
     "base_uri": "https://localhost:8080/"
    },
    "executionInfo": {
     "elapsed": 1809,
     "status": "ok",
     "timestamp": 1609821304829,
     "user": {
      "displayName": "Luong Nguyen Van",
      "photoUrl": "https://lh3.googleusercontent.com/a-/AOh14Ghg918fSVz3JA4vqh4kkOEAryW0uPsMzge4R-1Q6Q=s64",
      "userId": "15966365699611063661"
     },
     "user_tz": -420
    },
    "id": "HjaIOYbakj0E",
    "outputId": "046b8b5b-9166-43db-8a7f-3bbdcd225c29"
   },
   "outputs": [
    {
     "name": "stdout",
     "output_type": "stream",
     "text": [
      "Word2Vec(vocab=3416, size=64, alpha=0.025)\n"
     ]
    }
   ],
   "source": [
    "from gensim.models import Word2Vec\n",
    "\n",
    "session_model = Word2Vec.load('models_vecsize/64w9_model.model')\n",
    "print(session_model)"
   ]
  },
  {
   "cell_type": "markdown",
   "metadata": {
    "id": "UozroxFBmcnU"
   },
   "source": [
    "## Input"
   ]
  },
  {
   "cell_type": "code",
   "execution_count": 9,
   "metadata": {
    "colab": {
     "base_uri": "https://localhost:8080/"
    },
    "executionInfo": {
     "elapsed": 1803,
     "status": "ok",
     "timestamp": 1609821304830,
     "user": {
      "displayName": "Luong Nguyen Van",
      "photoUrl": "https://lh3.googleusercontent.com/a-/AOh14Ghg918fSVz3JA4vqh4kkOEAryW0uPsMzge4R-1Q6Q=s64",
      "userId": "15966365699611063661"
     },
     "user_tz": -420
    },
    "id": "iRafhrihluvY",
    "outputId": "d16952f2-0e93-48fe-ff6b-674c2d6e437a"
   },
   "outputs": [
    {
     "name": "stdout",
     "output_type": "stream",
     "text": [
      "Current Session: ['2098', '2831', '3668', '2146', '2034']\n"
     ]
    }
   ],
   "source": [
    "import random\n",
    "\n",
    "random.seed(0)\n",
    "l = list(session_model.wv.vocab.keys())\n",
    "\n",
    "cur_session = random.sample(l, 5)\n",
    "print('Current Session:', cur_session)"
   ]
  },
  {
   "cell_type": "markdown",
   "metadata": {
    "id": "eQ2HY8G9mkmp"
   },
   "source": [
    "## Suggesting"
   ]
  },
  {
   "cell_type": "code",
   "execution_count": 10,
   "metadata": {
    "colab": {
     "base_uri": "https://localhost:8080/"
    },
    "executionInfo": {
     "elapsed": 1798,
     "status": "ok",
     "timestamp": 1609821304831,
     "user": {
      "displayName": "Luong Nguyen Van",
      "photoUrl": "https://lh3.googleusercontent.com/a-/AOh14Ghg918fSVz3JA4vqh4kkOEAryW0uPsMzge4R-1Q6Q=s64",
      "userId": "15966365699611063661"
     },
     "user_tz": -420
    },
    "id": "ie2VgvpdmjuB",
    "outputId": "4aaf872c-b553-4376-8004-411b7b60155a"
   },
   "outputs": [
    {
     "name": "stdout",
     "output_type": "stream",
     "text": [
      "['2242', '902', '3073', '1014', '3144', '2942', '1010', '2047', '2079', '2339']\n"
     ]
    }
   ],
   "source": [
    "sug = session_model.wv.most_similar(cur_session, topn=10)\n",
    "sug_ = [ele[0] for ele in sug]\n",
    "print(sug_)"
   ]
  },
  {
   "cell_type": "code",
   "execution_count": 11,
   "metadata": {
    "colab": {
     "base_uri": "https://localhost:8080/"
    },
    "executionInfo": {
     "elapsed": 1792,
     "status": "ok",
     "timestamp": 1609821304832,
     "user": {
      "displayName": "Luong Nguyen Van",
      "photoUrl": "https://lh3.googleusercontent.com/a-/AOh14Ghg918fSVz3JA4vqh4kkOEAryW0uPsMzge4R-1Q6Q=s64",
      "userId": "15966365699611063661"
     },
     "user_tz": -420
    },
    "id": "S_MgKVzSqykB",
    "outputId": "e8395f47-eb39-4d45-9475-3af658e0c769"
   },
   "outputs": [
    {
     "name": "stdout",
     "output_type": "stream",
     "text": [
      "INPUT:\n",
      "\n",
      " 2098        Wrong Man, The (1956)\n",
      "2831             Body Heat (1981)\n",
      "3668    Fun and Fancy Free (1947)\n",
      "2146              Rounders (1998)\n",
      "2034        Dead Zone, The (1983)\n",
      "Name: name, dtype: object\n",
      "\n",
      "\n",
      "OUTPUT:\n",
      "\n",
      " 2242    Tales from the Darkside: The Movie (1990)\n",
      "902                      Wizard of Oz, The (1939)\n",
      "3073                              Magnolia (1999)\n",
      "1014                Fox and the Hound, The (1981)\n",
      "3144                          Saphead, The (1920)\n",
      "2942                            Nighthawks (1981)\n",
      "1010                                 Dumbo (1941)\n",
      "2047           Autumn Sonata (Höstsonaten) (1978)\n",
      "2079        Attack of the Killer Tomatoes! (1978)\n",
      "2339                       You've Got Mail (1998)\n",
      "Name: name, dtype: object\n"
     ]
    }
   ],
   "source": [
    "in_ = [int(i) for i in (cur_session)]\n",
    "out_ = [int(i) for i in (sug_)]\n",
    "\n",
    "movie_info = movies_\n",
    "\n",
    "print('INPUT:\\n\\n', movie_info.loc[in_,:]['name'])\n",
    "print('\\n\\nOUTPUT:\\n\\n', movie_info.loc[out_,:]['name'])"
   ]
  }
 ],
 "metadata": {
  "colab": {
   "authorship_tag": "ABX9TyOyyctfB8Jk8KI0Gs9uT5hV",
   "collapsed_sections": [
    "-xCfXV-50xnJ",
    "quaP1hyvg7ym",
    "IeXkVTUSgvwg",
    "Ljq9KdJyhfzx",
    "324CDEyok-ow",
    "UozroxFBmcnU"
   ],
   "name": "movie_demo.ipynb",
   "provenance": [],
   "toc_visible": true
  },
  "kernelspec": {
   "display_name": "Python 3",
   "language": "python",
   "name": "python3"
  },
  "language_info": {
   "codemirror_mode": {
    "name": "ipython",
    "version": 3
   },
   "file_extension": ".py",
   "mimetype": "text/x-python",
   "name": "python",
   "nbconvert_exporter": "python",
   "pygments_lexer": "ipython3",
   "version": "3.6.12"
  }
 },
 "nbformat": 4,
 "nbformat_minor": 4
}
